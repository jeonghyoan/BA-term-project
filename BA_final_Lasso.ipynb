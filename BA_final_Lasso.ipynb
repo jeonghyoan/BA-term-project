{
 "cells": [
  {
   "cell_type": "markdown",
   "id": "7035bfaa",
   "metadata": {},
   "source": [
    "# Business Analytics Team Project_Team4\n",
    "\n",
    "## Cabbage price prediction\n"
   ]
  },
  {
   "cell_type": "code",
   "execution_count": 1,
   "id": "77cd92a0",
   "metadata": {},
   "outputs": [
    {
     "name": "stdout",
     "output_type": "stream",
     "text": [
      "['12상.csv', '13상.csv', '14상.csv', '15상.csv', '16상.csv', '17상.csv', '18상.csv', '19상.csv', '20상.csv', '21상.csv', '22상.csv']\n"
     ]
    }
   ],
   "source": [
    "import pandas as pd\n",
    "import numpy as np\n",
    "import os\n",
    "\n",
    "# read_csv 파일 불러오기\n",
    "#data load\n",
    "d_temp = pd.read_csv(r\"D:\\파일\\3학년\\3-2\\Business Analytics\\팀플\\데이터\\전국_일별기온.csv\", sep=',', encoding='cp949',thousands = ',')\n",
    "d_rain = pd.read_csv(r\"D:\\파일\\3학년\\3-2\\Business Analytics\\팀플\\데이터\\전국_일별강수량.csv\", sep=',', encoding='cp949',thousands = ',')\n",
    "m_price = pd.read_csv(r\"D:\\파일\\3학년\\3-2\\Business Analytics\\팀플\\데이터\\월간_소비자물가지수.csv\", sep=',', encoding='cp949',thousands = ',')\n",
    "m_trade = pd.read_csv(r\"D:\\파일\\3학년\\3-2\\Business Analytics\\팀플\\데이터\\월간_수출수입.csv\", sep=',', encoding='cp949',thousands = ',')\n",
    "y_produce=pd.read_csv(r\"D:\\파일\\3학년\\3-2\\Business Analytics\\팀플\\데이터\\연간_생산면적생산량.csv\", sep=',', encoding='cp949',thousands = ',')\n",
    "\n",
    "folders = os.listdir('D:/파일/3학년/3-2/Business Analytics/팀플/데이터/배추가격')\n",
    "print(folders)"
   ]
  },
  {
   "cell_type": "code",
   "execution_count": 2,
   "id": "d2ecb8b4",
   "metadata": {},
   "outputs": [
    {
     "data": {
      "text/html": [
       "<div>\n",
       "<style scoped>\n",
       "    .dataframe tbody tr th:only-of-type {\n",
       "        vertical-align: middle;\n",
       "    }\n",
       "\n",
       "    .dataframe tbody tr th {\n",
       "        vertical-align: top;\n",
       "    }\n",
       "\n",
       "    .dataframe thead th {\n",
       "        text-align: right;\n",
       "    }\n",
       "</style>\n",
       "<table border=\"1\" class=\"dataframe\">\n",
       "  <thead>\n",
       "    <tr style=\"text-align: right;\">\n",
       "      <th></th>\n",
       "      <th>구분</th>\n",
       "      <th>평균</th>\n",
       "    </tr>\n",
       "  </thead>\n",
       "  <tbody>\n",
       "    <tr>\n",
       "      <th>0</th>\n",
       "      <td>2012-01-02</td>\n",
       "      <td>3100</td>\n",
       "    </tr>\n",
       "    <tr>\n",
       "      <th>1</th>\n",
       "      <td>2012-01-03</td>\n",
       "      <td>3100</td>\n",
       "    </tr>\n",
       "    <tr>\n",
       "      <th>2</th>\n",
       "      <td>2012-01-04</td>\n",
       "      <td>3200</td>\n",
       "    </tr>\n",
       "    <tr>\n",
       "      <th>3</th>\n",
       "      <td>2012-01-05</td>\n",
       "      <td>3800</td>\n",
       "    </tr>\n",
       "    <tr>\n",
       "      <th>4</th>\n",
       "      <td>2012-01-06</td>\n",
       "      <td>3800</td>\n",
       "    </tr>\n",
       "    <tr>\n",
       "      <th>...</th>\n",
       "      <td>...</td>\n",
       "      <td>...</td>\n",
       "    </tr>\n",
       "    <tr>\n",
       "      <th>207</th>\n",
       "      <td>2022-11-07</td>\n",
       "      <td>7997</td>\n",
       "    </tr>\n",
       "    <tr>\n",
       "      <th>208</th>\n",
       "      <td>2022-11-08</td>\n",
       "      <td>7860</td>\n",
       "    </tr>\n",
       "    <tr>\n",
       "      <th>209</th>\n",
       "      <td>2022-11-09</td>\n",
       "      <td>7460</td>\n",
       "    </tr>\n",
       "    <tr>\n",
       "      <th>210</th>\n",
       "      <td>2022-11-10</td>\n",
       "      <td>7664</td>\n",
       "    </tr>\n",
       "    <tr>\n",
       "      <th>211</th>\n",
       "      <td>2022-11-11</td>\n",
       "      <td>7704</td>\n",
       "    </tr>\n",
       "  </tbody>\n",
       "</table>\n",
       "<p>2675 rows × 2 columns</p>\n",
       "</div>"
      ],
      "text/plain": [
       "             구분    평균\n",
       "0    2012-01-02  3100\n",
       "1    2012-01-03  3100\n",
       "2    2012-01-04  3200\n",
       "3    2012-01-05  3800\n",
       "4    2012-01-06  3800\n",
       "..          ...   ...\n",
       "207  2022-11-07  7997\n",
       "208  2022-11-08  7860\n",
       "209  2022-11-09  7460\n",
       "210  2022-11-10  7664\n",
       "211  2022-11-11  7704\n",
       "\n",
       "[2675 rows x 2 columns]"
      ]
     },
     "execution_count": 2,
     "metadata": {},
     "output_type": "execute_result"
    }
   ],
   "source": [
    "#merge data\n",
    "\n",
    "d_price = pd.DataFrame()\n",
    "for i in range(0,len(folders)):\n",
    "    if folders[i].split('.')[1] == 'csv':\n",
    "        file = 'D:/파일/3학년/3-2/Business Analytics/팀플/데이터/배추가격/' + folders[i]\n",
    "        df= pd.read_csv(file, encoding='cp949',thousands = ',') \n",
    "        d_price = pd.concat([d_price, df])\n",
    "\n",
    "d_price "
   ]
  },
  {
   "cell_type": "code",
   "execution_count": 3,
   "id": "49938e40",
   "metadata": {},
   "outputs": [
    {
     "data": {
      "text/html": [
       "<div>\n",
       "<style scoped>\n",
       "    .dataframe tbody tr th:only-of-type {\n",
       "        vertical-align: middle;\n",
       "    }\n",
       "\n",
       "    .dataframe tbody tr th {\n",
       "        vertical-align: top;\n",
       "    }\n",
       "\n",
       "    .dataframe thead th {\n",
       "        text-align: right;\n",
       "    }\n",
       "</style>\n",
       "<table border=\"1\" class=\"dataframe\">\n",
       "  <thead>\n",
       "    <tr style=\"text-align: right;\">\n",
       "      <th></th>\n",
       "      <th>구분</th>\n",
       "      <th>평균배추가격</th>\n",
       "      <th>지점</th>\n",
       "      <th>평균기온(℃)</th>\n",
       "      <th>최저기온(℃)</th>\n",
       "      <th>최고기온(℃)</th>\n",
       "      <th>강수량(mm)</th>\n",
       "    </tr>\n",
       "  </thead>\n",
       "  <tbody>\n",
       "    <tr>\n",
       "      <th>0</th>\n",
       "      <td>2012-01-02</td>\n",
       "      <td>3100</td>\n",
       "      <td>전국</td>\n",
       "      <td>-2.8</td>\n",
       "      <td>-7.5</td>\n",
       "      <td>2.6</td>\n",
       "      <td>0.0</td>\n",
       "    </tr>\n",
       "    <tr>\n",
       "      <th>1</th>\n",
       "      <td>2012-01-03</td>\n",
       "      <td>3100</td>\n",
       "      <td>전국</td>\n",
       "      <td>-1.9</td>\n",
       "      <td>-5.8</td>\n",
       "      <td>2.8</td>\n",
       "      <td>0.7</td>\n",
       "    </tr>\n",
       "    <tr>\n",
       "      <th>2</th>\n",
       "      <td>2012-01-04</td>\n",
       "      <td>3200</td>\n",
       "      <td>전국</td>\n",
       "      <td>-4.0</td>\n",
       "      <td>-6.6</td>\n",
       "      <td>-1.0</td>\n",
       "      <td>0.8</td>\n",
       "    </tr>\n",
       "    <tr>\n",
       "      <th>3</th>\n",
       "      <td>2012-01-05</td>\n",
       "      <td>3800</td>\n",
       "      <td>전국</td>\n",
       "      <td>-4.1</td>\n",
       "      <td>-8.7</td>\n",
       "      <td>1.5</td>\n",
       "      <td>0.0</td>\n",
       "    </tr>\n",
       "    <tr>\n",
       "      <th>4</th>\n",
       "      <td>2012-01-06</td>\n",
       "      <td>3800</td>\n",
       "      <td>전국</td>\n",
       "      <td>-2.6</td>\n",
       "      <td>-7.8</td>\n",
       "      <td>3.7</td>\n",
       "      <td>0.0</td>\n",
       "    </tr>\n",
       "    <tr>\n",
       "      <th>...</th>\n",
       "      <td>...</td>\n",
       "      <td>...</td>\n",
       "      <td>...</td>\n",
       "      <td>...</td>\n",
       "      <td>...</td>\n",
       "      <td>...</td>\n",
       "      <td>...</td>\n",
       "    </tr>\n",
       "    <tr>\n",
       "      <th>2670</th>\n",
       "      <td>2022-11-07</td>\n",
       "      <td>7997</td>\n",
       "      <td>전국</td>\n",
       "      <td>9.1</td>\n",
       "      <td>2.1</td>\n",
       "      <td>17.2</td>\n",
       "      <td>0.0</td>\n",
       "    </tr>\n",
       "    <tr>\n",
       "      <th>2671</th>\n",
       "      <td>2022-11-08</td>\n",
       "      <td>7860</td>\n",
       "      <td>전국</td>\n",
       "      <td>10.4</td>\n",
       "      <td>4.4</td>\n",
       "      <td>18.5</td>\n",
       "      <td>0.0</td>\n",
       "    </tr>\n",
       "    <tr>\n",
       "      <th>2672</th>\n",
       "      <td>2022-11-09</td>\n",
       "      <td>7460</td>\n",
       "      <td>전국</td>\n",
       "      <td>10.2</td>\n",
       "      <td>3.6</td>\n",
       "      <td>18.1</td>\n",
       "      <td>0.0</td>\n",
       "    </tr>\n",
       "    <tr>\n",
       "      <th>2673</th>\n",
       "      <td>2022-11-10</td>\n",
       "      <td>7664</td>\n",
       "      <td>전국</td>\n",
       "      <td>11.8</td>\n",
       "      <td>5.5</td>\n",
       "      <td>19.9</td>\n",
       "      <td>0.0</td>\n",
       "    </tr>\n",
       "    <tr>\n",
       "      <th>2674</th>\n",
       "      <td>2022-11-11</td>\n",
       "      <td>7704</td>\n",
       "      <td>전국</td>\n",
       "      <td>13.4</td>\n",
       "      <td>7.4</td>\n",
       "      <td>21.1</td>\n",
       "      <td>0.0</td>\n",
       "    </tr>\n",
       "  </tbody>\n",
       "</table>\n",
       "<p>2675 rows × 7 columns</p>\n",
       "</div>"
      ],
      "text/plain": [
       "              구분  평균배추가격  지점  평균기온(℃)  최저기온(℃)  최고기온(℃)  강수량(mm)\n",
       "0     2012-01-02    3100  전국     -2.8     -7.5      2.6      0.0\n",
       "1     2012-01-03    3100  전국     -1.9     -5.8      2.8      0.7\n",
       "2     2012-01-04    3200  전국     -4.0     -6.6     -1.0      0.8\n",
       "3     2012-01-05    3800  전국     -4.1     -8.7      1.5      0.0\n",
       "4     2012-01-06    3800  전국     -2.6     -7.8      3.7      0.0\n",
       "...          ...     ...  ..      ...      ...      ...      ...\n",
       "2670  2022-11-07    7997  전국      9.1      2.1     17.2      0.0\n",
       "2671  2022-11-08    7860  전국     10.4      4.4     18.5      0.0\n",
       "2672  2022-11-09    7460  전국     10.2      3.6     18.1      0.0\n",
       "2673  2022-11-10    7664  전국     11.8      5.5     19.9      0.0\n",
       "2674  2022-11-11    7704  전국     13.4      7.4     21.1      0.0\n",
       "\n",
       "[2675 rows x 7 columns]"
      ]
     },
     "execution_count": 3,
     "metadata": {},
     "output_type": "execute_result"
    }
   ],
   "source": [
    "d_rain.rename(columns={'날짜':'구분'}, inplace = True)\n",
    "d_price.rename(columns={'평균':'평균배추가격'}, inplace = True)\n",
    "\n",
    "d1 = pd.merge(d_price, d_temp, on = '구분', how = 'left')\n",
    "d2 = pd.merge(d1,d_rain,on = '구분', how = 'left')\n",
    "\n",
    "d2"
   ]
  },
  {
   "cell_type": "code",
   "execution_count": 4,
   "id": "7e1c080d",
   "metadata": {},
   "outputs": [
    {
     "data": {
      "text/html": [
       "<div>\n",
       "<style scoped>\n",
       "    .dataframe tbody tr th:only-of-type {\n",
       "        vertical-align: middle;\n",
       "    }\n",
       "\n",
       "    .dataframe tbody tr th {\n",
       "        vertical-align: top;\n",
       "    }\n",
       "\n",
       "    .dataframe thead th {\n",
       "        text-align: right;\n",
       "    }\n",
       "</style>\n",
       "<table border=\"1\" class=\"dataframe\">\n",
       "  <thead>\n",
       "    <tr style=\"text-align: right;\">\n",
       "      <th></th>\n",
       "      <th>평균배추가격</th>\n",
       "      <th>지점</th>\n",
       "      <th>평균기온(℃)</th>\n",
       "      <th>최저기온(℃)</th>\n",
       "      <th>최고기온(℃)</th>\n",
       "      <th>강수량(mm)</th>\n",
       "      <th>Year</th>\n",
       "      <th>Month</th>\n",
       "      <th>Day</th>\n",
       "    </tr>\n",
       "  </thead>\n",
       "  <tbody>\n",
       "    <tr>\n",
       "      <th>0</th>\n",
       "      <td>3100</td>\n",
       "      <td>전국</td>\n",
       "      <td>-2.8</td>\n",
       "      <td>-7.5</td>\n",
       "      <td>2.6</td>\n",
       "      <td>0.0</td>\n",
       "      <td>2012</td>\n",
       "      <td>1</td>\n",
       "      <td>2</td>\n",
       "    </tr>\n",
       "    <tr>\n",
       "      <th>1</th>\n",
       "      <td>3100</td>\n",
       "      <td>전국</td>\n",
       "      <td>-1.9</td>\n",
       "      <td>-5.8</td>\n",
       "      <td>2.8</td>\n",
       "      <td>0.7</td>\n",
       "      <td>2012</td>\n",
       "      <td>1</td>\n",
       "      <td>3</td>\n",
       "    </tr>\n",
       "    <tr>\n",
       "      <th>2</th>\n",
       "      <td>3200</td>\n",
       "      <td>전국</td>\n",
       "      <td>-4.0</td>\n",
       "      <td>-6.6</td>\n",
       "      <td>-1.0</td>\n",
       "      <td>0.8</td>\n",
       "      <td>2012</td>\n",
       "      <td>1</td>\n",
       "      <td>4</td>\n",
       "    </tr>\n",
       "    <tr>\n",
       "      <th>3</th>\n",
       "      <td>3800</td>\n",
       "      <td>전국</td>\n",
       "      <td>-4.1</td>\n",
       "      <td>-8.7</td>\n",
       "      <td>1.5</td>\n",
       "      <td>0.0</td>\n",
       "      <td>2012</td>\n",
       "      <td>1</td>\n",
       "      <td>5</td>\n",
       "    </tr>\n",
       "    <tr>\n",
       "      <th>4</th>\n",
       "      <td>3800</td>\n",
       "      <td>전국</td>\n",
       "      <td>-2.6</td>\n",
       "      <td>-7.8</td>\n",
       "      <td>3.7</td>\n",
       "      <td>0.0</td>\n",
       "      <td>2012</td>\n",
       "      <td>1</td>\n",
       "      <td>6</td>\n",
       "    </tr>\n",
       "    <tr>\n",
       "      <th>...</th>\n",
       "      <td>...</td>\n",
       "      <td>...</td>\n",
       "      <td>...</td>\n",
       "      <td>...</td>\n",
       "      <td>...</td>\n",
       "      <td>...</td>\n",
       "      <td>...</td>\n",
       "      <td>...</td>\n",
       "      <td>...</td>\n",
       "    </tr>\n",
       "    <tr>\n",
       "      <th>2670</th>\n",
       "      <td>7997</td>\n",
       "      <td>전국</td>\n",
       "      <td>9.1</td>\n",
       "      <td>2.1</td>\n",
       "      <td>17.2</td>\n",
       "      <td>0.0</td>\n",
       "      <td>2022</td>\n",
       "      <td>11</td>\n",
       "      <td>7</td>\n",
       "    </tr>\n",
       "    <tr>\n",
       "      <th>2671</th>\n",
       "      <td>7860</td>\n",
       "      <td>전국</td>\n",
       "      <td>10.4</td>\n",
       "      <td>4.4</td>\n",
       "      <td>18.5</td>\n",
       "      <td>0.0</td>\n",
       "      <td>2022</td>\n",
       "      <td>11</td>\n",
       "      <td>8</td>\n",
       "    </tr>\n",
       "    <tr>\n",
       "      <th>2672</th>\n",
       "      <td>7460</td>\n",
       "      <td>전국</td>\n",
       "      <td>10.2</td>\n",
       "      <td>3.6</td>\n",
       "      <td>18.1</td>\n",
       "      <td>0.0</td>\n",
       "      <td>2022</td>\n",
       "      <td>11</td>\n",
       "      <td>9</td>\n",
       "    </tr>\n",
       "    <tr>\n",
       "      <th>2673</th>\n",
       "      <td>7664</td>\n",
       "      <td>전국</td>\n",
       "      <td>11.8</td>\n",
       "      <td>5.5</td>\n",
       "      <td>19.9</td>\n",
       "      <td>0.0</td>\n",
       "      <td>2022</td>\n",
       "      <td>11</td>\n",
       "      <td>10</td>\n",
       "    </tr>\n",
       "    <tr>\n",
       "      <th>2674</th>\n",
       "      <td>7704</td>\n",
       "      <td>전국</td>\n",
       "      <td>13.4</td>\n",
       "      <td>7.4</td>\n",
       "      <td>21.1</td>\n",
       "      <td>0.0</td>\n",
       "      <td>2022</td>\n",
       "      <td>11</td>\n",
       "      <td>11</td>\n",
       "    </tr>\n",
       "  </tbody>\n",
       "</table>\n",
       "<p>2675 rows × 9 columns</p>\n",
       "</div>"
      ],
      "text/plain": [
       "      평균배추가격  지점  평균기온(℃)  최저기온(℃)  최고기온(℃)  강수량(mm)  Year  Month  Day\n",
       "0       3100  전국     -2.8     -7.5      2.6      0.0  2012      1    2\n",
       "1       3100  전국     -1.9     -5.8      2.8      0.7  2012      1    3\n",
       "2       3200  전국     -4.0     -6.6     -1.0      0.8  2012      1    4\n",
       "3       3800  전국     -4.1     -8.7      1.5      0.0  2012      1    5\n",
       "4       3800  전국     -2.6     -7.8      3.7      0.0  2012      1    6\n",
       "...      ...  ..      ...      ...      ...      ...   ...    ...  ...\n",
       "2670    7997  전국      9.1      2.1     17.2      0.0  2022     11    7\n",
       "2671    7860  전국     10.4      4.4     18.5      0.0  2022     11    8\n",
       "2672    7460  전국     10.2      3.6     18.1      0.0  2022     11    9\n",
       "2673    7664  전국     11.8      5.5     19.9      0.0  2022     11   10\n",
       "2674    7704  전국     13.4      7.4     21.1      0.0  2022     11   11\n",
       "\n",
       "[2675 rows x 9 columns]"
      ]
     },
     "execution_count": 4,
     "metadata": {},
     "output_type": "execute_result"
    }
   ],
   "source": [
    "d2['Year'] = pd.DatetimeIndex(d2['구분']).year\n",
    "d2['Month'] = pd.DatetimeIndex(d2['구분']).month\n",
    "d2['Day'] = pd.DatetimeIndex(d2['구분']).day\n",
    "d2 = d2.drop(['구분'], axis = 1)\n",
    "\n",
    "d2"
   ]
  },
  {
   "cell_type": "code",
   "execution_count": 5,
   "id": "a727e9fc",
   "metadata": {},
   "outputs": [
    {
     "data": {
      "text/html": [
       "<div>\n",
       "<style scoped>\n",
       "    .dataframe tbody tr th:only-of-type {\n",
       "        vertical-align: middle;\n",
       "    }\n",
       "\n",
       "    .dataframe tbody tr th {\n",
       "        vertical-align: top;\n",
       "    }\n",
       "\n",
       "    .dataframe thead th {\n",
       "        text-align: right;\n",
       "    }\n",
       "</style>\n",
       "<table border=\"1\" class=\"dataframe\">\n",
       "  <thead>\n",
       "    <tr style=\"text-align: right;\">\n",
       "      <th></th>\n",
       "      <th>Year</th>\n",
       "      <th>생산면적 (ha)</th>\n",
       "      <th>생산량 (톤)</th>\n",
       "    </tr>\n",
       "  </thead>\n",
       "  <tbody>\n",
       "    <tr>\n",
       "      <th>0</th>\n",
       "      <td>2022</td>\n",
       "      <td>23853</td>\n",
       "      <td>NaN</td>\n",
       "    </tr>\n",
       "    <tr>\n",
       "      <th>1</th>\n",
       "      <td>2021</td>\n",
       "      <td>30085</td>\n",
       "      <td>2017507.0</td>\n",
       "    </tr>\n",
       "    <tr>\n",
       "      <th>2</th>\n",
       "      <td>2020</td>\n",
       "      <td>30949</td>\n",
       "      <td>2242640.0</td>\n",
       "    </tr>\n",
       "    <tr>\n",
       "      <th>3</th>\n",
       "      <td>2019</td>\n",
       "      <td>25837</td>\n",
       "      <td>1859705.0</td>\n",
       "    </tr>\n",
       "    <tr>\n",
       "      <th>4</th>\n",
       "      <td>2018</td>\n",
       "      <td>31143</td>\n",
       "      <td>2391946.0</td>\n",
       "    </tr>\n",
       "    <tr>\n",
       "      <th>5</th>\n",
       "      <td>2017</td>\n",
       "      <td>32416</td>\n",
       "      <td>2395686.0</td>\n",
       "    </tr>\n",
       "    <tr>\n",
       "      <th>6</th>\n",
       "      <td>2016</td>\n",
       "      <td>24902</td>\n",
       "      <td>1793391.0</td>\n",
       "    </tr>\n",
       "    <tr>\n",
       "      <th>7</th>\n",
       "      <td>2015</td>\n",
       "      <td>27174</td>\n",
       "      <td>2134976.0</td>\n",
       "    </tr>\n",
       "    <tr>\n",
       "      <th>8</th>\n",
       "      <td>2014</td>\n",
       "      <td>32027</td>\n",
       "      <td>2538804.0</td>\n",
       "    </tr>\n",
       "    <tr>\n",
       "      <th>9</th>\n",
       "      <td>2013</td>\n",
       "      <td>32020</td>\n",
       "      <td>2299251.0</td>\n",
       "    </tr>\n",
       "    <tr>\n",
       "      <th>10</th>\n",
       "      <td>2012</td>\n",
       "      <td>29524</td>\n",
       "      <td>2001642.0</td>\n",
       "    </tr>\n",
       "  </tbody>\n",
       "</table>\n",
       "</div>"
      ],
      "text/plain": [
       "    Year  생산면적 (ha)    생산량 (톤)\n",
       "0   2022      23853        NaN\n",
       "1   2021      30085  2017507.0\n",
       "2   2020      30949  2242640.0\n",
       "3   2019      25837  1859705.0\n",
       "4   2018      31143  2391946.0\n",
       "5   2017      32416  2395686.0\n",
       "6   2016      24902  1793391.0\n",
       "7   2015      27174  2134976.0\n",
       "8   2014      32027  2538804.0\n",
       "9   2013      32020  2299251.0\n",
       "10  2012      29524  2001642.0"
      ]
     },
     "execution_count": 5,
     "metadata": {},
     "output_type": "execute_result"
    }
   ],
   "source": [
    "y_produce.columns = ['Year','생산면적 (ha)','생산량 (톤)']\n",
    "y_produce['Year']=y_produce['Year'].astype(int)\n",
    "\n",
    "y_produce"
   ]
  },
  {
   "cell_type": "code",
   "execution_count": 6,
   "id": "8bf43afb",
   "metadata": {},
   "outputs": [
    {
     "data": {
      "text/html": [
       "<div>\n",
       "<style scoped>\n",
       "    .dataframe tbody tr th:only-of-type {\n",
       "        vertical-align: middle;\n",
       "    }\n",
       "\n",
       "    .dataframe tbody tr th {\n",
       "        vertical-align: top;\n",
       "    }\n",
       "\n",
       "    .dataframe thead th {\n",
       "        text-align: right;\n",
       "    }\n",
       "</style>\n",
       "<table border=\"1\" class=\"dataframe\">\n",
       "  <thead>\n",
       "    <tr style=\"text-align: right;\">\n",
       "      <th></th>\n",
       "      <th>평균배추가격</th>\n",
       "      <th>지점</th>\n",
       "      <th>평균기온(℃)</th>\n",
       "      <th>최저기온(℃)</th>\n",
       "      <th>최고기온(℃)</th>\n",
       "      <th>강수량(mm)</th>\n",
       "      <th>Year</th>\n",
       "      <th>Month</th>\n",
       "      <th>Day</th>\n",
       "      <th>생산면적 (ha)</th>\n",
       "      <th>생산량 (톤)</th>\n",
       "    </tr>\n",
       "  </thead>\n",
       "  <tbody>\n",
       "    <tr>\n",
       "      <th>0</th>\n",
       "      <td>3100</td>\n",
       "      <td>전국</td>\n",
       "      <td>-2.8</td>\n",
       "      <td>-7.5</td>\n",
       "      <td>2.6</td>\n",
       "      <td>0.0</td>\n",
       "      <td>2012</td>\n",
       "      <td>1</td>\n",
       "      <td>2</td>\n",
       "      <td>29524</td>\n",
       "      <td>2001642.0</td>\n",
       "    </tr>\n",
       "    <tr>\n",
       "      <th>1</th>\n",
       "      <td>3100</td>\n",
       "      <td>전국</td>\n",
       "      <td>-1.9</td>\n",
       "      <td>-5.8</td>\n",
       "      <td>2.8</td>\n",
       "      <td>0.7</td>\n",
       "      <td>2012</td>\n",
       "      <td>1</td>\n",
       "      <td>3</td>\n",
       "      <td>29524</td>\n",
       "      <td>2001642.0</td>\n",
       "    </tr>\n",
       "    <tr>\n",
       "      <th>2</th>\n",
       "      <td>3200</td>\n",
       "      <td>전국</td>\n",
       "      <td>-4.0</td>\n",
       "      <td>-6.6</td>\n",
       "      <td>-1.0</td>\n",
       "      <td>0.8</td>\n",
       "      <td>2012</td>\n",
       "      <td>1</td>\n",
       "      <td>4</td>\n",
       "      <td>29524</td>\n",
       "      <td>2001642.0</td>\n",
       "    </tr>\n",
       "    <tr>\n",
       "      <th>3</th>\n",
       "      <td>3800</td>\n",
       "      <td>전국</td>\n",
       "      <td>-4.1</td>\n",
       "      <td>-8.7</td>\n",
       "      <td>1.5</td>\n",
       "      <td>0.0</td>\n",
       "      <td>2012</td>\n",
       "      <td>1</td>\n",
       "      <td>5</td>\n",
       "      <td>29524</td>\n",
       "      <td>2001642.0</td>\n",
       "    </tr>\n",
       "    <tr>\n",
       "      <th>4</th>\n",
       "      <td>3800</td>\n",
       "      <td>전국</td>\n",
       "      <td>-2.6</td>\n",
       "      <td>-7.8</td>\n",
       "      <td>3.7</td>\n",
       "      <td>0.0</td>\n",
       "      <td>2012</td>\n",
       "      <td>1</td>\n",
       "      <td>6</td>\n",
       "      <td>29524</td>\n",
       "      <td>2001642.0</td>\n",
       "    </tr>\n",
       "    <tr>\n",
       "      <th>...</th>\n",
       "      <td>...</td>\n",
       "      <td>...</td>\n",
       "      <td>...</td>\n",
       "      <td>...</td>\n",
       "      <td>...</td>\n",
       "      <td>...</td>\n",
       "      <td>...</td>\n",
       "      <td>...</td>\n",
       "      <td>...</td>\n",
       "      <td>...</td>\n",
       "      <td>...</td>\n",
       "    </tr>\n",
       "    <tr>\n",
       "      <th>2670</th>\n",
       "      <td>7997</td>\n",
       "      <td>전국</td>\n",
       "      <td>9.1</td>\n",
       "      <td>2.1</td>\n",
       "      <td>17.2</td>\n",
       "      <td>0.0</td>\n",
       "      <td>2022</td>\n",
       "      <td>11</td>\n",
       "      <td>7</td>\n",
       "      <td>23853</td>\n",
       "      <td>NaN</td>\n",
       "    </tr>\n",
       "    <tr>\n",
       "      <th>2671</th>\n",
       "      <td>7860</td>\n",
       "      <td>전국</td>\n",
       "      <td>10.4</td>\n",
       "      <td>4.4</td>\n",
       "      <td>18.5</td>\n",
       "      <td>0.0</td>\n",
       "      <td>2022</td>\n",
       "      <td>11</td>\n",
       "      <td>8</td>\n",
       "      <td>23853</td>\n",
       "      <td>NaN</td>\n",
       "    </tr>\n",
       "    <tr>\n",
       "      <th>2672</th>\n",
       "      <td>7460</td>\n",
       "      <td>전국</td>\n",
       "      <td>10.2</td>\n",
       "      <td>3.6</td>\n",
       "      <td>18.1</td>\n",
       "      <td>0.0</td>\n",
       "      <td>2022</td>\n",
       "      <td>11</td>\n",
       "      <td>9</td>\n",
       "      <td>23853</td>\n",
       "      <td>NaN</td>\n",
       "    </tr>\n",
       "    <tr>\n",
       "      <th>2673</th>\n",
       "      <td>7664</td>\n",
       "      <td>전국</td>\n",
       "      <td>11.8</td>\n",
       "      <td>5.5</td>\n",
       "      <td>19.9</td>\n",
       "      <td>0.0</td>\n",
       "      <td>2022</td>\n",
       "      <td>11</td>\n",
       "      <td>10</td>\n",
       "      <td>23853</td>\n",
       "      <td>NaN</td>\n",
       "    </tr>\n",
       "    <tr>\n",
       "      <th>2674</th>\n",
       "      <td>7704</td>\n",
       "      <td>전국</td>\n",
       "      <td>13.4</td>\n",
       "      <td>7.4</td>\n",
       "      <td>21.1</td>\n",
       "      <td>0.0</td>\n",
       "      <td>2022</td>\n",
       "      <td>11</td>\n",
       "      <td>11</td>\n",
       "      <td>23853</td>\n",
       "      <td>NaN</td>\n",
       "    </tr>\n",
       "  </tbody>\n",
       "</table>\n",
       "<p>2675 rows × 11 columns</p>\n",
       "</div>"
      ],
      "text/plain": [
       "      평균배추가격  지점  평균기온(℃)  최저기온(℃)  최고기온(℃)  강수량(mm)  Year  Month  Day  \\\n",
       "0       3100  전국     -2.8     -7.5      2.6      0.0  2012      1    2   \n",
       "1       3100  전국     -1.9     -5.8      2.8      0.7  2012      1    3   \n",
       "2       3200  전국     -4.0     -6.6     -1.0      0.8  2012      1    4   \n",
       "3       3800  전국     -4.1     -8.7      1.5      0.0  2012      1    5   \n",
       "4       3800  전국     -2.6     -7.8      3.7      0.0  2012      1    6   \n",
       "...      ...  ..      ...      ...      ...      ...   ...    ...  ...   \n",
       "2670    7997  전국      9.1      2.1     17.2      0.0  2022     11    7   \n",
       "2671    7860  전국     10.4      4.4     18.5      0.0  2022     11    8   \n",
       "2672    7460  전국     10.2      3.6     18.1      0.0  2022     11    9   \n",
       "2673    7664  전국     11.8      5.5     19.9      0.0  2022     11   10   \n",
       "2674    7704  전국     13.4      7.4     21.1      0.0  2022     11   11   \n",
       "\n",
       "      생산면적 (ha)    생산량 (톤)  \n",
       "0         29524  2001642.0  \n",
       "1         29524  2001642.0  \n",
       "2         29524  2001642.0  \n",
       "3         29524  2001642.0  \n",
       "4         29524  2001642.0  \n",
       "...         ...        ...  \n",
       "2670      23853        NaN  \n",
       "2671      23853        NaN  \n",
       "2672      23853        NaN  \n",
       "2673      23853        NaN  \n",
       "2674      23853        NaN  \n",
       "\n",
       "[2675 rows x 11 columns]"
      ]
     },
     "execution_count": 6,
     "metadata": {},
     "output_type": "execute_result"
    }
   ],
   "source": [
    "d2=pd.merge(d2, y_produce, how='left')\n",
    "d2"
   ]
  },
  {
   "cell_type": "code",
   "execution_count": 7,
   "id": "7e3cdc48",
   "metadata": {},
   "outputs": [
    {
     "data": {
      "text/html": [
       "<div>\n",
       "<style scoped>\n",
       "    .dataframe tbody tr th:only-of-type {\n",
       "        vertical-align: middle;\n",
       "    }\n",
       "\n",
       "    .dataframe tbody tr th {\n",
       "        vertical-align: top;\n",
       "    }\n",
       "\n",
       "    .dataframe thead th {\n",
       "        text-align: right;\n",
       "    }\n",
       "</style>\n",
       "<table border=\"1\" class=\"dataframe\">\n",
       "  <thead>\n",
       "    <tr style=\"text-align: right;\">\n",
       "      <th></th>\n",
       "      <th>시점</th>\n",
       "      <th>소비자물가지수</th>\n",
       "    </tr>\n",
       "  </thead>\n",
       "  <tbody>\n",
       "    <tr>\n",
       "      <th>0</th>\n",
       "      <td>2022.10</td>\n",
       "      <td>109.210</td>\n",
       "    </tr>\n",
       "    <tr>\n",
       "      <th>1</th>\n",
       "      <td>2022.09</td>\n",
       "      <td>108.930</td>\n",
       "    </tr>\n",
       "    <tr>\n",
       "      <th>2</th>\n",
       "      <td>2022.08</td>\n",
       "      <td>108.620</td>\n",
       "    </tr>\n",
       "    <tr>\n",
       "      <th>3</th>\n",
       "      <td>2022.07</td>\n",
       "      <td>108.740</td>\n",
       "    </tr>\n",
       "    <tr>\n",
       "      <th>4</th>\n",
       "      <td>2022.06</td>\n",
       "      <td>108.220</td>\n",
       "    </tr>\n",
       "    <tr>\n",
       "      <th>...</th>\n",
       "      <td>...</td>\n",
       "      <td>...</td>\n",
       "    </tr>\n",
       "    <tr>\n",
       "      <th>125</th>\n",
       "      <td>2012.05</td>\n",
       "      <td>91.769</td>\n",
       "    </tr>\n",
       "    <tr>\n",
       "      <th>126</th>\n",
       "      <td>2012.04</td>\n",
       "      <td>91.605</td>\n",
       "    </tr>\n",
       "    <tr>\n",
       "      <th>127</th>\n",
       "      <td>2012.03</td>\n",
       "      <td>91.614</td>\n",
       "    </tr>\n",
       "    <tr>\n",
       "      <th>128</th>\n",
       "      <td>2012.02</td>\n",
       "      <td>91.588</td>\n",
       "    </tr>\n",
       "    <tr>\n",
       "      <th>129</th>\n",
       "      <td>2012.01</td>\n",
       "      <td>91.242</td>\n",
       "    </tr>\n",
       "  </tbody>\n",
       "</table>\n",
       "<p>130 rows × 2 columns</p>\n",
       "</div>"
      ],
      "text/plain": [
       "          시점  소비자물가지수\n",
       "0    2022.10  109.210\n",
       "1    2022.09  108.930\n",
       "2    2022.08  108.620\n",
       "3    2022.07  108.740\n",
       "4    2022.06  108.220\n",
       "..       ...      ...\n",
       "125  2012.05   91.769\n",
       "126  2012.04   91.605\n",
       "127  2012.03   91.614\n",
       "128  2012.02   91.588\n",
       "129  2012.01   91.242\n",
       "\n",
       "[130 rows x 2 columns]"
      ]
     },
     "execution_count": 7,
     "metadata": {},
     "output_type": "execute_result"
    }
   ],
   "source": [
    "m_price"
   ]
  },
  {
   "cell_type": "code",
   "execution_count": 8,
   "id": "2ca6b80a",
   "metadata": {},
   "outputs": [
    {
     "data": {
      "text/html": [
       "<div>\n",
       "<style scoped>\n",
       "    .dataframe tbody tr th:only-of-type {\n",
       "        vertical-align: middle;\n",
       "    }\n",
       "\n",
       "    .dataframe tbody tr th {\n",
       "        vertical-align: top;\n",
       "    }\n",
       "\n",
       "    .dataframe thead th {\n",
       "        text-align: right;\n",
       "    }\n",
       "</style>\n",
       "<table border=\"1\" class=\"dataframe\">\n",
       "  <thead>\n",
       "    <tr style=\"text-align: right;\">\n",
       "      <th></th>\n",
       "      <th>평균배추가격</th>\n",
       "      <th>지점</th>\n",
       "      <th>평균기온(℃)</th>\n",
       "      <th>최저기온(℃)</th>\n",
       "      <th>최고기온(℃)</th>\n",
       "      <th>강수량(mm)</th>\n",
       "      <th>Year</th>\n",
       "      <th>Month</th>\n",
       "      <th>Day</th>\n",
       "      <th>생산면적 (ha)</th>\n",
       "      <th>생산량 (톤)</th>\n",
       "      <th>소비자물가지수</th>\n",
       "    </tr>\n",
       "  </thead>\n",
       "  <tbody>\n",
       "    <tr>\n",
       "      <th>0</th>\n",
       "      <td>3100</td>\n",
       "      <td>전국</td>\n",
       "      <td>-2.8</td>\n",
       "      <td>-7.5</td>\n",
       "      <td>2.6</td>\n",
       "      <td>0.0</td>\n",
       "      <td>2012</td>\n",
       "      <td>1</td>\n",
       "      <td>2</td>\n",
       "      <td>29524</td>\n",
       "      <td>2001642.0</td>\n",
       "      <td>91.242</td>\n",
       "    </tr>\n",
       "    <tr>\n",
       "      <th>1</th>\n",
       "      <td>3100</td>\n",
       "      <td>전국</td>\n",
       "      <td>-1.9</td>\n",
       "      <td>-5.8</td>\n",
       "      <td>2.8</td>\n",
       "      <td>0.7</td>\n",
       "      <td>2012</td>\n",
       "      <td>1</td>\n",
       "      <td>3</td>\n",
       "      <td>29524</td>\n",
       "      <td>2001642.0</td>\n",
       "      <td>91.242</td>\n",
       "    </tr>\n",
       "    <tr>\n",
       "      <th>2</th>\n",
       "      <td>3200</td>\n",
       "      <td>전국</td>\n",
       "      <td>-4.0</td>\n",
       "      <td>-6.6</td>\n",
       "      <td>-1.0</td>\n",
       "      <td>0.8</td>\n",
       "      <td>2012</td>\n",
       "      <td>1</td>\n",
       "      <td>4</td>\n",
       "      <td>29524</td>\n",
       "      <td>2001642.0</td>\n",
       "      <td>91.242</td>\n",
       "    </tr>\n",
       "    <tr>\n",
       "      <th>3</th>\n",
       "      <td>3800</td>\n",
       "      <td>전국</td>\n",
       "      <td>-4.1</td>\n",
       "      <td>-8.7</td>\n",
       "      <td>1.5</td>\n",
       "      <td>0.0</td>\n",
       "      <td>2012</td>\n",
       "      <td>1</td>\n",
       "      <td>5</td>\n",
       "      <td>29524</td>\n",
       "      <td>2001642.0</td>\n",
       "      <td>91.242</td>\n",
       "    </tr>\n",
       "    <tr>\n",
       "      <th>4</th>\n",
       "      <td>3800</td>\n",
       "      <td>전국</td>\n",
       "      <td>-2.6</td>\n",
       "      <td>-7.8</td>\n",
       "      <td>3.7</td>\n",
       "      <td>0.0</td>\n",
       "      <td>2012</td>\n",
       "      <td>1</td>\n",
       "      <td>6</td>\n",
       "      <td>29524</td>\n",
       "      <td>2001642.0</td>\n",
       "      <td>91.242</td>\n",
       "    </tr>\n",
       "    <tr>\n",
       "      <th>...</th>\n",
       "      <td>...</td>\n",
       "      <td>...</td>\n",
       "      <td>...</td>\n",
       "      <td>...</td>\n",
       "      <td>...</td>\n",
       "      <td>...</td>\n",
       "      <td>...</td>\n",
       "      <td>...</td>\n",
       "      <td>...</td>\n",
       "      <td>...</td>\n",
       "      <td>...</td>\n",
       "      <td>...</td>\n",
       "    </tr>\n",
       "    <tr>\n",
       "      <th>2670</th>\n",
       "      <td>7997</td>\n",
       "      <td>전국</td>\n",
       "      <td>9.1</td>\n",
       "      <td>2.1</td>\n",
       "      <td>17.2</td>\n",
       "      <td>0.0</td>\n",
       "      <td>2022</td>\n",
       "      <td>11</td>\n",
       "      <td>7</td>\n",
       "      <td>23853</td>\n",
       "      <td>NaN</td>\n",
       "      <td>NaN</td>\n",
       "    </tr>\n",
       "    <tr>\n",
       "      <th>2671</th>\n",
       "      <td>7860</td>\n",
       "      <td>전국</td>\n",
       "      <td>10.4</td>\n",
       "      <td>4.4</td>\n",
       "      <td>18.5</td>\n",
       "      <td>0.0</td>\n",
       "      <td>2022</td>\n",
       "      <td>11</td>\n",
       "      <td>8</td>\n",
       "      <td>23853</td>\n",
       "      <td>NaN</td>\n",
       "      <td>NaN</td>\n",
       "    </tr>\n",
       "    <tr>\n",
       "      <th>2672</th>\n",
       "      <td>7460</td>\n",
       "      <td>전국</td>\n",
       "      <td>10.2</td>\n",
       "      <td>3.6</td>\n",
       "      <td>18.1</td>\n",
       "      <td>0.0</td>\n",
       "      <td>2022</td>\n",
       "      <td>11</td>\n",
       "      <td>9</td>\n",
       "      <td>23853</td>\n",
       "      <td>NaN</td>\n",
       "      <td>NaN</td>\n",
       "    </tr>\n",
       "    <tr>\n",
       "      <th>2673</th>\n",
       "      <td>7664</td>\n",
       "      <td>전국</td>\n",
       "      <td>11.8</td>\n",
       "      <td>5.5</td>\n",
       "      <td>19.9</td>\n",
       "      <td>0.0</td>\n",
       "      <td>2022</td>\n",
       "      <td>11</td>\n",
       "      <td>10</td>\n",
       "      <td>23853</td>\n",
       "      <td>NaN</td>\n",
       "      <td>NaN</td>\n",
       "    </tr>\n",
       "    <tr>\n",
       "      <th>2674</th>\n",
       "      <td>7704</td>\n",
       "      <td>전국</td>\n",
       "      <td>13.4</td>\n",
       "      <td>7.4</td>\n",
       "      <td>21.1</td>\n",
       "      <td>0.0</td>\n",
       "      <td>2022</td>\n",
       "      <td>11</td>\n",
       "      <td>11</td>\n",
       "      <td>23853</td>\n",
       "      <td>NaN</td>\n",
       "      <td>NaN</td>\n",
       "    </tr>\n",
       "  </tbody>\n",
       "</table>\n",
       "<p>2675 rows × 12 columns</p>\n",
       "</div>"
      ],
      "text/plain": [
       "      평균배추가격  지점  평균기온(℃)  최저기온(℃)  최고기온(℃)  강수량(mm)  Year  Month  Day  \\\n",
       "0       3100  전국     -2.8     -7.5      2.6      0.0  2012      1    2   \n",
       "1       3100  전국     -1.9     -5.8      2.8      0.7  2012      1    3   \n",
       "2       3200  전국     -4.0     -6.6     -1.0      0.8  2012      1    4   \n",
       "3       3800  전국     -4.1     -8.7      1.5      0.0  2012      1    5   \n",
       "4       3800  전국     -2.6     -7.8      3.7      0.0  2012      1    6   \n",
       "...      ...  ..      ...      ...      ...      ...   ...    ...  ...   \n",
       "2670    7997  전국      9.1      2.1     17.2      0.0  2022     11    7   \n",
       "2671    7860  전국     10.4      4.4     18.5      0.0  2022     11    8   \n",
       "2672    7460  전국     10.2      3.6     18.1      0.0  2022     11    9   \n",
       "2673    7664  전국     11.8      5.5     19.9      0.0  2022     11   10   \n",
       "2674    7704  전국     13.4      7.4     21.1      0.0  2022     11   11   \n",
       "\n",
       "      생산면적 (ha)    생산량 (톤)  소비자물가지수  \n",
       "0         29524  2001642.0   91.242  \n",
       "1         29524  2001642.0   91.242  \n",
       "2         29524  2001642.0   91.242  \n",
       "3         29524  2001642.0   91.242  \n",
       "4         29524  2001642.0   91.242  \n",
       "...         ...        ...      ...  \n",
       "2670      23853        NaN      NaN  \n",
       "2671      23853        NaN      NaN  \n",
       "2672      23853        NaN      NaN  \n",
       "2673      23853        NaN      NaN  \n",
       "2674      23853        NaN      NaN  \n",
       "\n",
       "[2675 rows x 12 columns]"
      ]
     },
     "execution_count": 8,
     "metadata": {},
     "output_type": "execute_result"
    }
   ],
   "source": [
    "m_price['시점']=m_price['시점'].astype(str)\n",
    "\n",
    "m_price['Year'] = m_price.시점.str.split('.').str[0]\n",
    "m_price['Month'] = m_price.시점.str.split('.').str[1]\n",
    "m_price.loc[m_price['Month'] == '1', 'Month'] = '10'\n",
    "m_price.drop('시점', axis=1, inplace=True)\n",
    "\n",
    "m_price['Year']=m_price['Year'].astype(int)\n",
    "m_price['Month']=m_price['Month'].astype(int)\n",
    "d2=pd.merge(d2,m_price, how='left')\n",
    "\n",
    "d2"
   ]
  },
  {
   "cell_type": "code",
   "execution_count": 9,
   "id": "c2370f8c",
   "metadata": {},
   "outputs": [
    {
     "name": "stdout",
     "output_type": "stream",
     "text": [
      "<class 'pandas.core.frame.DataFrame'>\n",
      "Int64Index: 2486 entries, 20 to 2646\n",
      "Data columns (total 13 columns):\n",
      " #   Column      Non-Null Count  Dtype  \n",
      "---  ------      --------------  -----  \n",
      " 0   평균배추가격      2486 non-null   int64  \n",
      " 1   평균기온(℃)     2486 non-null   float64\n",
      " 2   최저기온(℃)     2486 non-null   float64\n",
      " 3   최고기온(℃)     2486 non-null   float64\n",
      " 4   강수량(mm)     2486 non-null   float64\n",
      " 5   Month       2486 non-null   int64  \n",
      " 6   생산면적 (ha)   2486 non-null   int64  \n",
      " 7   생산량 (톤)     2486 non-null   float64\n",
      " 8   소비자물가지수     2486 non-null   float64\n",
      " 9   수출액($1000)  2486 non-null   float64\n",
      " 10  수출량(kg)     2486 non-null   float64\n",
      " 11  수입액         2486 non-null   float64\n",
      " 12  수입량         2486 non-null   float64\n",
      "dtypes: float64(10), int64(3)\n",
      "memory usage: 271.9 KB\n"
     ]
    }
   ],
   "source": [
    "#월 표기 형식 변경\n",
    "m_trade.dropna(inplace=True)\n",
    "\n",
    "m_trade['년월']=m_trade['년월'].astype(str)\n",
    "\n",
    "m_trade['Year'] = m_trade.년월.str.split('.').str[0]\n",
    "m_trade['Month'] = m_trade.년월.str.split('.').str[1]\n",
    "\n",
    "m_trade.loc[m_trade['Month'] == '1', 'Month'] = '10'\n",
    "m_trade.drop('년월', axis=1, inplace=True)\n",
    "\n",
    "m_trade['Year']=m_trade['Year'].astype(int)\n",
    "m_trade['Month']=m_trade['Month'].astype(int)\n",
    "\n",
    "\n",
    "#수입액 결측치 제거\n",
    "m_trade.rename(columns={'수입액($1000)':'수입액'}, inplace = True)\n",
    "m_trade.rename(columns={'수입량(kg)':'수입량'}, inplace = True)\n",
    "\n",
    "m_trade['수입액']=m_trade['수입액'].astype(int)\n",
    "m_trade['수입량']=m_trade['수입량'].astype(int)\n",
    "\n",
    "m_trade= m_trade.loc[(m_trade.수입액 != 0) | (m_trade.수입량 == 0)]\n",
    "\n",
    "\n",
    "#일별 데이터, 월별 데이터 합치기\n",
    "d2=pd.merge(d2,m_trade, how='left')\n",
    "\n",
    "d2.dropna(subset=['수출액($1000)'], inplace=True)\n",
    "\n",
    "production_min = d2['생산량 (톤)'].min()\n",
    "d2.fillna(production_min, inplace=True)\n",
    "d2 = d2.drop('Year', axis=1)\n",
    "d2 = d2.drop('Day', axis=1)\n",
    "d2 = d2.drop('지점', axis=1)\n",
    "\n",
    "d2\n",
    "\n",
    "d2.info()"
   ]
  },
  {
   "cell_type": "code",
   "execution_count": 10,
   "id": "e8313df4",
   "metadata": {},
   "outputs": [
    {
     "data": {
      "text/html": [
       "<div>\n",
       "<style scoped>\n",
       "    .dataframe tbody tr th:only-of-type {\n",
       "        vertical-align: middle;\n",
       "    }\n",
       "\n",
       "    .dataframe tbody tr th {\n",
       "        vertical-align: top;\n",
       "    }\n",
       "\n",
       "    .dataframe thead th {\n",
       "        text-align: right;\n",
       "    }\n",
       "</style>\n",
       "<table border=\"1\" class=\"dataframe\">\n",
       "  <thead>\n",
       "    <tr style=\"text-align: right;\">\n",
       "      <th></th>\n",
       "      <th>평균배추가격</th>\n",
       "      <th>평균기온(℃)</th>\n",
       "      <th>최저기온(℃)</th>\n",
       "      <th>최고기온(℃)</th>\n",
       "      <th>강수량(mm)</th>\n",
       "      <th>계절</th>\n",
       "      <th>생산면적 (ha)</th>\n",
       "      <th>생산량 (톤)</th>\n",
       "      <th>소비자물가지수</th>\n",
       "      <th>수출액($1000)</th>\n",
       "      <th>수출량(kg)</th>\n",
       "      <th>수입액($1000)</th>\n",
       "      <th>수입량(kg)</th>\n",
       "    </tr>\n",
       "  </thead>\n",
       "  <tbody>\n",
       "    <tr>\n",
       "      <th>20</th>\n",
       "      <td>3560</td>\n",
       "      <td>-6.5</td>\n",
       "      <td>-10.6</td>\n",
       "      <td>-0.4</td>\n",
       "      <td>0.3</td>\n",
       "      <td>겨울</td>\n",
       "      <td>29524</td>\n",
       "      <td>2001642.0</td>\n",
       "      <td>91.588</td>\n",
       "      <td>102.0</td>\n",
       "      <td>179261.0</td>\n",
       "      <td>0.0</td>\n",
       "      <td>0.0</td>\n",
       "    </tr>\n",
       "    <tr>\n",
       "      <th>21</th>\n",
       "      <td>3740</td>\n",
       "      <td>-10.2</td>\n",
       "      <td>-13.9</td>\n",
       "      <td>-5.7</td>\n",
       "      <td>0.1</td>\n",
       "      <td>겨울</td>\n",
       "      <td>29524</td>\n",
       "      <td>2001642.0</td>\n",
       "      <td>91.588</td>\n",
       "      <td>102.0</td>\n",
       "      <td>179261.0</td>\n",
       "      <td>0.0</td>\n",
       "      <td>0.0</td>\n",
       "    </tr>\n",
       "    <tr>\n",
       "      <th>22</th>\n",
       "      <td>3840</td>\n",
       "      <td>-7.0</td>\n",
       "      <td>-13.7</td>\n",
       "      <td>-0.9</td>\n",
       "      <td>0.0</td>\n",
       "      <td>겨울</td>\n",
       "      <td>29524</td>\n",
       "      <td>2001642.0</td>\n",
       "      <td>91.588</td>\n",
       "      <td>102.0</td>\n",
       "      <td>179261.0</td>\n",
       "      <td>0.0</td>\n",
       "      <td>0.0</td>\n",
       "    </tr>\n",
       "    <tr>\n",
       "      <th>23</th>\n",
       "      <td>4100</td>\n",
       "      <td>1.2</td>\n",
       "      <td>-4.3</td>\n",
       "      <td>6.2</td>\n",
       "      <td>1.6</td>\n",
       "      <td>겨울</td>\n",
       "      <td>29524</td>\n",
       "      <td>2001642.0</td>\n",
       "      <td>91.588</td>\n",
       "      <td>102.0</td>\n",
       "      <td>179261.0</td>\n",
       "      <td>0.0</td>\n",
       "      <td>0.0</td>\n",
       "    </tr>\n",
       "    <tr>\n",
       "      <th>24</th>\n",
       "      <td>4100</td>\n",
       "      <td>-3.7</td>\n",
       "      <td>-8.5</td>\n",
       "      <td>3.0</td>\n",
       "      <td>0.0</td>\n",
       "      <td>겨울</td>\n",
       "      <td>29524</td>\n",
       "      <td>2001642.0</td>\n",
       "      <td>91.588</td>\n",
       "      <td>102.0</td>\n",
       "      <td>179261.0</td>\n",
       "      <td>0.0</td>\n",
       "      <td>0.0</td>\n",
       "    </tr>\n",
       "    <tr>\n",
       "      <th>...</th>\n",
       "      <td>...</td>\n",
       "      <td>...</td>\n",
       "      <td>...</td>\n",
       "      <td>...</td>\n",
       "      <td>...</td>\n",
       "      <td>...</td>\n",
       "      <td>...</td>\n",
       "      <td>...</td>\n",
       "      <td>...</td>\n",
       "      <td>...</td>\n",
       "      <td>...</td>\n",
       "      <td>...</td>\n",
       "      <td>...</td>\n",
       "    </tr>\n",
       "    <tr>\n",
       "      <th>2642</th>\n",
       "      <td>27760</td>\n",
       "      <td>17.8</td>\n",
       "      <td>13.9</td>\n",
       "      <td>23.4</td>\n",
       "      <td>0.0</td>\n",
       "      <td>가을</td>\n",
       "      <td>23853</td>\n",
       "      <td>1793391.0</td>\n",
       "      <td>108.930</td>\n",
       "      <td>33.0</td>\n",
       "      <td>12522.0</td>\n",
       "      <td>627.0</td>\n",
       "      <td>1081765.0</td>\n",
       "    </tr>\n",
       "    <tr>\n",
       "      <th>2643</th>\n",
       "      <td>26720</td>\n",
       "      <td>18.7</td>\n",
       "      <td>13.2</td>\n",
       "      <td>26.3</td>\n",
       "      <td>0.0</td>\n",
       "      <td>가을</td>\n",
       "      <td>23853</td>\n",
       "      <td>1793391.0</td>\n",
       "      <td>108.930</td>\n",
       "      <td>33.0</td>\n",
       "      <td>12522.0</td>\n",
       "      <td>627.0</td>\n",
       "      <td>1081765.0</td>\n",
       "    </tr>\n",
       "    <tr>\n",
       "      <th>2644</th>\n",
       "      <td>25860</td>\n",
       "      <td>18.4</td>\n",
       "      <td>13.5</td>\n",
       "      <td>24.8</td>\n",
       "      <td>0.0</td>\n",
       "      <td>가을</td>\n",
       "      <td>23853</td>\n",
       "      <td>1793391.0</td>\n",
       "      <td>108.930</td>\n",
       "      <td>33.0</td>\n",
       "      <td>12522.0</td>\n",
       "      <td>627.0</td>\n",
       "      <td>1081765.0</td>\n",
       "    </tr>\n",
       "    <tr>\n",
       "      <th>2645</th>\n",
       "      <td>24640</td>\n",
       "      <td>18.6</td>\n",
       "      <td>13.5</td>\n",
       "      <td>26.4</td>\n",
       "      <td>0.0</td>\n",
       "      <td>가을</td>\n",
       "      <td>23853</td>\n",
       "      <td>1793391.0</td>\n",
       "      <td>108.930</td>\n",
       "      <td>33.0</td>\n",
       "      <td>12522.0</td>\n",
       "      <td>627.0</td>\n",
       "      <td>1081765.0</td>\n",
       "    </tr>\n",
       "    <tr>\n",
       "      <th>2646</th>\n",
       "      <td>23740</td>\n",
       "      <td>18.9</td>\n",
       "      <td>12.7</td>\n",
       "      <td>27.6</td>\n",
       "      <td>0.0</td>\n",
       "      <td>가을</td>\n",
       "      <td>23853</td>\n",
       "      <td>1793391.0</td>\n",
       "      <td>108.930</td>\n",
       "      <td>33.0</td>\n",
       "      <td>12522.0</td>\n",
       "      <td>627.0</td>\n",
       "      <td>1081765.0</td>\n",
       "    </tr>\n",
       "  </tbody>\n",
       "</table>\n",
       "<p>2486 rows × 13 columns</p>\n",
       "</div>"
      ],
      "text/plain": [
       "      평균배추가격  평균기온(℃)  최저기온(℃)  최고기온(℃)  강수량(mm)  계절  생산면적 (ha)    생산량 (톤)  \\\n",
       "20      3560     -6.5    -10.6     -0.4      0.3  겨울      29524  2001642.0   \n",
       "21      3740    -10.2    -13.9     -5.7      0.1  겨울      29524  2001642.0   \n",
       "22      3840     -7.0    -13.7     -0.9      0.0  겨울      29524  2001642.0   \n",
       "23      4100      1.2     -4.3      6.2      1.6  겨울      29524  2001642.0   \n",
       "24      4100     -3.7     -8.5      3.0      0.0  겨울      29524  2001642.0   \n",
       "...      ...      ...      ...      ...      ...  ..        ...        ...   \n",
       "2642   27760     17.8     13.9     23.4      0.0  가을      23853  1793391.0   \n",
       "2643   26720     18.7     13.2     26.3      0.0  가을      23853  1793391.0   \n",
       "2644   25860     18.4     13.5     24.8      0.0  가을      23853  1793391.0   \n",
       "2645   24640     18.6     13.5     26.4      0.0  가을      23853  1793391.0   \n",
       "2646   23740     18.9     12.7     27.6      0.0  가을      23853  1793391.0   \n",
       "\n",
       "      소비자물가지수  수출액($1000)   수출량(kg)  수입액($1000)    수입량(kg)  \n",
       "20     91.588       102.0  179261.0         0.0        0.0  \n",
       "21     91.588       102.0  179261.0         0.0        0.0  \n",
       "22     91.588       102.0  179261.0         0.0        0.0  \n",
       "23     91.588       102.0  179261.0         0.0        0.0  \n",
       "24     91.588       102.0  179261.0         0.0        0.0  \n",
       "...       ...         ...       ...         ...        ...  \n",
       "2642  108.930        33.0   12522.0       627.0  1081765.0  \n",
       "2643  108.930        33.0   12522.0       627.0  1081765.0  \n",
       "2644  108.930        33.0   12522.0       627.0  1081765.0  \n",
       "2645  108.930        33.0   12522.0       627.0  1081765.0  \n",
       "2646  108.930        33.0   12522.0       627.0  1081765.0  \n",
       "\n",
       "[2486 rows x 13 columns]"
      ]
     },
     "execution_count": 10,
     "metadata": {},
     "output_type": "execute_result"
    }
   ],
   "source": [
    "d2['Month']=d2['Month'].astype(str)\n",
    "d2['Month']=d2['Month'].str.replace('10', '가을')\n",
    "d2['Month']=d2['Month'].str.replace('12', '겨울')\n",
    "d2['Month']=d2['Month'].str.replace('1', '겨울')\n",
    "d2['Month']=d2['Month'].str.replace('2', '겨울')\n",
    "d2['Month']=d2['Month'].str.replace('3', '봄')\n",
    "d2['Month']=d2['Month'].str.replace('4', '봄')\n",
    "d2['Month']=d2['Month'].str.replace('5', '봄')\n",
    "d2['Month']=d2['Month'].str.replace('6', '여름')\n",
    "d2['Month']=d2['Month'].str.replace('7', '여름')\n",
    "d2['Month']=d2['Month'].str.replace('8', '여름')\n",
    "d2['Month']=d2['Month'].str.replace('9', '가을')\n",
    "d2['Month']=d2['Month'].str.replace('11', '가을')\n",
    "\n",
    "d2.rename(columns={'Month':'계절'}, inplace = True)\n",
    "\n",
    "d2.rename(columns={'수입액':'수입액($1000)'}, inplace = True)\n",
    "d2.rename(columns={'수입량':'수입량(kg)'}, inplace = True)\n",
    "\n",
    "d2"
   ]
  },
  {
   "cell_type": "code",
   "execution_count": 11,
   "id": "14056bac",
   "metadata": {},
   "outputs": [],
   "source": [
    "from sklearn.model_selection import train_test_split\n",
    "from sklearn.model_selection import KFold\n",
    "from sklearn.preprocessing import OneHotEncoder\n",
    "from sklearn.preprocessing import StandardScaler\n",
    "from sklearn.linear_model import Lasso\n",
    "from sklearn.linear_model import Ridge\n",
    "from sklearn.metrics import r2_score\n",
    "from sklearn.metrics import mean_squared_error \n",
    "from sklearn.preprocessing import PolynomialFeatures"
   ]
  },
  {
   "cell_type": "code",
   "execution_count": 12,
   "id": "55bcf293",
   "metadata": {},
   "outputs": [
    {
     "data": {
      "text/html": [
       "<div>\n",
       "<style scoped>\n",
       "    .dataframe tbody tr th:only-of-type {\n",
       "        vertical-align: middle;\n",
       "    }\n",
       "\n",
       "    .dataframe tbody tr th {\n",
       "        vertical-align: top;\n",
       "    }\n",
       "\n",
       "    .dataframe thead th {\n",
       "        text-align: right;\n",
       "    }\n",
       "</style>\n",
       "<table border=\"1\" class=\"dataframe\">\n",
       "  <thead>\n",
       "    <tr style=\"text-align: right;\">\n",
       "      <th></th>\n",
       "      <th>평균기온(℃)</th>\n",
       "      <th>최저기온(℃)</th>\n",
       "      <th>최고기온(℃)</th>\n",
       "      <th>강수량(mm)</th>\n",
       "      <th>계절</th>\n",
       "      <th>생산면적 (ha)</th>\n",
       "      <th>생산량 (톤)</th>\n",
       "      <th>소비자물가지수</th>\n",
       "      <th>수출액($1000)</th>\n",
       "      <th>수출량(kg)</th>\n",
       "      <th>수입액($1000)</th>\n",
       "      <th>수입량(kg)</th>\n",
       "    </tr>\n",
       "  </thead>\n",
       "  <tbody>\n",
       "    <tr>\n",
       "      <th>20</th>\n",
       "      <td>-6.5</td>\n",
       "      <td>-10.6</td>\n",
       "      <td>-0.4</td>\n",
       "      <td>0.3</td>\n",
       "      <td>겨울</td>\n",
       "      <td>29524</td>\n",
       "      <td>2001642.0</td>\n",
       "      <td>91.588</td>\n",
       "      <td>102.0</td>\n",
       "      <td>179261.0</td>\n",
       "      <td>0.0</td>\n",
       "      <td>0.0</td>\n",
       "    </tr>\n",
       "    <tr>\n",
       "      <th>21</th>\n",
       "      <td>-10.2</td>\n",
       "      <td>-13.9</td>\n",
       "      <td>-5.7</td>\n",
       "      <td>0.1</td>\n",
       "      <td>겨울</td>\n",
       "      <td>29524</td>\n",
       "      <td>2001642.0</td>\n",
       "      <td>91.588</td>\n",
       "      <td>102.0</td>\n",
       "      <td>179261.0</td>\n",
       "      <td>0.0</td>\n",
       "      <td>0.0</td>\n",
       "    </tr>\n",
       "    <tr>\n",
       "      <th>22</th>\n",
       "      <td>-7.0</td>\n",
       "      <td>-13.7</td>\n",
       "      <td>-0.9</td>\n",
       "      <td>0.0</td>\n",
       "      <td>겨울</td>\n",
       "      <td>29524</td>\n",
       "      <td>2001642.0</td>\n",
       "      <td>91.588</td>\n",
       "      <td>102.0</td>\n",
       "      <td>179261.0</td>\n",
       "      <td>0.0</td>\n",
       "      <td>0.0</td>\n",
       "    </tr>\n",
       "    <tr>\n",
       "      <th>23</th>\n",
       "      <td>1.2</td>\n",
       "      <td>-4.3</td>\n",
       "      <td>6.2</td>\n",
       "      <td>1.6</td>\n",
       "      <td>겨울</td>\n",
       "      <td>29524</td>\n",
       "      <td>2001642.0</td>\n",
       "      <td>91.588</td>\n",
       "      <td>102.0</td>\n",
       "      <td>179261.0</td>\n",
       "      <td>0.0</td>\n",
       "      <td>0.0</td>\n",
       "    </tr>\n",
       "    <tr>\n",
       "      <th>24</th>\n",
       "      <td>-3.7</td>\n",
       "      <td>-8.5</td>\n",
       "      <td>3.0</td>\n",
       "      <td>0.0</td>\n",
       "      <td>겨울</td>\n",
       "      <td>29524</td>\n",
       "      <td>2001642.0</td>\n",
       "      <td>91.588</td>\n",
       "      <td>102.0</td>\n",
       "      <td>179261.0</td>\n",
       "      <td>0.0</td>\n",
       "      <td>0.0</td>\n",
       "    </tr>\n",
       "    <tr>\n",
       "      <th>...</th>\n",
       "      <td>...</td>\n",
       "      <td>...</td>\n",
       "      <td>...</td>\n",
       "      <td>...</td>\n",
       "      <td>...</td>\n",
       "      <td>...</td>\n",
       "      <td>...</td>\n",
       "      <td>...</td>\n",
       "      <td>...</td>\n",
       "      <td>...</td>\n",
       "      <td>...</td>\n",
       "      <td>...</td>\n",
       "    </tr>\n",
       "    <tr>\n",
       "      <th>2642</th>\n",
       "      <td>17.8</td>\n",
       "      <td>13.9</td>\n",
       "      <td>23.4</td>\n",
       "      <td>0.0</td>\n",
       "      <td>가을</td>\n",
       "      <td>23853</td>\n",
       "      <td>1793391.0</td>\n",
       "      <td>108.930</td>\n",
       "      <td>33.0</td>\n",
       "      <td>12522.0</td>\n",
       "      <td>627.0</td>\n",
       "      <td>1081765.0</td>\n",
       "    </tr>\n",
       "    <tr>\n",
       "      <th>2643</th>\n",
       "      <td>18.7</td>\n",
       "      <td>13.2</td>\n",
       "      <td>26.3</td>\n",
       "      <td>0.0</td>\n",
       "      <td>가을</td>\n",
       "      <td>23853</td>\n",
       "      <td>1793391.0</td>\n",
       "      <td>108.930</td>\n",
       "      <td>33.0</td>\n",
       "      <td>12522.0</td>\n",
       "      <td>627.0</td>\n",
       "      <td>1081765.0</td>\n",
       "    </tr>\n",
       "    <tr>\n",
       "      <th>2644</th>\n",
       "      <td>18.4</td>\n",
       "      <td>13.5</td>\n",
       "      <td>24.8</td>\n",
       "      <td>0.0</td>\n",
       "      <td>가을</td>\n",
       "      <td>23853</td>\n",
       "      <td>1793391.0</td>\n",
       "      <td>108.930</td>\n",
       "      <td>33.0</td>\n",
       "      <td>12522.0</td>\n",
       "      <td>627.0</td>\n",
       "      <td>1081765.0</td>\n",
       "    </tr>\n",
       "    <tr>\n",
       "      <th>2645</th>\n",
       "      <td>18.6</td>\n",
       "      <td>13.5</td>\n",
       "      <td>26.4</td>\n",
       "      <td>0.0</td>\n",
       "      <td>가을</td>\n",
       "      <td>23853</td>\n",
       "      <td>1793391.0</td>\n",
       "      <td>108.930</td>\n",
       "      <td>33.0</td>\n",
       "      <td>12522.0</td>\n",
       "      <td>627.0</td>\n",
       "      <td>1081765.0</td>\n",
       "    </tr>\n",
       "    <tr>\n",
       "      <th>2646</th>\n",
       "      <td>18.9</td>\n",
       "      <td>12.7</td>\n",
       "      <td>27.6</td>\n",
       "      <td>0.0</td>\n",
       "      <td>가을</td>\n",
       "      <td>23853</td>\n",
       "      <td>1793391.0</td>\n",
       "      <td>108.930</td>\n",
       "      <td>33.0</td>\n",
       "      <td>12522.0</td>\n",
       "      <td>627.0</td>\n",
       "      <td>1081765.0</td>\n",
       "    </tr>\n",
       "  </tbody>\n",
       "</table>\n",
       "<p>2486 rows × 12 columns</p>\n",
       "</div>"
      ],
      "text/plain": [
       "      평균기온(℃)  최저기온(℃)  최고기온(℃)  강수량(mm)  계절  생산면적 (ha)    생산량 (톤)  소비자물가지수  \\\n",
       "20       -6.5    -10.6     -0.4      0.3  겨울      29524  2001642.0   91.588   \n",
       "21      -10.2    -13.9     -5.7      0.1  겨울      29524  2001642.0   91.588   \n",
       "22       -7.0    -13.7     -0.9      0.0  겨울      29524  2001642.0   91.588   \n",
       "23        1.2     -4.3      6.2      1.6  겨울      29524  2001642.0   91.588   \n",
       "24       -3.7     -8.5      3.0      0.0  겨울      29524  2001642.0   91.588   \n",
       "...       ...      ...      ...      ...  ..        ...        ...      ...   \n",
       "2642     17.8     13.9     23.4      0.0  가을      23853  1793391.0  108.930   \n",
       "2643     18.7     13.2     26.3      0.0  가을      23853  1793391.0  108.930   \n",
       "2644     18.4     13.5     24.8      0.0  가을      23853  1793391.0  108.930   \n",
       "2645     18.6     13.5     26.4      0.0  가을      23853  1793391.0  108.930   \n",
       "2646     18.9     12.7     27.6      0.0  가을      23853  1793391.0  108.930   \n",
       "\n",
       "      수출액($1000)   수출량(kg)  수입액($1000)    수입량(kg)  \n",
       "20         102.0  179261.0         0.0        0.0  \n",
       "21         102.0  179261.0         0.0        0.0  \n",
       "22         102.0  179261.0         0.0        0.0  \n",
       "23         102.0  179261.0         0.0        0.0  \n",
       "24         102.0  179261.0         0.0        0.0  \n",
       "...          ...       ...         ...        ...  \n",
       "2642        33.0   12522.0       627.0  1081765.0  \n",
       "2643        33.0   12522.0       627.0  1081765.0  \n",
       "2644        33.0   12522.0       627.0  1081765.0  \n",
       "2645        33.0   12522.0       627.0  1081765.0  \n",
       "2646        33.0   12522.0       627.0  1081765.0  \n",
       "\n",
       "[2486 rows x 12 columns]"
      ]
     },
     "execution_count": 12,
     "metadata": {},
     "output_type": "execute_result"
    }
   ],
   "source": [
    "x=d2.drop('평균배추가격', axis=1)\n",
    "y=d2.평균배추가격\n",
    "\n",
    "x"
   ]
  },
  {
   "cell_type": "code",
   "execution_count": 13,
   "id": "31f8693e",
   "metadata": {},
   "outputs": [
    {
     "data": {
      "text/plain": [
       "20       3560\n",
       "21       3740\n",
       "22       3840\n",
       "23       4100\n",
       "24       4100\n",
       "        ...  \n",
       "2642    27760\n",
       "2643    26720\n",
       "2644    25860\n",
       "2645    24640\n",
       "2646    23740\n",
       "Name: 평균배추가격, Length: 2486, dtype: int64"
      ]
     },
     "execution_count": 13,
     "metadata": {},
     "output_type": "execute_result"
    }
   ],
   "source": [
    "y"
   ]
  },
  {
   "cell_type": "code",
   "execution_count": 14,
   "id": "01108bd6",
   "metadata": {},
   "outputs": [],
   "source": [
    "x_trainval, x_test, y_trainval, y_test = train_test_split(x, y, test_size=0.2, random_state=0)"
   ]
  },
  {
   "cell_type": "code",
   "execution_count": 15,
   "id": "42379517",
   "metadata": {},
   "outputs": [
    {
     "data": {
      "text/html": [
       "<div>\n",
       "<style scoped>\n",
       "    .dataframe tbody tr th:only-of-type {\n",
       "        vertical-align: middle;\n",
       "    }\n",
       "\n",
       "    .dataframe tbody tr th {\n",
       "        vertical-align: top;\n",
       "    }\n",
       "\n",
       "    .dataframe thead th {\n",
       "        text-align: right;\n",
       "    }\n",
       "</style>\n",
       "<table border=\"1\" class=\"dataframe\">\n",
       "  <thead>\n",
       "    <tr style=\"text-align: right;\">\n",
       "      <th></th>\n",
       "      <th>평균기온(℃)</th>\n",
       "      <th>최저기온(℃)</th>\n",
       "      <th>최고기온(℃)</th>\n",
       "      <th>강수량(mm)</th>\n",
       "      <th>계절</th>\n",
       "      <th>생산면적 (ha)</th>\n",
       "      <th>생산량 (톤)</th>\n",
       "      <th>소비자물가지수</th>\n",
       "      <th>수출액($1000)</th>\n",
       "      <th>수출량(kg)</th>\n",
       "      <th>수입액($1000)</th>\n",
       "      <th>수입량(kg)</th>\n",
       "    </tr>\n",
       "  </thead>\n",
       "  <tbody>\n",
       "    <tr>\n",
       "      <th>911</th>\n",
       "      <td>20.3</td>\n",
       "      <td>13.6</td>\n",
       "      <td>27.1</td>\n",
       "      <td>0.0</td>\n",
       "      <td>가을</td>\n",
       "      <td>27174</td>\n",
       "      <td>2134976.0</td>\n",
       "      <td>94.966</td>\n",
       "      <td>2477.0</td>\n",
       "      <td>3901417.0</td>\n",
       "      <td>0.0</td>\n",
       "      <td>0.0</td>\n",
       "    </tr>\n",
       "    <tr>\n",
       "      <th>2330</th>\n",
       "      <td>22.4</td>\n",
       "      <td>17.5</td>\n",
       "      <td>28.6</td>\n",
       "      <td>0.4</td>\n",
       "      <td>여름</td>\n",
       "      <td>30085</td>\n",
       "      <td>2017507.0</td>\n",
       "      <td>102.050</td>\n",
       "      <td>2555.0</td>\n",
       "      <td>4191418.0</td>\n",
       "      <td>3.0</td>\n",
       "      <td>7350.0</td>\n",
       "    </tr>\n",
       "    <tr>\n",
       "      <th>53</th>\n",
       "      <td>3.9</td>\n",
       "      <td>-1.9</td>\n",
       "      <td>10.0</td>\n",
       "      <td>0.0</td>\n",
       "      <td>봄</td>\n",
       "      <td>29524</td>\n",
       "      <td>2001642.0</td>\n",
       "      <td>91.614</td>\n",
       "      <td>99.0</td>\n",
       "      <td>71207.0</td>\n",
       "      <td>48.0</td>\n",
       "      <td>135850.0</td>\n",
       "    </tr>\n",
       "    <tr>\n",
       "      <th>418</th>\n",
       "      <td>20.6</td>\n",
       "      <td>14.7</td>\n",
       "      <td>27.1</td>\n",
       "      <td>0.0</td>\n",
       "      <td>가을</td>\n",
       "      <td>32020</td>\n",
       "      <td>2299251.0</td>\n",
       "      <td>93.419</td>\n",
       "      <td>87.0</td>\n",
       "      <td>82834.0</td>\n",
       "      <td>77.0</td>\n",
       "      <td>171305.0</td>\n",
       "    </tr>\n",
       "    <tr>\n",
       "      <th>1317</th>\n",
       "      <td>19.1</td>\n",
       "      <td>11.3</td>\n",
       "      <td>26.4</td>\n",
       "      <td>0.3</td>\n",
       "      <td>봄</td>\n",
       "      <td>32416</td>\n",
       "      <td>2395686.0</td>\n",
       "      <td>97.546</td>\n",
       "      <td>1645.0</td>\n",
       "      <td>3715350.0</td>\n",
       "      <td>0.0</td>\n",
       "      <td>0.0</td>\n",
       "    </tr>\n",
       "    <tr>\n",
       "      <th>...</th>\n",
       "      <td>...</td>\n",
       "      <td>...</td>\n",
       "      <td>...</td>\n",
       "      <td>...</td>\n",
       "      <td>...</td>\n",
       "      <td>...</td>\n",
       "      <td>...</td>\n",
       "      <td>...</td>\n",
       "      <td>...</td>\n",
       "      <td>...</td>\n",
       "      <td>...</td>\n",
       "      <td>...</td>\n",
       "    </tr>\n",
       "    <tr>\n",
       "      <th>1968</th>\n",
       "      <td>1.7</td>\n",
       "      <td>-2.5</td>\n",
       "      <td>7.4</td>\n",
       "      <td>0.0</td>\n",
       "      <td>겨울</td>\n",
       "      <td>30949</td>\n",
       "      <td>2242640.0</td>\n",
       "      <td>100.090</td>\n",
       "      <td>513.0</td>\n",
       "      <td>666684.0</td>\n",
       "      <td>0.0</td>\n",
       "      <td>0.0</td>\n",
       "    </tr>\n",
       "    <tr>\n",
       "      <th>602</th>\n",
       "      <td>20.9</td>\n",
       "      <td>17.9</td>\n",
       "      <td>25.4</td>\n",
       "      <td>0.9</td>\n",
       "      <td>여름</td>\n",
       "      <td>32027</td>\n",
       "      <td>2538804.0</td>\n",
       "      <td>94.248</td>\n",
       "      <td>856.0</td>\n",
       "      <td>1517717.0</td>\n",
       "      <td>12.0</td>\n",
       "      <td>24000.0</td>\n",
       "    </tr>\n",
       "    <tr>\n",
       "      <th>2159</th>\n",
       "      <td>13.3</td>\n",
       "      <td>8.6</td>\n",
       "      <td>19.3</td>\n",
       "      <td>0.0</td>\n",
       "      <td>가을</td>\n",
       "      <td>30949</td>\n",
       "      <td>2242640.0</td>\n",
       "      <td>100.180</td>\n",
       "      <td>1317.0</td>\n",
       "      <td>1848628.0</td>\n",
       "      <td>135.0</td>\n",
       "      <td>303058.0</td>\n",
       "    </tr>\n",
       "    <tr>\n",
       "      <th>550</th>\n",
       "      <td>6.4</td>\n",
       "      <td>3.0</td>\n",
       "      <td>10.7</td>\n",
       "      <td>2.7</td>\n",
       "      <td>봄</td>\n",
       "      <td>32027</td>\n",
       "      <td>2538804.0</td>\n",
       "      <td>94.153</td>\n",
       "      <td>464.0</td>\n",
       "      <td>968353.0</td>\n",
       "      <td>0.0</td>\n",
       "      <td>0.0</td>\n",
       "    </tr>\n",
       "    <tr>\n",
       "      <th>1076</th>\n",
       "      <td>15.4</td>\n",
       "      <td>9.9</td>\n",
       "      <td>21.7</td>\n",
       "      <td>5.9</td>\n",
       "      <td>봄</td>\n",
       "      <td>24902</td>\n",
       "      <td>1793391.0</td>\n",
       "      <td>95.630</td>\n",
       "      <td>480.0</td>\n",
       "      <td>734434.0</td>\n",
       "      <td>14.0</td>\n",
       "      <td>57750.0</td>\n",
       "    </tr>\n",
       "  </tbody>\n",
       "</table>\n",
       "<p>498 rows × 12 columns</p>\n",
       "</div>"
      ],
      "text/plain": [
       "      평균기온(℃)  최저기온(℃)  최고기온(℃)  강수량(mm)  계절  생산면적 (ha)    생산량 (톤)  소비자물가지수  \\\n",
       "911      20.3     13.6     27.1      0.0  가을      27174  2134976.0   94.966   \n",
       "2330     22.4     17.5     28.6      0.4  여름      30085  2017507.0  102.050   \n",
       "53        3.9     -1.9     10.0      0.0   봄      29524  2001642.0   91.614   \n",
       "418      20.6     14.7     27.1      0.0  가을      32020  2299251.0   93.419   \n",
       "1317     19.1     11.3     26.4      0.3   봄      32416  2395686.0   97.546   \n",
       "...       ...      ...      ...      ...  ..        ...        ...      ...   \n",
       "1968      1.7     -2.5      7.4      0.0  겨울      30949  2242640.0  100.090   \n",
       "602      20.9     17.9     25.4      0.9  여름      32027  2538804.0   94.248   \n",
       "2159     13.3      8.6     19.3      0.0  가을      30949  2242640.0  100.180   \n",
       "550       6.4      3.0     10.7      2.7   봄      32027  2538804.0   94.153   \n",
       "1076     15.4      9.9     21.7      5.9   봄      24902  1793391.0   95.630   \n",
       "\n",
       "      수출액($1000)    수출량(kg)  수입액($1000)   수입량(kg)  \n",
       "911       2477.0  3901417.0         0.0       0.0  \n",
       "2330      2555.0  4191418.0         3.0    7350.0  \n",
       "53          99.0    71207.0        48.0  135850.0  \n",
       "418         87.0    82834.0        77.0  171305.0  \n",
       "1317      1645.0  3715350.0         0.0       0.0  \n",
       "...          ...        ...         ...       ...  \n",
       "1968       513.0   666684.0         0.0       0.0  \n",
       "602        856.0  1517717.0        12.0   24000.0  \n",
       "2159      1317.0  1848628.0       135.0  303058.0  \n",
       "550        464.0   968353.0         0.0       0.0  \n",
       "1076       480.0   734434.0        14.0   57750.0  \n",
       "\n",
       "[498 rows x 12 columns]"
      ]
     },
     "execution_count": 15,
     "metadata": {},
     "output_type": "execute_result"
    }
   ],
   "source": [
    "x_trainval\n",
    "\n",
    "x_test"
   ]
  },
  {
   "cell_type": "code",
   "execution_count": 16,
   "id": "5e85b164",
   "metadata": {},
   "outputs": [
    {
     "name": "stdout",
     "output_type": "stream",
     "text": [
      "0.1\n",
      "1\n",
      "2\n"
     ]
    },
    {
     "name": "stderr",
     "output_type": "stream",
     "text": [
      "C:\\Users\\hyoan\\anaconda3\\lib\\site-packages\\sklearn\\linear_model\\_coordinate_descent.py:647: ConvergenceWarning: Objective did not converge. You might want to increase the number of iterations, check the scale of the features or consider increasing regularisation. Duality gap: 3.240e+09, tolerance: 3.994e+06\n",
      "  model = cd_fast.enet_coordinate_descent(\n",
      "C:\\Users\\hyoan\\anaconda3\\lib\\site-packages\\sklearn\\linear_model\\_coordinate_descent.py:647: ConvergenceWarning: Objective did not converge. You might want to increase the number of iterations, check the scale of the features or consider increasing regularisation. Duality gap: 2.875e+09, tolerance: 3.667e+06\n",
      "  model = cd_fast.enet_coordinate_descent(\n",
      "C:\\Users\\hyoan\\anaconda3\\lib\\site-packages\\sklearn\\linear_model\\_coordinate_descent.py:647: ConvergenceWarning: Objective did not converge. You might want to increase the number of iterations, check the scale of the features or consider increasing regularisation. Duality gap: 2.942e+09, tolerance: 3.889e+06\n",
      "  model = cd_fast.enet_coordinate_descent(\n",
      "C:\\Users\\hyoan\\anaconda3\\lib\\site-packages\\sklearn\\linear_model\\_coordinate_descent.py:647: ConvergenceWarning: Objective did not converge. You might want to increase the number of iterations, check the scale of the features or consider increasing regularisation. Duality gap: 2.610e+09, tolerance: 3.656e+06\n",
      "  model = cd_fast.enet_coordinate_descent(\n",
      "C:\\Users\\hyoan\\anaconda3\\lib\\site-packages\\sklearn\\linear_model\\_coordinate_descent.py:647: ConvergenceWarning: Objective did not converge. You might want to increase the number of iterations, check the scale of the features or consider increasing regularisation. Duality gap: 3.039e+09, tolerance: 3.510e+06\n",
      "  model = cd_fast.enet_coordinate_descent(\n"
     ]
    },
    {
     "name": "stdout",
     "output_type": "stream",
     "text": [
      "3\n"
     ]
    },
    {
     "name": "stderr",
     "output_type": "stream",
     "text": [
      "C:\\Users\\hyoan\\anaconda3\\lib\\site-packages\\sklearn\\linear_model\\_coordinate_descent.py:647: ConvergenceWarning: Objective did not converge. You might want to increase the number of iterations, check the scale of the features or consider increasing regularisation. Duality gap: 1.863e+09, tolerance: 3.994e+06\n",
      "  model = cd_fast.enet_coordinate_descent(\n",
      "C:\\Users\\hyoan\\anaconda3\\lib\\site-packages\\sklearn\\linear_model\\_coordinate_descent.py:647: ConvergenceWarning: Objective did not converge. You might want to increase the number of iterations, check the scale of the features or consider increasing regularisation. Duality gap: 1.629e+09, tolerance: 3.667e+06\n",
      "  model = cd_fast.enet_coordinate_descent(\n",
      "C:\\Users\\hyoan\\anaconda3\\lib\\site-packages\\sklearn\\linear_model\\_coordinate_descent.py:647: ConvergenceWarning: Objective did not converge. You might want to increase the number of iterations, check the scale of the features or consider increasing regularisation. Duality gap: 1.663e+09, tolerance: 3.889e+06\n",
      "  model = cd_fast.enet_coordinate_descent(\n",
      "C:\\Users\\hyoan\\anaconda3\\lib\\site-packages\\sklearn\\linear_model\\_coordinate_descent.py:647: ConvergenceWarning: Objective did not converge. You might want to increase the number of iterations, check the scale of the features or consider increasing regularisation. Duality gap: 1.526e+09, tolerance: 3.656e+06\n",
      "  model = cd_fast.enet_coordinate_descent(\n",
      "C:\\Users\\hyoan\\anaconda3\\lib\\site-packages\\sklearn\\linear_model\\_coordinate_descent.py:647: ConvergenceWarning: Objective did not converge. You might want to increase the number of iterations, check the scale of the features or consider increasing regularisation. Duality gap: 1.658e+09, tolerance: 3.510e+06\n",
      "  model = cd_fast.enet_coordinate_descent(\n"
     ]
    },
    {
     "name": "stdout",
     "output_type": "stream",
     "text": [
      "4\n"
     ]
    },
    {
     "name": "stderr",
     "output_type": "stream",
     "text": [
      "C:\\Users\\hyoan\\anaconda3\\lib\\site-packages\\sklearn\\linear_model\\_coordinate_descent.py:647: ConvergenceWarning: Objective did not converge. You might want to increase the number of iterations, check the scale of the features or consider increasing regularisation. Duality gap: 1.169e+09, tolerance: 3.994e+06\n",
      "  model = cd_fast.enet_coordinate_descent(\n",
      "C:\\Users\\hyoan\\anaconda3\\lib\\site-packages\\sklearn\\linear_model\\_coordinate_descent.py:647: ConvergenceWarning: Objective did not converge. You might want to increase the number of iterations, check the scale of the features or consider increasing regularisation. Duality gap: 1.001e+09, tolerance: 3.667e+06\n",
      "  model = cd_fast.enet_coordinate_descent(\n",
      "C:\\Users\\hyoan\\anaconda3\\lib\\site-packages\\sklearn\\linear_model\\_coordinate_descent.py:647: ConvergenceWarning: Objective did not converge. You might want to increase the number of iterations, check the scale of the features or consider increasing regularisation. Duality gap: 1.064e+09, tolerance: 3.889e+06\n",
      "  model = cd_fast.enet_coordinate_descent(\n",
      "C:\\Users\\hyoan\\anaconda3\\lib\\site-packages\\sklearn\\linear_model\\_coordinate_descent.py:647: ConvergenceWarning: Objective did not converge. You might want to increase the number of iterations, check the scale of the features or consider increasing regularisation. Duality gap: 9.387e+08, tolerance: 3.656e+06\n",
      "  model = cd_fast.enet_coordinate_descent(\n",
      "C:\\Users\\hyoan\\anaconda3\\lib\\site-packages\\sklearn\\linear_model\\_coordinate_descent.py:647: ConvergenceWarning: Objective did not converge. You might want to increase the number of iterations, check the scale of the features or consider increasing regularisation. Duality gap: 1.023e+09, tolerance: 3.510e+06\n",
      "  model = cd_fast.enet_coordinate_descent(\n"
     ]
    },
    {
     "name": "stdout",
     "output_type": "stream",
     "text": [
      "0.10985411419875583\n",
      "1\n",
      "2\n"
     ]
    },
    {
     "name": "stderr",
     "output_type": "stream",
     "text": [
      "C:\\Users\\hyoan\\anaconda3\\lib\\site-packages\\sklearn\\linear_model\\_coordinate_descent.py:647: ConvergenceWarning: Objective did not converge. You might want to increase the number of iterations, check the scale of the features or consider increasing regularisation. Duality gap: 3.201e+09, tolerance: 3.994e+06\n",
      "  model = cd_fast.enet_coordinate_descent(\n",
      "C:\\Users\\hyoan\\anaconda3\\lib\\site-packages\\sklearn\\linear_model\\_coordinate_descent.py:647: ConvergenceWarning: Objective did not converge. You might want to increase the number of iterations, check the scale of the features or consider increasing regularisation. Duality gap: 2.834e+09, tolerance: 3.667e+06\n",
      "  model = cd_fast.enet_coordinate_descent(\n",
      "C:\\Users\\hyoan\\anaconda3\\lib\\site-packages\\sklearn\\linear_model\\_coordinate_descent.py:647: ConvergenceWarning: Objective did not converge. You might want to increase the number of iterations, check the scale of the features or consider increasing regularisation. Duality gap: 2.901e+09, tolerance: 3.889e+06\n",
      "  model = cd_fast.enet_coordinate_descent(\n",
      "C:\\Users\\hyoan\\anaconda3\\lib\\site-packages\\sklearn\\linear_model\\_coordinate_descent.py:647: ConvergenceWarning: Objective did not converge. You might want to increase the number of iterations, check the scale of the features or consider increasing regularisation. Duality gap: 2.559e+09, tolerance: 3.656e+06\n",
      "  model = cd_fast.enet_coordinate_descent(\n",
      "C:\\Users\\hyoan\\anaconda3\\lib\\site-packages\\sklearn\\linear_model\\_coordinate_descent.py:647: ConvergenceWarning: Objective did not converge. You might want to increase the number of iterations, check the scale of the features or consider increasing regularisation. Duality gap: 3.005e+09, tolerance: 3.510e+06\n",
      "  model = cd_fast.enet_coordinate_descent(\n"
     ]
    },
    {
     "name": "stdout",
     "output_type": "stream",
     "text": [
      "3\n"
     ]
    },
    {
     "name": "stderr",
     "output_type": "stream",
     "text": [
      "C:\\Users\\hyoan\\anaconda3\\lib\\site-packages\\sklearn\\linear_model\\_coordinate_descent.py:647: ConvergenceWarning: Objective did not converge. You might want to increase the number of iterations, check the scale of the features or consider increasing regularisation. Duality gap: 1.861e+09, tolerance: 3.994e+06\n",
      "  model = cd_fast.enet_coordinate_descent(\n",
      "C:\\Users\\hyoan\\anaconda3\\lib\\site-packages\\sklearn\\linear_model\\_coordinate_descent.py:647: ConvergenceWarning: Objective did not converge. You might want to increase the number of iterations, check the scale of the features or consider increasing regularisation. Duality gap: 1.623e+09, tolerance: 3.667e+06\n",
      "  model = cd_fast.enet_coordinate_descent(\n",
      "C:\\Users\\hyoan\\anaconda3\\lib\\site-packages\\sklearn\\linear_model\\_coordinate_descent.py:647: ConvergenceWarning: Objective did not converge. You might want to increase the number of iterations, check the scale of the features or consider increasing regularisation. Duality gap: 1.656e+09, tolerance: 3.889e+06\n",
      "  model = cd_fast.enet_coordinate_descent(\n",
      "C:\\Users\\hyoan\\anaconda3\\lib\\site-packages\\sklearn\\linear_model\\_coordinate_descent.py:647: ConvergenceWarning: Objective did not converge. You might want to increase the number of iterations, check the scale of the features or consider increasing regularisation. Duality gap: 1.520e+09, tolerance: 3.656e+06\n",
      "  model = cd_fast.enet_coordinate_descent(\n",
      "C:\\Users\\hyoan\\anaconda3\\lib\\site-packages\\sklearn\\linear_model\\_coordinate_descent.py:647: ConvergenceWarning: Objective did not converge. You might want to increase the number of iterations, check the scale of the features or consider increasing regularisation. Duality gap: 1.660e+09, tolerance: 3.510e+06\n",
      "  model = cd_fast.enet_coordinate_descent(\n"
     ]
    },
    {
     "name": "stdout",
     "output_type": "stream",
     "text": [
      "4\n"
     ]
    },
    {
     "name": "stderr",
     "output_type": "stream",
     "text": [
      "C:\\Users\\hyoan\\anaconda3\\lib\\site-packages\\sklearn\\linear_model\\_coordinate_descent.py:647: ConvergenceWarning: Objective did not converge. You might want to increase the number of iterations, check the scale of the features or consider increasing regularisation. Duality gap: 1.179e+09, tolerance: 3.994e+06\n",
      "  model = cd_fast.enet_coordinate_descent(\n",
      "C:\\Users\\hyoan\\anaconda3\\lib\\site-packages\\sklearn\\linear_model\\_coordinate_descent.py:647: ConvergenceWarning: Objective did not converge. You might want to increase the number of iterations, check the scale of the features or consider increasing regularisation. Duality gap: 1.011e+09, tolerance: 3.667e+06\n",
      "  model = cd_fast.enet_coordinate_descent(\n",
      "C:\\Users\\hyoan\\anaconda3\\lib\\site-packages\\sklearn\\linear_model\\_coordinate_descent.py:647: ConvergenceWarning: Objective did not converge. You might want to increase the number of iterations, check the scale of the features or consider increasing regularisation. Duality gap: 1.074e+09, tolerance: 3.889e+06\n",
      "  model = cd_fast.enet_coordinate_descent(\n",
      "C:\\Users\\hyoan\\anaconda3\\lib\\site-packages\\sklearn\\linear_model\\_coordinate_descent.py:647: ConvergenceWarning: Objective did not converge. You might want to increase the number of iterations, check the scale of the features or consider increasing regularisation. Duality gap: 9.480e+08, tolerance: 3.656e+06\n",
      "  model = cd_fast.enet_coordinate_descent(\n",
      "C:\\Users\\hyoan\\anaconda3\\lib\\site-packages\\sklearn\\linear_model\\_coordinate_descent.py:647: ConvergenceWarning: Objective did not converge. You might want to increase the number of iterations, check the scale of the features or consider increasing regularisation. Duality gap: 1.034e+09, tolerance: 3.510e+06\n",
      "  model = cd_fast.enet_coordinate_descent(\n"
     ]
    },
    {
     "name": "stdout",
     "output_type": "stream",
     "text": [
      "0.12067926406393285\n",
      "1\n",
      "2\n"
     ]
    },
    {
     "name": "stderr",
     "output_type": "stream",
     "text": [
      "C:\\Users\\hyoan\\anaconda3\\lib\\site-packages\\sklearn\\linear_model\\_coordinate_descent.py:647: ConvergenceWarning: Objective did not converge. You might want to increase the number of iterations, check the scale of the features or consider increasing regularisation. Duality gap: 3.156e+09, tolerance: 3.994e+06\n",
      "  model = cd_fast.enet_coordinate_descent(\n",
      "C:\\Users\\hyoan\\anaconda3\\lib\\site-packages\\sklearn\\linear_model\\_coordinate_descent.py:647: ConvergenceWarning: Objective did not converge. You might want to increase the number of iterations, check the scale of the features or consider increasing regularisation. Duality gap: 2.789e+09, tolerance: 3.667e+06\n",
      "  model = cd_fast.enet_coordinate_descent(\n",
      "C:\\Users\\hyoan\\anaconda3\\lib\\site-packages\\sklearn\\linear_model\\_coordinate_descent.py:647: ConvergenceWarning: Objective did not converge. You might want to increase the number of iterations, check the scale of the features or consider increasing regularisation. Duality gap: 2.854e+09, tolerance: 3.889e+06\n",
      "  model = cd_fast.enet_coordinate_descent(\n",
      "C:\\Users\\hyoan\\anaconda3\\lib\\site-packages\\sklearn\\linear_model\\_coordinate_descent.py:647: ConvergenceWarning: Objective did not converge. You might want to increase the number of iterations, check the scale of the features or consider increasing regularisation. Duality gap: 2.447e+09, tolerance: 3.656e+06\n",
      "  model = cd_fast.enet_coordinate_descent(\n",
      "C:\\Users\\hyoan\\anaconda3\\lib\\site-packages\\sklearn\\linear_model\\_coordinate_descent.py:647: ConvergenceWarning: Objective did not converge. You might want to increase the number of iterations, check the scale of the features or consider increasing regularisation. Duality gap: 2.967e+09, tolerance: 3.510e+06\n",
      "  model = cd_fast.enet_coordinate_descent(\n"
     ]
    },
    {
     "name": "stdout",
     "output_type": "stream",
     "text": [
      "3\n"
     ]
    },
    {
     "name": "stderr",
     "output_type": "stream",
     "text": [
      "C:\\Users\\hyoan\\anaconda3\\lib\\site-packages\\sklearn\\linear_model\\_coordinate_descent.py:647: ConvergenceWarning: Objective did not converge. You might want to increase the number of iterations, check the scale of the features or consider increasing regularisation. Duality gap: 1.859e+09, tolerance: 3.994e+06\n",
      "  model = cd_fast.enet_coordinate_descent(\n",
      "C:\\Users\\hyoan\\anaconda3\\lib\\site-packages\\sklearn\\linear_model\\_coordinate_descent.py:647: ConvergenceWarning: Objective did not converge. You might want to increase the number of iterations, check the scale of the features or consider increasing regularisation. Duality gap: 1.618e+09, tolerance: 3.667e+06\n",
      "  model = cd_fast.enet_coordinate_descent(\n",
      "C:\\Users\\hyoan\\anaconda3\\lib\\site-packages\\sklearn\\linear_model\\_coordinate_descent.py:647: ConvergenceWarning: Objective did not converge. You might want to increase the number of iterations, check the scale of the features or consider increasing regularisation. Duality gap: 1.648e+09, tolerance: 3.889e+06\n",
      "  model = cd_fast.enet_coordinate_descent(\n",
      "C:\\Users\\hyoan\\anaconda3\\lib\\site-packages\\sklearn\\linear_model\\_coordinate_descent.py:647: ConvergenceWarning: Objective did not converge. You might want to increase the number of iterations, check the scale of the features or consider increasing regularisation. Duality gap: 1.513e+09, tolerance: 3.656e+06\n",
      "  model = cd_fast.enet_coordinate_descent(\n",
      "C:\\Users\\hyoan\\anaconda3\\lib\\site-packages\\sklearn\\linear_model\\_coordinate_descent.py:647: ConvergenceWarning: Objective did not converge. You might want to increase the number of iterations, check the scale of the features or consider increasing regularisation. Duality gap: 1.661e+09, tolerance: 3.510e+06\n",
      "  model = cd_fast.enet_coordinate_descent(\n"
     ]
    },
    {
     "name": "stdout",
     "output_type": "stream",
     "text": [
      "4\n"
     ]
    },
    {
     "name": "stderr",
     "output_type": "stream",
     "text": [
      "C:\\Users\\hyoan\\anaconda3\\lib\\site-packages\\sklearn\\linear_model\\_coordinate_descent.py:647: ConvergenceWarning: Objective did not converge. You might want to increase the number of iterations, check the scale of the features or consider increasing regularisation. Duality gap: 1.191e+09, tolerance: 3.994e+06\n",
      "  model = cd_fast.enet_coordinate_descent(\n",
      "C:\\Users\\hyoan\\anaconda3\\lib\\site-packages\\sklearn\\linear_model\\_coordinate_descent.py:647: ConvergenceWarning: Objective did not converge. You might want to increase the number of iterations, check the scale of the features or consider increasing regularisation. Duality gap: 1.022e+09, tolerance: 3.667e+06\n",
      "  model = cd_fast.enet_coordinate_descent(\n",
      "C:\\Users\\hyoan\\anaconda3\\lib\\site-packages\\sklearn\\linear_model\\_coordinate_descent.py:647: ConvergenceWarning: Objective did not converge. You might want to increase the number of iterations, check the scale of the features or consider increasing regularisation. Duality gap: 1.085e+09, tolerance: 3.889e+06\n",
      "  model = cd_fast.enet_coordinate_descent(\n",
      "C:\\Users\\hyoan\\anaconda3\\lib\\site-packages\\sklearn\\linear_model\\_coordinate_descent.py:647: ConvergenceWarning: Objective did not converge. You might want to increase the number of iterations, check the scale of the features or consider increasing regularisation. Duality gap: 9.593e+08, tolerance: 3.656e+06\n",
      "  model = cd_fast.enet_coordinate_descent(\n",
      "C:\\Users\\hyoan\\anaconda3\\lib\\site-packages\\sklearn\\linear_model\\_coordinate_descent.py:647: ConvergenceWarning: Objective did not converge. You might want to increase the number of iterations, check the scale of the features or consider increasing regularisation. Duality gap: 1.046e+09, tolerance: 3.510e+06\n",
      "  model = cd_fast.enet_coordinate_descent(\n"
     ]
    },
    {
     "name": "stdout",
     "output_type": "stream",
     "text": [
      "0.13257113655901093\n",
      "1\n",
      "2\n"
     ]
    },
    {
     "name": "stderr",
     "output_type": "stream",
     "text": [
      "C:\\Users\\hyoan\\anaconda3\\lib\\site-packages\\sklearn\\linear_model\\_coordinate_descent.py:647: ConvergenceWarning: Objective did not converge. You might want to increase the number of iterations, check the scale of the features or consider increasing regularisation. Duality gap: 3.105e+09, tolerance: 3.994e+06\n",
      "  model = cd_fast.enet_coordinate_descent(\n",
      "C:\\Users\\hyoan\\anaconda3\\lib\\site-packages\\sklearn\\linear_model\\_coordinate_descent.py:647: ConvergenceWarning: Objective did not converge. You might want to increase the number of iterations, check the scale of the features or consider increasing regularisation. Duality gap: 2.739e+09, tolerance: 3.667e+06\n",
      "  model = cd_fast.enet_coordinate_descent(\n",
      "C:\\Users\\hyoan\\anaconda3\\lib\\site-packages\\sklearn\\linear_model\\_coordinate_descent.py:647: ConvergenceWarning: Objective did not converge. You might want to increase the number of iterations, check the scale of the features or consider increasing regularisation. Duality gap: 2.786e+09, tolerance: 3.889e+06\n",
      "  model = cd_fast.enet_coordinate_descent(\n",
      "C:\\Users\\hyoan\\anaconda3\\lib\\site-packages\\sklearn\\linear_model\\_coordinate_descent.py:647: ConvergenceWarning: Objective did not converge. You might want to increase the number of iterations, check the scale of the features or consider increasing regularisation. Duality gap: 2.382e+09, tolerance: 3.656e+06\n",
      "  model = cd_fast.enet_coordinate_descent(\n",
      "C:\\Users\\hyoan\\anaconda3\\lib\\site-packages\\sklearn\\linear_model\\_coordinate_descent.py:647: ConvergenceWarning: Objective did not converge. You might want to increase the number of iterations, check the scale of the features or consider increasing regularisation. Duality gap: 2.925e+09, tolerance: 3.510e+06\n",
      "  model = cd_fast.enet_coordinate_descent(\n"
     ]
    },
    {
     "name": "stdout",
     "output_type": "stream",
     "text": [
      "3\n"
     ]
    },
    {
     "name": "stderr",
     "output_type": "stream",
     "text": [
      "C:\\Users\\hyoan\\anaconda3\\lib\\site-packages\\sklearn\\linear_model\\_coordinate_descent.py:647: ConvergenceWarning: Objective did not converge. You might want to increase the number of iterations, check the scale of the features or consider increasing regularisation. Duality gap: 1.855e+09, tolerance: 3.994e+06\n",
      "  model = cd_fast.enet_coordinate_descent(\n",
      "C:\\Users\\hyoan\\anaconda3\\lib\\site-packages\\sklearn\\linear_model\\_coordinate_descent.py:647: ConvergenceWarning: Objective did not converge. You might want to increase the number of iterations, check the scale of the features or consider increasing regularisation. Duality gap: 1.612e+09, tolerance: 3.667e+06\n",
      "  model = cd_fast.enet_coordinate_descent(\n",
      "C:\\Users\\hyoan\\anaconda3\\lib\\site-packages\\sklearn\\linear_model\\_coordinate_descent.py:647: ConvergenceWarning: Objective did not converge. You might want to increase the number of iterations, check the scale of the features or consider increasing regularisation. Duality gap: 1.639e+09, tolerance: 3.889e+06\n",
      "  model = cd_fast.enet_coordinate_descent(\n",
      "C:\\Users\\hyoan\\anaconda3\\lib\\site-packages\\sklearn\\linear_model\\_coordinate_descent.py:647: ConvergenceWarning: Objective did not converge. You might want to increase the number of iterations, check the scale of the features or consider increasing regularisation. Duality gap: 1.507e+09, tolerance: 3.656e+06\n",
      "  model = cd_fast.enet_coordinate_descent(\n",
      "C:\\Users\\hyoan\\anaconda3\\lib\\site-packages\\sklearn\\linear_model\\_coordinate_descent.py:647: ConvergenceWarning: Objective did not converge. You might want to increase the number of iterations, check the scale of the features or consider increasing regularisation. Duality gap: 1.663e+09, tolerance: 3.510e+06\n",
      "  model = cd_fast.enet_coordinate_descent(\n"
     ]
    },
    {
     "name": "stdout",
     "output_type": "stream",
     "text": [
      "4\n"
     ]
    },
    {
     "name": "stderr",
     "output_type": "stream",
     "text": [
      "C:\\Users\\hyoan\\anaconda3\\lib\\site-packages\\sklearn\\linear_model\\_coordinate_descent.py:647: ConvergenceWarning: Objective did not converge. You might want to increase the number of iterations, check the scale of the features or consider increasing regularisation. Duality gap: 1.203e+09, tolerance: 3.994e+06\n",
      "  model = cd_fast.enet_coordinate_descent(\n",
      "C:\\Users\\hyoan\\anaconda3\\lib\\site-packages\\sklearn\\linear_model\\_coordinate_descent.py:647: ConvergenceWarning: Objective did not converge. You might want to increase the number of iterations, check the scale of the features or consider increasing regularisation. Duality gap: 1.033e+09, tolerance: 3.667e+06\n",
      "  model = cd_fast.enet_coordinate_descent(\n",
      "C:\\Users\\hyoan\\anaconda3\\lib\\site-packages\\sklearn\\linear_model\\_coordinate_descent.py:647: ConvergenceWarning: Objective did not converge. You might want to increase the number of iterations, check the scale of the features or consider increasing regularisation. Duality gap: 1.095e+09, tolerance: 3.889e+06\n",
      "  model = cd_fast.enet_coordinate_descent(\n",
      "C:\\Users\\hyoan\\anaconda3\\lib\\site-packages\\sklearn\\linear_model\\_coordinate_descent.py:647: ConvergenceWarning: Objective did not converge. You might want to increase the number of iterations, check the scale of the features or consider increasing regularisation. Duality gap: 9.724e+08, tolerance: 3.656e+06\n",
      "  model = cd_fast.enet_coordinate_descent(\n",
      "C:\\Users\\hyoan\\anaconda3\\lib\\site-packages\\sklearn\\linear_model\\_coordinate_descent.py:647: ConvergenceWarning: Objective did not converge. You might want to increase the number of iterations, check the scale of the features or consider increasing regularisation. Duality gap: 1.057e+09, tolerance: 3.510e+06\n",
      "  model = cd_fast.enet_coordinate_descent(\n"
     ]
    },
    {
     "name": "stdout",
     "output_type": "stream",
     "text": [
      "0.14563484775012436\n",
      "1\n",
      "2\n"
     ]
    },
    {
     "name": "stderr",
     "output_type": "stream",
     "text": [
      "C:\\Users\\hyoan\\anaconda3\\lib\\site-packages\\sklearn\\linear_model\\_coordinate_descent.py:647: ConvergenceWarning: Objective did not converge. You might want to increase the number of iterations, check the scale of the features or consider increasing regularisation. Duality gap: 3.046e+09, tolerance: 3.994e+06\n",
      "  model = cd_fast.enet_coordinate_descent(\n",
      "C:\\Users\\hyoan\\anaconda3\\lib\\site-packages\\sklearn\\linear_model\\_coordinate_descent.py:647: ConvergenceWarning: Objective did not converge. You might want to increase the number of iterations, check the scale of the features or consider increasing regularisation. Duality gap: 2.683e+09, tolerance: 3.667e+06\n",
      "  model = cd_fast.enet_coordinate_descent(\n",
      "C:\\Users\\hyoan\\anaconda3\\lib\\site-packages\\sklearn\\linear_model\\_coordinate_descent.py:647: ConvergenceWarning: Objective did not converge. You might want to increase the number of iterations, check the scale of the features or consider increasing regularisation. Duality gap: 2.722e+09, tolerance: 3.889e+06\n",
      "  model = cd_fast.enet_coordinate_descent(\n",
      "C:\\Users\\hyoan\\anaconda3\\lib\\site-packages\\sklearn\\linear_model\\_coordinate_descent.py:647: ConvergenceWarning: Objective did not converge. You might want to increase the number of iterations, check the scale of the features or consider increasing regularisation. Duality gap: 2.312e+09, tolerance: 3.656e+06\n",
      "  model = cd_fast.enet_coordinate_descent(\n",
      "C:\\Users\\hyoan\\anaconda3\\lib\\site-packages\\sklearn\\linear_model\\_coordinate_descent.py:647: ConvergenceWarning: Objective did not converge. You might want to increase the number of iterations, check the scale of the features or consider increasing regularisation. Duality gap: 2.859e+09, tolerance: 3.510e+06\n",
      "  model = cd_fast.enet_coordinate_descent(\n"
     ]
    },
    {
     "name": "stdout",
     "output_type": "stream",
     "text": [
      "3\n"
     ]
    },
    {
     "name": "stderr",
     "output_type": "stream",
     "text": [
      "C:\\Users\\hyoan\\anaconda3\\lib\\site-packages\\sklearn\\linear_model\\_coordinate_descent.py:647: ConvergenceWarning: Objective did not converge. You might want to increase the number of iterations, check the scale of the features or consider increasing regularisation. Duality gap: 1.851e+09, tolerance: 3.994e+06\n",
      "  model = cd_fast.enet_coordinate_descent(\n",
      "C:\\Users\\hyoan\\anaconda3\\lib\\site-packages\\sklearn\\linear_model\\_coordinate_descent.py:647: ConvergenceWarning: Objective did not converge. You might want to increase the number of iterations, check the scale of the features or consider increasing regularisation. Duality gap: 1.605e+09, tolerance: 3.667e+06\n",
      "  model = cd_fast.enet_coordinate_descent(\n",
      "C:\\Users\\hyoan\\anaconda3\\lib\\site-packages\\sklearn\\linear_model\\_coordinate_descent.py:647: ConvergenceWarning: Objective did not converge. You might want to increase the number of iterations, check the scale of the features or consider increasing regularisation. Duality gap: 1.629e+09, tolerance: 3.889e+06\n",
      "  model = cd_fast.enet_coordinate_descent(\n",
      "C:\\Users\\hyoan\\anaconda3\\lib\\site-packages\\sklearn\\linear_model\\_coordinate_descent.py:647: ConvergenceWarning: Objective did not converge. You might want to increase the number of iterations, check the scale of the features or consider increasing regularisation. Duality gap: 1.504e+09, tolerance: 3.656e+06\n",
      "  model = cd_fast.enet_coordinate_descent(\n",
      "C:\\Users\\hyoan\\anaconda3\\lib\\site-packages\\sklearn\\linear_model\\_coordinate_descent.py:647: ConvergenceWarning: Objective did not converge. You might want to increase the number of iterations, check the scale of the features or consider increasing regularisation. Duality gap: 1.663e+09, tolerance: 3.510e+06\n",
      "  model = cd_fast.enet_coordinate_descent(\n"
     ]
    },
    {
     "name": "stdout",
     "output_type": "stream",
     "text": [
      "4\n"
     ]
    },
    {
     "name": "stderr",
     "output_type": "stream",
     "text": [
      "C:\\Users\\hyoan\\anaconda3\\lib\\site-packages\\sklearn\\linear_model\\_coordinate_descent.py:647: ConvergenceWarning: Objective did not converge. You might want to increase the number of iterations, check the scale of the features or consider increasing regularisation. Duality gap: 1.214e+09, tolerance: 3.994e+06\n",
      "  model = cd_fast.enet_coordinate_descent(\n",
      "C:\\Users\\hyoan\\anaconda3\\lib\\site-packages\\sklearn\\linear_model\\_coordinate_descent.py:647: ConvergenceWarning: Objective did not converge. You might want to increase the number of iterations, check the scale of the features or consider increasing regularisation. Duality gap: 1.045e+09, tolerance: 3.667e+06\n",
      "  model = cd_fast.enet_coordinate_descent(\n",
      "C:\\Users\\hyoan\\anaconda3\\lib\\site-packages\\sklearn\\linear_model\\_coordinate_descent.py:647: ConvergenceWarning: Objective did not converge. You might want to increase the number of iterations, check the scale of the features or consider increasing regularisation. Duality gap: 1.107e+09, tolerance: 3.889e+06\n",
      "  model = cd_fast.enet_coordinate_descent(\n",
      "C:\\Users\\hyoan\\anaconda3\\lib\\site-packages\\sklearn\\linear_model\\_coordinate_descent.py:647: ConvergenceWarning: Objective did not converge. You might want to increase the number of iterations, check the scale of the features or consider increasing regularisation. Duality gap: 9.845e+08, tolerance: 3.656e+06\n",
      "  model = cd_fast.enet_coordinate_descent(\n",
      "C:\\Users\\hyoan\\anaconda3\\lib\\site-packages\\sklearn\\linear_model\\_coordinate_descent.py:647: ConvergenceWarning: Objective did not converge. You might want to increase the number of iterations, check the scale of the features or consider increasing regularisation. Duality gap: 1.069e+09, tolerance: 3.510e+06\n",
      "  model = cd_fast.enet_coordinate_descent(\n"
     ]
    },
    {
     "name": "stdout",
     "output_type": "stream",
     "text": [
      "0.15998587196060582\n",
      "1\n",
      "2\n"
     ]
    },
    {
     "name": "stderr",
     "output_type": "stream",
     "text": [
      "C:\\Users\\hyoan\\anaconda3\\lib\\site-packages\\sklearn\\linear_model\\_coordinate_descent.py:647: ConvergenceWarning: Objective did not converge. You might want to increase the number of iterations, check the scale of the features or consider increasing regularisation. Duality gap: 2.971e+09, tolerance: 3.994e+06\n",
      "  model = cd_fast.enet_coordinate_descent(\n",
      "C:\\Users\\hyoan\\anaconda3\\lib\\site-packages\\sklearn\\linear_model\\_coordinate_descent.py:647: ConvergenceWarning: Objective did not converge. You might want to increase the number of iterations, check the scale of the features or consider increasing regularisation. Duality gap: 2.620e+09, tolerance: 3.667e+06\n",
      "  model = cd_fast.enet_coordinate_descent(\n",
      "C:\\Users\\hyoan\\anaconda3\\lib\\site-packages\\sklearn\\linear_model\\_coordinate_descent.py:647: ConvergenceWarning: Objective did not converge. You might want to increase the number of iterations, check the scale of the features or consider increasing regularisation. Duality gap: 2.652e+09, tolerance: 3.889e+06\n",
      "  model = cd_fast.enet_coordinate_descent(\n",
      "C:\\Users\\hyoan\\anaconda3\\lib\\site-packages\\sklearn\\linear_model\\_coordinate_descent.py:647: ConvergenceWarning: Objective did not converge. You might want to increase the number of iterations, check the scale of the features or consider increasing regularisation. Duality gap: 2.276e+09, tolerance: 3.656e+06\n",
      "  model = cd_fast.enet_coordinate_descent(\n",
      "C:\\Users\\hyoan\\anaconda3\\lib\\site-packages\\sklearn\\linear_model\\_coordinate_descent.py:647: ConvergenceWarning: Objective did not converge. You might want to increase the number of iterations, check the scale of the features or consider increasing regularisation. Duality gap: 2.822e+09, tolerance: 3.510e+06\n",
      "  model = cd_fast.enet_coordinate_descent(\n"
     ]
    },
    {
     "name": "stdout",
     "output_type": "stream",
     "text": [
      "3\n"
     ]
    },
    {
     "name": "stderr",
     "output_type": "stream",
     "text": [
      "C:\\Users\\hyoan\\anaconda3\\lib\\site-packages\\sklearn\\linear_model\\_coordinate_descent.py:647: ConvergenceWarning: Objective did not converge. You might want to increase the number of iterations, check the scale of the features or consider increasing regularisation. Duality gap: 1.847e+09, tolerance: 3.994e+06\n",
      "  model = cd_fast.enet_coordinate_descent(\n",
      "C:\\Users\\hyoan\\anaconda3\\lib\\site-packages\\sklearn\\linear_model\\_coordinate_descent.py:647: ConvergenceWarning: Objective did not converge. You might want to increase the number of iterations, check the scale of the features or consider increasing regularisation. Duality gap: 1.597e+09, tolerance: 3.667e+06\n",
      "  model = cd_fast.enet_coordinate_descent(\n",
      "C:\\Users\\hyoan\\anaconda3\\lib\\site-packages\\sklearn\\linear_model\\_coordinate_descent.py:647: ConvergenceWarning: Objective did not converge. You might want to increase the number of iterations, check the scale of the features or consider increasing regularisation. Duality gap: 1.617e+09, tolerance: 3.889e+06\n",
      "  model = cd_fast.enet_coordinate_descent(\n",
      "C:\\Users\\hyoan\\anaconda3\\lib\\site-packages\\sklearn\\linear_model\\_coordinate_descent.py:647: ConvergenceWarning: Objective did not converge. You might want to increase the number of iterations, check the scale of the features or consider increasing regularisation. Duality gap: 1.501e+09, tolerance: 3.656e+06\n",
      "  model = cd_fast.enet_coordinate_descent(\n",
      "C:\\Users\\hyoan\\anaconda3\\lib\\site-packages\\sklearn\\linear_model\\_coordinate_descent.py:647: ConvergenceWarning: Objective did not converge. You might want to increase the number of iterations, check the scale of the features or consider increasing regularisation. Duality gap: 1.669e+09, tolerance: 3.510e+06\n",
      "  model = cd_fast.enet_coordinate_descent(\n"
     ]
    },
    {
     "name": "stdout",
     "output_type": "stream",
     "text": [
      "4\n"
     ]
    },
    {
     "name": "stderr",
     "output_type": "stream",
     "text": [
      "C:\\Users\\hyoan\\anaconda3\\lib\\site-packages\\sklearn\\linear_model\\_coordinate_descent.py:647: ConvergenceWarning: Objective did not converge. You might want to increase the number of iterations, check the scale of the features or consider increasing regularisation. Duality gap: 1.222e+09, tolerance: 3.994e+06\n",
      "  model = cd_fast.enet_coordinate_descent(\n",
      "C:\\Users\\hyoan\\anaconda3\\lib\\site-packages\\sklearn\\linear_model\\_coordinate_descent.py:647: ConvergenceWarning: Objective did not converge. You might want to increase the number of iterations, check the scale of the features or consider increasing regularisation. Duality gap: 1.058e+09, tolerance: 3.667e+06\n",
      "  model = cd_fast.enet_coordinate_descent(\n",
      "C:\\Users\\hyoan\\anaconda3\\lib\\site-packages\\sklearn\\linear_model\\_coordinate_descent.py:647: ConvergenceWarning: Objective did not converge. You might want to increase the number of iterations, check the scale of the features or consider increasing regularisation. Duality gap: 1.120e+09, tolerance: 3.889e+06\n",
      "  model = cd_fast.enet_coordinate_descent(\n",
      "C:\\Users\\hyoan\\anaconda3\\lib\\site-packages\\sklearn\\linear_model\\_coordinate_descent.py:647: ConvergenceWarning: Objective did not converge. You might want to increase the number of iterations, check the scale of the features or consider increasing regularisation. Duality gap: 9.968e+08, tolerance: 3.656e+06\n",
      "  model = cd_fast.enet_coordinate_descent(\n",
      "C:\\Users\\hyoan\\anaconda3\\lib\\site-packages\\sklearn\\linear_model\\_coordinate_descent.py:647: ConvergenceWarning: Objective did not converge. You might want to increase the number of iterations, check the scale of the features or consider increasing regularisation. Duality gap: 1.082e+09, tolerance: 3.510e+06\n",
      "  model = cd_fast.enet_coordinate_descent(\n"
     ]
    },
    {
     "name": "stdout",
     "output_type": "stream",
     "text": [
      "0.1757510624854792\n",
      "1\n",
      "2\n"
     ]
    },
    {
     "name": "stderr",
     "output_type": "stream",
     "text": [
      "C:\\Users\\hyoan\\anaconda3\\lib\\site-packages\\sklearn\\linear_model\\_coordinate_descent.py:647: ConvergenceWarning: Objective did not converge. You might want to increase the number of iterations, check the scale of the features or consider increasing regularisation. Duality gap: 2.898e+09, tolerance: 3.994e+06\n",
      "  model = cd_fast.enet_coordinate_descent(\n",
      "C:\\Users\\hyoan\\anaconda3\\lib\\site-packages\\sklearn\\linear_model\\_coordinate_descent.py:647: ConvergenceWarning: Objective did not converge. You might want to increase the number of iterations, check the scale of the features or consider increasing regularisation. Duality gap: 2.553e+09, tolerance: 3.667e+06\n",
      "  model = cd_fast.enet_coordinate_descent(\n",
      "C:\\Users\\hyoan\\anaconda3\\lib\\site-packages\\sklearn\\linear_model\\_coordinate_descent.py:647: ConvergenceWarning: Objective did not converge. You might want to increase the number of iterations, check the scale of the features or consider increasing regularisation. Duality gap: 2.575e+09, tolerance: 3.889e+06\n",
      "  model = cd_fast.enet_coordinate_descent(\n",
      "C:\\Users\\hyoan\\anaconda3\\lib\\site-packages\\sklearn\\linear_model\\_coordinate_descent.py:647: ConvergenceWarning: Objective did not converge. You might want to increase the number of iterations, check the scale of the features or consider increasing regularisation. Duality gap: 2.108e+09, tolerance: 3.656e+06\n",
      "  model = cd_fast.enet_coordinate_descent(\n",
      "C:\\Users\\hyoan\\anaconda3\\lib\\site-packages\\sklearn\\linear_model\\_coordinate_descent.py:647: ConvergenceWarning: Objective did not converge. You might want to increase the number of iterations, check the scale of the features or consider increasing regularisation. Duality gap: 2.770e+09, tolerance: 3.510e+06\n",
      "  model = cd_fast.enet_coordinate_descent(\n"
     ]
    },
    {
     "name": "stdout",
     "output_type": "stream",
     "text": [
      "3\n"
     ]
    },
    {
     "name": "stderr",
     "output_type": "stream",
     "text": [
      "C:\\Users\\hyoan\\anaconda3\\lib\\site-packages\\sklearn\\linear_model\\_coordinate_descent.py:647: ConvergenceWarning: Objective did not converge. You might want to increase the number of iterations, check the scale of the features or consider increasing regularisation. Duality gap: 1.839e+09, tolerance: 3.994e+06\n",
      "  model = cd_fast.enet_coordinate_descent(\n",
      "C:\\Users\\hyoan\\anaconda3\\lib\\site-packages\\sklearn\\linear_model\\_coordinate_descent.py:647: ConvergenceWarning: Objective did not converge. You might want to increase the number of iterations, check the scale of the features or consider increasing regularisation. Duality gap: 1.586e+09, tolerance: 3.667e+06\n",
      "  model = cd_fast.enet_coordinate_descent(\n",
      "C:\\Users\\hyoan\\anaconda3\\lib\\site-packages\\sklearn\\linear_model\\_coordinate_descent.py:647: ConvergenceWarning: Objective did not converge. You might want to increase the number of iterations, check the scale of the features or consider increasing regularisation. Duality gap: 1.604e+09, tolerance: 3.889e+06\n",
      "  model = cd_fast.enet_coordinate_descent(\n",
      "C:\\Users\\hyoan\\anaconda3\\lib\\site-packages\\sklearn\\linear_model\\_coordinate_descent.py:647: ConvergenceWarning: Objective did not converge. You might want to increase the number of iterations, check the scale of the features or consider increasing regularisation. Duality gap: 1.494e+09, tolerance: 3.656e+06\n",
      "  model = cd_fast.enet_coordinate_descent(\n",
      "C:\\Users\\hyoan\\anaconda3\\lib\\site-packages\\sklearn\\linear_model\\_coordinate_descent.py:647: ConvergenceWarning: Objective did not converge. You might want to increase the number of iterations, check the scale of the features or consider increasing regularisation. Duality gap: 1.671e+09, tolerance: 3.510e+06\n",
      "  model = cd_fast.enet_coordinate_descent(\n"
     ]
    },
    {
     "name": "stdout",
     "output_type": "stream",
     "text": [
      "4\n"
     ]
    },
    {
     "name": "stderr",
     "output_type": "stream",
     "text": [
      "C:\\Users\\hyoan\\anaconda3\\lib\\site-packages\\sklearn\\linear_model\\_coordinate_descent.py:647: ConvergenceWarning: Objective did not converge. You might want to increase the number of iterations, check the scale of the features or consider increasing regularisation. Duality gap: 1.234e+09, tolerance: 3.994e+06\n",
      "  model = cd_fast.enet_coordinate_descent(\n",
      "C:\\Users\\hyoan\\anaconda3\\lib\\site-packages\\sklearn\\linear_model\\_coordinate_descent.py:647: ConvergenceWarning: Objective did not converge. You might want to increase the number of iterations, check the scale of the features or consider increasing regularisation. Duality gap: 1.071e+09, tolerance: 3.667e+06\n",
      "  model = cd_fast.enet_coordinate_descent(\n",
      "C:\\Users\\hyoan\\anaconda3\\lib\\site-packages\\sklearn\\linear_model\\_coordinate_descent.py:647: ConvergenceWarning: Objective did not converge. You might want to increase the number of iterations, check the scale of the features or consider increasing regularisation. Duality gap: 1.133e+09, tolerance: 3.889e+06\n",
      "  model = cd_fast.enet_coordinate_descent(\n",
      "C:\\Users\\hyoan\\anaconda3\\lib\\site-packages\\sklearn\\linear_model\\_coordinate_descent.py:647: ConvergenceWarning: Objective did not converge. You might want to increase the number of iterations, check the scale of the features or consider increasing regularisation. Duality gap: 1.007e+09, tolerance: 3.656e+06\n",
      "  model = cd_fast.enet_coordinate_descent(\n",
      "C:\\Users\\hyoan\\anaconda3\\lib\\site-packages\\sklearn\\linear_model\\_coordinate_descent.py:647: ConvergenceWarning: Objective did not converge. You might want to increase the number of iterations, check the scale of the features or consider increasing regularisation. Duality gap: 1.095e+09, tolerance: 3.510e+06\n",
      "  model = cd_fast.enet_coordinate_descent(\n"
     ]
    },
    {
     "name": "stdout",
     "output_type": "stream",
     "text": [
      "0.193069772888325\n",
      "1\n",
      "2\n"
     ]
    },
    {
     "name": "stderr",
     "output_type": "stream",
     "text": [
      "C:\\Users\\hyoan\\anaconda3\\lib\\site-packages\\sklearn\\linear_model\\_coordinate_descent.py:647: ConvergenceWarning: Objective did not converge. You might want to increase the number of iterations, check the scale of the features or consider increasing regularisation. Duality gap: 2.815e+09, tolerance: 3.994e+06\n",
      "  model = cd_fast.enet_coordinate_descent(\n",
      "C:\\Users\\hyoan\\anaconda3\\lib\\site-packages\\sklearn\\linear_model\\_coordinate_descent.py:647: ConvergenceWarning: Objective did not converge. You might want to increase the number of iterations, check the scale of the features or consider increasing regularisation. Duality gap: 2.478e+09, tolerance: 3.667e+06\n",
      "  model = cd_fast.enet_coordinate_descent(\n",
      "C:\\Users\\hyoan\\anaconda3\\lib\\site-packages\\sklearn\\linear_model\\_coordinate_descent.py:647: ConvergenceWarning: Objective did not converge. You might want to increase the number of iterations, check the scale of the features or consider increasing regularisation. Duality gap: 2.489e+09, tolerance: 3.889e+06\n",
      "  model = cd_fast.enet_coordinate_descent(\n",
      "C:\\Users\\hyoan\\anaconda3\\lib\\site-packages\\sklearn\\linear_model\\_coordinate_descent.py:647: ConvergenceWarning: Objective did not converge. You might want to increase the number of iterations, check the scale of the features or consider increasing regularisation. Duality gap: 1.974e+09, tolerance: 3.656e+06\n",
      "  model = cd_fast.enet_coordinate_descent(\n",
      "C:\\Users\\hyoan\\anaconda3\\lib\\site-packages\\sklearn\\linear_model\\_coordinate_descent.py:647: ConvergenceWarning: Objective did not converge. You might want to increase the number of iterations, check the scale of the features or consider increasing regularisation. Duality gap: 2.714e+09, tolerance: 3.510e+06\n",
      "  model = cd_fast.enet_coordinate_descent(\n"
     ]
    },
    {
     "name": "stdout",
     "output_type": "stream",
     "text": [
      "3\n"
     ]
    },
    {
     "name": "stderr",
     "output_type": "stream",
     "text": [
      "C:\\Users\\hyoan\\anaconda3\\lib\\site-packages\\sklearn\\linear_model\\_coordinate_descent.py:647: ConvergenceWarning: Objective did not converge. You might want to increase the number of iterations, check the scale of the features or consider increasing regularisation. Duality gap: 1.838e+09, tolerance: 3.994e+06\n",
      "  model = cd_fast.enet_coordinate_descent(\n",
      "C:\\Users\\hyoan\\anaconda3\\lib\\site-packages\\sklearn\\linear_model\\_coordinate_descent.py:647: ConvergenceWarning: Objective did not converge. You might want to increase the number of iterations, check the scale of the features or consider increasing regularisation. Duality gap: 1.571e+09, tolerance: 3.667e+06\n",
      "  model = cd_fast.enet_coordinate_descent(\n",
      "C:\\Users\\hyoan\\anaconda3\\lib\\site-packages\\sklearn\\linear_model\\_coordinate_descent.py:647: ConvergenceWarning: Objective did not converge. You might want to increase the number of iterations, check the scale of the features or consider increasing regularisation. Duality gap: 1.589e+09, tolerance: 3.889e+06\n",
      "  model = cd_fast.enet_coordinate_descent(\n",
      "C:\\Users\\hyoan\\anaconda3\\lib\\site-packages\\sklearn\\linear_model\\_coordinate_descent.py:647: ConvergenceWarning: Objective did not converge. You might want to increase the number of iterations, check the scale of the features or consider increasing regularisation. Duality gap: 1.485e+09, tolerance: 3.656e+06\n",
      "  model = cd_fast.enet_coordinate_descent(\n",
      "C:\\Users\\hyoan\\anaconda3\\lib\\site-packages\\sklearn\\linear_model\\_coordinate_descent.py:647: ConvergenceWarning: Objective did not converge. You might want to increase the number of iterations, check the scale of the features or consider increasing regularisation. Duality gap: 1.674e+09, tolerance: 3.510e+06\n",
      "  model = cd_fast.enet_coordinate_descent(\n"
     ]
    },
    {
     "name": "stdout",
     "output_type": "stream",
     "text": [
      "4\n"
     ]
    },
    {
     "name": "stderr",
     "output_type": "stream",
     "text": [
      "C:\\Users\\hyoan\\anaconda3\\lib\\site-packages\\sklearn\\linear_model\\_coordinate_descent.py:647: ConvergenceWarning: Objective did not converge. You might want to increase the number of iterations, check the scale of the features or consider increasing regularisation. Duality gap: 1.248e+09, tolerance: 3.994e+06\n",
      "  model = cd_fast.enet_coordinate_descent(\n",
      "C:\\Users\\hyoan\\anaconda3\\lib\\site-packages\\sklearn\\linear_model\\_coordinate_descent.py:647: ConvergenceWarning: Objective did not converge. You might want to increase the number of iterations, check the scale of the features or consider increasing regularisation. Duality gap: 1.084e+09, tolerance: 3.667e+06\n",
      "  model = cd_fast.enet_coordinate_descent(\n",
      "C:\\Users\\hyoan\\anaconda3\\lib\\site-packages\\sklearn\\linear_model\\_coordinate_descent.py:647: ConvergenceWarning: Objective did not converge. You might want to increase the number of iterations, check the scale of the features or consider increasing regularisation. Duality gap: 1.146e+09, tolerance: 3.889e+06\n",
      "  model = cd_fast.enet_coordinate_descent(\n",
      "C:\\Users\\hyoan\\anaconda3\\lib\\site-packages\\sklearn\\linear_model\\_coordinate_descent.py:647: ConvergenceWarning: Objective did not converge. You might want to increase the number of iterations, check the scale of the features or consider increasing regularisation. Duality gap: 1.017e+09, tolerance: 3.656e+06\n",
      "  model = cd_fast.enet_coordinate_descent(\n",
      "C:\\Users\\hyoan\\anaconda3\\lib\\site-packages\\sklearn\\linear_model\\_coordinate_descent.py:647: ConvergenceWarning: Objective did not converge. You might want to increase the number of iterations, check the scale of the features or consider increasing regularisation. Duality gap: 1.106e+09, tolerance: 3.510e+06\n",
      "  model = cd_fast.enet_coordinate_descent(\n"
     ]
    },
    {
     "name": "stdout",
     "output_type": "stream",
     "text": [
      "0.21209508879201905\n",
      "1\n",
      "2\n"
     ]
    },
    {
     "name": "stderr",
     "output_type": "stream",
     "text": [
      "C:\\Users\\hyoan\\anaconda3\\lib\\site-packages\\sklearn\\linear_model\\_coordinate_descent.py:647: ConvergenceWarning: Objective did not converge. You might want to increase the number of iterations, check the scale of the features or consider increasing regularisation. Duality gap: 2.688e+09, tolerance: 3.994e+06\n",
      "  model = cd_fast.enet_coordinate_descent(\n",
      "C:\\Users\\hyoan\\anaconda3\\lib\\site-packages\\sklearn\\linear_model\\_coordinate_descent.py:647: ConvergenceWarning: Objective did not converge. You might want to increase the number of iterations, check the scale of the features or consider increasing regularisation. Duality gap: 2.398e+09, tolerance: 3.667e+06\n",
      "  model = cd_fast.enet_coordinate_descent(\n",
      "C:\\Users\\hyoan\\anaconda3\\lib\\site-packages\\sklearn\\linear_model\\_coordinate_descent.py:647: ConvergenceWarning: Objective did not converge. You might want to increase the number of iterations, check the scale of the features or consider increasing regularisation. Duality gap: 2.397e+09, tolerance: 3.889e+06\n",
      "  model = cd_fast.enet_coordinate_descent(\n",
      "C:\\Users\\hyoan\\anaconda3\\lib\\site-packages\\sklearn\\linear_model\\_coordinate_descent.py:647: ConvergenceWarning: Objective did not converge. You might want to increase the number of iterations, check the scale of the features or consider increasing regularisation. Duality gap: 1.839e+09, tolerance: 3.656e+06\n",
      "  model = cd_fast.enet_coordinate_descent(\n",
      "C:\\Users\\hyoan\\anaconda3\\lib\\site-packages\\sklearn\\linear_model\\_coordinate_descent.py:647: ConvergenceWarning: Objective did not converge. You might want to increase the number of iterations, check the scale of the features or consider increasing regularisation. Duality gap: 2.649e+09, tolerance: 3.510e+06\n",
      "  model = cd_fast.enet_coordinate_descent(\n"
     ]
    },
    {
     "name": "stdout",
     "output_type": "stream",
     "text": [
      "3\n"
     ]
    },
    {
     "name": "stderr",
     "output_type": "stream",
     "text": [
      "C:\\Users\\hyoan\\anaconda3\\lib\\site-packages\\sklearn\\linear_model\\_coordinate_descent.py:647: ConvergenceWarning: Objective did not converge. You might want to increase the number of iterations, check the scale of the features or consider increasing regularisation. Duality gap: 1.838e+09, tolerance: 3.994e+06\n",
      "  model = cd_fast.enet_coordinate_descent(\n",
      "C:\\Users\\hyoan\\anaconda3\\lib\\site-packages\\sklearn\\linear_model\\_coordinate_descent.py:647: ConvergenceWarning: Objective did not converge. You might want to increase the number of iterations, check the scale of the features or consider increasing regularisation. Duality gap: 1.554e+09, tolerance: 3.667e+06\n",
      "  model = cd_fast.enet_coordinate_descent(\n",
      "C:\\Users\\hyoan\\anaconda3\\lib\\site-packages\\sklearn\\linear_model\\_coordinate_descent.py:647: ConvergenceWarning: Objective did not converge. You might want to increase the number of iterations, check the scale of the features or consider increasing regularisation. Duality gap: 1.578e+09, tolerance: 3.889e+06\n",
      "  model = cd_fast.enet_coordinate_descent(\n",
      "C:\\Users\\hyoan\\anaconda3\\lib\\site-packages\\sklearn\\linear_model\\_coordinate_descent.py:647: ConvergenceWarning: Objective did not converge. You might want to increase the number of iterations, check the scale of the features or consider increasing regularisation. Duality gap: 1.473e+09, tolerance: 3.656e+06\n",
      "  model = cd_fast.enet_coordinate_descent(\n",
      "C:\\Users\\hyoan\\anaconda3\\lib\\site-packages\\sklearn\\linear_model\\_coordinate_descent.py:647: ConvergenceWarning: Objective did not converge. You might want to increase the number of iterations, check the scale of the features or consider increasing regularisation. Duality gap: 1.678e+09, tolerance: 3.510e+06\n",
      "  model = cd_fast.enet_coordinate_descent(\n"
     ]
    },
    {
     "name": "stdout",
     "output_type": "stream",
     "text": [
      "4\n"
     ]
    },
    {
     "name": "stderr",
     "output_type": "stream",
     "text": [
      "C:\\Users\\hyoan\\anaconda3\\lib\\site-packages\\sklearn\\linear_model\\_coordinate_descent.py:647: ConvergenceWarning: Objective did not converge. You might want to increase the number of iterations, check the scale of the features or consider increasing regularisation. Duality gap: 1.259e+09, tolerance: 3.994e+06\n",
      "  model = cd_fast.enet_coordinate_descent(\n",
      "C:\\Users\\hyoan\\anaconda3\\lib\\site-packages\\sklearn\\linear_model\\_coordinate_descent.py:647: ConvergenceWarning: Objective did not converge. You might want to increase the number of iterations, check the scale of the features or consider increasing regularisation. Duality gap: 1.100e+09, tolerance: 3.667e+06\n",
      "  model = cd_fast.enet_coordinate_descent(\n",
      "C:\\Users\\hyoan\\anaconda3\\lib\\site-packages\\sklearn\\linear_model\\_coordinate_descent.py:647: ConvergenceWarning: Objective did not converge. You might want to increase the number of iterations, check the scale of the features or consider increasing regularisation. Duality gap: 1.157e+09, tolerance: 3.889e+06\n",
      "  model = cd_fast.enet_coordinate_descent(\n",
      "C:\\Users\\hyoan\\anaconda3\\lib\\site-packages\\sklearn\\linear_model\\_coordinate_descent.py:647: ConvergenceWarning: Objective did not converge. You might want to increase the number of iterations, check the scale of the features or consider increasing regularisation. Duality gap: 1.028e+09, tolerance: 3.656e+06\n",
      "  model = cd_fast.enet_coordinate_descent(\n",
      "C:\\Users\\hyoan\\anaconda3\\lib\\site-packages\\sklearn\\linear_model\\_coordinate_descent.py:647: ConvergenceWarning: Objective did not converge. You might want to increase the number of iterations, check the scale of the features or consider increasing regularisation. Duality gap: 1.123e+09, tolerance: 3.510e+06\n",
      "  model = cd_fast.enet_coordinate_descent(\n"
     ]
    },
    {
     "name": "stdout",
     "output_type": "stream",
     "text": [
      "0.2329951810515372\n",
      "1\n",
      "2\n"
     ]
    },
    {
     "name": "stderr",
     "output_type": "stream",
     "text": [
      "C:\\Users\\hyoan\\anaconda3\\lib\\site-packages\\sklearn\\linear_model\\_coordinate_descent.py:647: ConvergenceWarning: Objective did not converge. You might want to increase the number of iterations, check the scale of the features or consider increasing regularisation. Duality gap: 2.613e+09, tolerance: 3.994e+06\n",
      "  model = cd_fast.enet_coordinate_descent(\n",
      "C:\\Users\\hyoan\\anaconda3\\lib\\site-packages\\sklearn\\linear_model\\_coordinate_descent.py:647: ConvergenceWarning: Objective did not converge. You might want to increase the number of iterations, check the scale of the features or consider increasing regularisation. Duality gap: 2.313e+09, tolerance: 3.667e+06\n",
      "  model = cd_fast.enet_coordinate_descent(\n",
      "C:\\Users\\hyoan\\anaconda3\\lib\\site-packages\\sklearn\\linear_model\\_coordinate_descent.py:647: ConvergenceWarning: Objective did not converge. You might want to increase the number of iterations, check the scale of the features or consider increasing regularisation. Duality gap: 2.295e+09, tolerance: 3.889e+06\n",
      "  model = cd_fast.enet_coordinate_descent(\n",
      "C:\\Users\\hyoan\\anaconda3\\lib\\site-packages\\sklearn\\linear_model\\_coordinate_descent.py:647: ConvergenceWarning: Objective did not converge. You might want to increase the number of iterations, check the scale of the features or consider increasing regularisation. Duality gap: 1.696e+09, tolerance: 3.656e+06\n",
      "  model = cd_fast.enet_coordinate_descent(\n",
      "C:\\Users\\hyoan\\anaconda3\\lib\\site-packages\\sklearn\\linear_model\\_coordinate_descent.py:647: ConvergenceWarning: Objective did not converge. You might want to increase the number of iterations, check the scale of the features or consider increasing regularisation. Duality gap: 2.577e+09, tolerance: 3.510e+06\n",
      "  model = cd_fast.enet_coordinate_descent(\n"
     ]
    },
    {
     "name": "stdout",
     "output_type": "stream",
     "text": [
      "3\n"
     ]
    },
    {
     "name": "stderr",
     "output_type": "stream",
     "text": [
      "C:\\Users\\hyoan\\anaconda3\\lib\\site-packages\\sklearn\\linear_model\\_coordinate_descent.py:647: ConvergenceWarning: Objective did not converge. You might want to increase the number of iterations, check the scale of the features or consider increasing regularisation. Duality gap: 1.829e+09, tolerance: 3.994e+06\n",
      "  model = cd_fast.enet_coordinate_descent(\n",
      "C:\\Users\\hyoan\\anaconda3\\lib\\site-packages\\sklearn\\linear_model\\_coordinate_descent.py:647: ConvergenceWarning: Objective did not converge. You might want to increase the number of iterations, check the scale of the features or consider increasing regularisation. Duality gap: 1.553e+09, tolerance: 3.667e+06\n",
      "  model = cd_fast.enet_coordinate_descent(\n",
      "C:\\Users\\hyoan\\anaconda3\\lib\\site-packages\\sklearn\\linear_model\\_coordinate_descent.py:647: ConvergenceWarning: Objective did not converge. You might want to increase the number of iterations, check the scale of the features or consider increasing regularisation. Duality gap: 1.561e+09, tolerance: 3.889e+06\n",
      "  model = cd_fast.enet_coordinate_descent(\n",
      "C:\\Users\\hyoan\\anaconda3\\lib\\site-packages\\sklearn\\linear_model\\_coordinate_descent.py:647: ConvergenceWarning: Objective did not converge. You might want to increase the number of iterations, check the scale of the features or consider increasing regularisation. Duality gap: 1.460e+09, tolerance: 3.656e+06\n",
      "  model = cd_fast.enet_coordinate_descent(\n",
      "C:\\Users\\hyoan\\anaconda3\\lib\\site-packages\\sklearn\\linear_model\\_coordinate_descent.py:647: ConvergenceWarning: Objective did not converge. You might want to increase the number of iterations, check the scale of the features or consider increasing regularisation. Duality gap: 1.684e+09, tolerance: 3.510e+06\n",
      "  model = cd_fast.enet_coordinate_descent(\n"
     ]
    },
    {
     "name": "stdout",
     "output_type": "stream",
     "text": [
      "4\n"
     ]
    },
    {
     "name": "stderr",
     "output_type": "stream",
     "text": [
      "C:\\Users\\hyoan\\anaconda3\\lib\\site-packages\\sklearn\\linear_model\\_coordinate_descent.py:647: ConvergenceWarning: Objective did not converge. You might want to increase the number of iterations, check the scale of the features or consider increasing regularisation. Duality gap: 1.271e+09, tolerance: 3.994e+06\n",
      "  model = cd_fast.enet_coordinate_descent(\n",
      "C:\\Users\\hyoan\\anaconda3\\lib\\site-packages\\sklearn\\linear_model\\_coordinate_descent.py:647: ConvergenceWarning: Objective did not converge. You might want to increase the number of iterations, check the scale of the features or consider increasing regularisation. Duality gap: 1.115e+09, tolerance: 3.667e+06\n",
      "  model = cd_fast.enet_coordinate_descent(\n",
      "C:\\Users\\hyoan\\anaconda3\\lib\\site-packages\\sklearn\\linear_model\\_coordinate_descent.py:647: ConvergenceWarning: Objective did not converge. You might want to increase the number of iterations, check the scale of the features or consider increasing regularisation. Duality gap: 1.170e+09, tolerance: 3.889e+06\n",
      "  model = cd_fast.enet_coordinate_descent(\n",
      "C:\\Users\\hyoan\\anaconda3\\lib\\site-packages\\sklearn\\linear_model\\_coordinate_descent.py:647: ConvergenceWarning: Objective did not converge. You might want to increase the number of iterations, check the scale of the features or consider increasing regularisation. Duality gap: 1.042e+09, tolerance: 3.656e+06\n",
      "  model = cd_fast.enet_coordinate_descent(\n",
      "C:\\Users\\hyoan\\anaconda3\\lib\\site-packages\\sklearn\\linear_model\\_coordinate_descent.py:647: ConvergenceWarning: Objective did not converge. You might want to increase the number of iterations, check the scale of the features or consider increasing regularisation. Duality gap: 1.140e+09, tolerance: 3.510e+06\n",
      "  model = cd_fast.enet_coordinate_descent(\n"
     ]
    },
    {
     "name": "stdout",
     "output_type": "stream",
     "text": [
      "0.2559547922699536\n",
      "1\n",
      "2\n"
     ]
    },
    {
     "name": "stderr",
     "output_type": "stream",
     "text": [
      "C:\\Users\\hyoan\\anaconda3\\lib\\site-packages\\sklearn\\linear_model\\_coordinate_descent.py:647: ConvergenceWarning: Objective did not converge. You might want to increase the number of iterations, check the scale of the features or consider increasing regularisation. Duality gap: 2.512e+09, tolerance: 3.994e+06\n",
      "  model = cd_fast.enet_coordinate_descent(\n",
      "C:\\Users\\hyoan\\anaconda3\\lib\\site-packages\\sklearn\\linear_model\\_coordinate_descent.py:647: ConvergenceWarning: Objective did not converge. You might want to increase the number of iterations, check the scale of the features or consider increasing regularisation. Duality gap: 2.215e+09, tolerance: 3.667e+06\n",
      "  model = cd_fast.enet_coordinate_descent(\n",
      "C:\\Users\\hyoan\\anaconda3\\lib\\site-packages\\sklearn\\linear_model\\_coordinate_descent.py:647: ConvergenceWarning: Objective did not converge. You might want to increase the number of iterations, check the scale of the features or consider increasing regularisation. Duality gap: 2.181e+09, tolerance: 3.889e+06\n",
      "  model = cd_fast.enet_coordinate_descent(\n",
      "C:\\Users\\hyoan\\anaconda3\\lib\\site-packages\\sklearn\\linear_model\\_coordinate_descent.py:647: ConvergenceWarning: Objective did not converge. You might want to increase the number of iterations, check the scale of the features or consider increasing regularisation. Duality gap: 1.528e+09, tolerance: 3.656e+06\n",
      "  model = cd_fast.enet_coordinate_descent(\n",
      "C:\\Users\\hyoan\\anaconda3\\lib\\site-packages\\sklearn\\linear_model\\_coordinate_descent.py:647: ConvergenceWarning: Objective did not converge. You might want to increase the number of iterations, check the scale of the features or consider increasing regularisation. Duality gap: 2.498e+09, tolerance: 3.510e+06\n",
      "  model = cd_fast.enet_coordinate_descent(\n"
     ]
    },
    {
     "name": "stdout",
     "output_type": "stream",
     "text": [
      "3\n"
     ]
    },
    {
     "name": "stderr",
     "output_type": "stream",
     "text": [
      "C:\\Users\\hyoan\\anaconda3\\lib\\site-packages\\sklearn\\linear_model\\_coordinate_descent.py:647: ConvergenceWarning: Objective did not converge. You might want to increase the number of iterations, check the scale of the features or consider increasing regularisation. Duality gap: 1.806e+09, tolerance: 3.994e+06\n",
      "  model = cd_fast.enet_coordinate_descent(\n",
      "C:\\Users\\hyoan\\anaconda3\\lib\\site-packages\\sklearn\\linear_model\\_coordinate_descent.py:647: ConvergenceWarning: Objective did not converge. You might want to increase the number of iterations, check the scale of the features or consider increasing regularisation. Duality gap: 1.523e+09, tolerance: 3.667e+06\n",
      "  model = cd_fast.enet_coordinate_descent(\n",
      "C:\\Users\\hyoan\\anaconda3\\lib\\site-packages\\sklearn\\linear_model\\_coordinate_descent.py:647: ConvergenceWarning: Objective did not converge. You might want to increase the number of iterations, check the scale of the features or consider increasing regularisation. Duality gap: 1.546e+09, tolerance: 3.889e+06\n",
      "  model = cd_fast.enet_coordinate_descent(\n",
      "C:\\Users\\hyoan\\anaconda3\\lib\\site-packages\\sklearn\\linear_model\\_coordinate_descent.py:647: ConvergenceWarning: Objective did not converge. You might want to increase the number of iterations, check the scale of the features or consider increasing regularisation. Duality gap: 1.453e+09, tolerance: 3.656e+06\n",
      "  model = cd_fast.enet_coordinate_descent(\n",
      "C:\\Users\\hyoan\\anaconda3\\lib\\site-packages\\sklearn\\linear_model\\_coordinate_descent.py:647: ConvergenceWarning: Objective did not converge. You might want to increase the number of iterations, check the scale of the features or consider increasing regularisation. Duality gap: 1.690e+09, tolerance: 3.510e+06\n",
      "  model = cd_fast.enet_coordinate_descent(\n"
     ]
    },
    {
     "name": "stdout",
     "output_type": "stream",
     "text": [
      "4\n"
     ]
    },
    {
     "name": "stderr",
     "output_type": "stream",
     "text": [
      "C:\\Users\\hyoan\\anaconda3\\lib\\site-packages\\sklearn\\linear_model\\_coordinate_descent.py:647: ConvergenceWarning: Objective did not converge. You might want to increase the number of iterations, check the scale of the features or consider increasing regularisation. Duality gap: 1.289e+09, tolerance: 3.994e+06\n",
      "  model = cd_fast.enet_coordinate_descent(\n",
      "C:\\Users\\hyoan\\anaconda3\\lib\\site-packages\\sklearn\\linear_model\\_coordinate_descent.py:647: ConvergenceWarning: Objective did not converge. You might want to increase the number of iterations, check the scale of the features or consider increasing regularisation. Duality gap: 1.131e+09, tolerance: 3.667e+06\n",
      "  model = cd_fast.enet_coordinate_descent(\n",
      "C:\\Users\\hyoan\\anaconda3\\lib\\site-packages\\sklearn\\linear_model\\_coordinate_descent.py:647: ConvergenceWarning: Objective did not converge. You might want to increase the number of iterations, check the scale of the features or consider increasing regularisation. Duality gap: 1.184e+09, tolerance: 3.889e+06\n",
      "  model = cd_fast.enet_coordinate_descent(\n",
      "C:\\Users\\hyoan\\anaconda3\\lib\\site-packages\\sklearn\\linear_model\\_coordinate_descent.py:647: ConvergenceWarning: Objective did not converge. You might want to increase the number of iterations, check the scale of the features or consider increasing regularisation. Duality gap: 1.058e+09, tolerance: 3.656e+06\n",
      "  model = cd_fast.enet_coordinate_descent(\n",
      "C:\\Users\\hyoan\\anaconda3\\lib\\site-packages\\sklearn\\linear_model\\_coordinate_descent.py:647: ConvergenceWarning: Objective did not converge. You might want to increase the number of iterations, check the scale of the features or consider increasing regularisation. Duality gap: 1.154e+09, tolerance: 3.510e+06\n",
      "  model = cd_fast.enet_coordinate_descent(\n"
     ]
    },
    {
     "name": "stdout",
     "output_type": "stream",
     "text": [
      "0.281176869797423\n",
      "1\n",
      "2\n"
     ]
    },
    {
     "name": "stderr",
     "output_type": "stream",
     "text": [
      "C:\\Users\\hyoan\\anaconda3\\lib\\site-packages\\sklearn\\linear_model\\_coordinate_descent.py:647: ConvergenceWarning: Objective did not converge. You might want to increase the number of iterations, check the scale of the features or consider increasing regularisation. Duality gap: 2.390e+09, tolerance: 3.994e+06\n",
      "  model = cd_fast.enet_coordinate_descent(\n",
      "C:\\Users\\hyoan\\anaconda3\\lib\\site-packages\\sklearn\\linear_model\\_coordinate_descent.py:647: ConvergenceWarning: Objective did not converge. You might want to increase the number of iterations, check the scale of the features or consider increasing regularisation. Duality gap: 2.088e+09, tolerance: 3.667e+06\n",
      "  model = cd_fast.enet_coordinate_descent(\n",
      "C:\\Users\\hyoan\\anaconda3\\lib\\site-packages\\sklearn\\linear_model\\_coordinate_descent.py:647: ConvergenceWarning: Objective did not converge. You might want to increase the number of iterations, check the scale of the features or consider increasing regularisation. Duality gap: 2.060e+09, tolerance: 3.889e+06\n",
      "  model = cd_fast.enet_coordinate_descent(\n",
      "C:\\Users\\hyoan\\anaconda3\\lib\\site-packages\\sklearn\\linear_model\\_coordinate_descent.py:647: ConvergenceWarning: Objective did not converge. You might want to increase the number of iterations, check the scale of the features or consider increasing regularisation. Duality gap: 1.298e+09, tolerance: 3.656e+06\n",
      "  model = cd_fast.enet_coordinate_descent(\n",
      "C:\\Users\\hyoan\\anaconda3\\lib\\site-packages\\sklearn\\linear_model\\_coordinate_descent.py:647: ConvergenceWarning: Objective did not converge. You might want to increase the number of iterations, check the scale of the features or consider increasing regularisation. Duality gap: 2.404e+09, tolerance: 3.510e+06\n",
      "  model = cd_fast.enet_coordinate_descent(\n"
     ]
    },
    {
     "name": "stdout",
     "output_type": "stream",
     "text": [
      "3\n"
     ]
    },
    {
     "name": "stderr",
     "output_type": "stream",
     "text": [
      "C:\\Users\\hyoan\\anaconda3\\lib\\site-packages\\sklearn\\linear_model\\_coordinate_descent.py:647: ConvergenceWarning: Objective did not converge. You might want to increase the number of iterations, check the scale of the features or consider increasing regularisation. Duality gap: 1.776e+09, tolerance: 3.994e+06\n",
      "  model = cd_fast.enet_coordinate_descent(\n",
      "C:\\Users\\hyoan\\anaconda3\\lib\\site-packages\\sklearn\\linear_model\\_coordinate_descent.py:647: ConvergenceWarning: Objective did not converge. You might want to increase the number of iterations, check the scale of the features or consider increasing regularisation. Duality gap: 1.542e+09, tolerance: 3.667e+06\n",
      "  model = cd_fast.enet_coordinate_descent(\n",
      "C:\\Users\\hyoan\\anaconda3\\lib\\site-packages\\sklearn\\linear_model\\_coordinate_descent.py:647: ConvergenceWarning: Objective did not converge. You might want to increase the number of iterations, check the scale of the features or consider increasing regularisation. Duality gap: 1.531e+09, tolerance: 3.889e+06\n",
      "  model = cd_fast.enet_coordinate_descent(\n",
      "C:\\Users\\hyoan\\anaconda3\\lib\\site-packages\\sklearn\\linear_model\\_coordinate_descent.py:647: ConvergenceWarning: Objective did not converge. You might want to increase the number of iterations, check the scale of the features or consider increasing regularisation. Duality gap: 1.441e+09, tolerance: 3.656e+06\n",
      "  model = cd_fast.enet_coordinate_descent(\n",
      "C:\\Users\\hyoan\\anaconda3\\lib\\site-packages\\sklearn\\linear_model\\_coordinate_descent.py:647: ConvergenceWarning: Objective did not converge. You might want to increase the number of iterations, check the scale of the features or consider increasing regularisation. Duality gap: 1.699e+09, tolerance: 3.510e+06\n",
      "  model = cd_fast.enet_coordinate_descent(\n"
     ]
    },
    {
     "name": "stdout",
     "output_type": "stream",
     "text": [
      "4\n"
     ]
    },
    {
     "name": "stderr",
     "output_type": "stream",
     "text": [
      "C:\\Users\\hyoan\\anaconda3\\lib\\site-packages\\sklearn\\linear_model\\_coordinate_descent.py:647: ConvergenceWarning: Objective did not converge. You might want to increase the number of iterations, check the scale of the features or consider increasing regularisation. Duality gap: 1.302e+09, tolerance: 3.994e+06\n",
      "  model = cd_fast.enet_coordinate_descent(\n",
      "C:\\Users\\hyoan\\anaconda3\\lib\\site-packages\\sklearn\\linear_model\\_coordinate_descent.py:647: ConvergenceWarning: Objective did not converge. You might want to increase the number of iterations, check the scale of the features or consider increasing regularisation. Duality gap: 1.148e+09, tolerance: 3.667e+06\n",
      "  model = cd_fast.enet_coordinate_descent(\n",
      "C:\\Users\\hyoan\\anaconda3\\lib\\site-packages\\sklearn\\linear_model\\_coordinate_descent.py:647: ConvergenceWarning: Objective did not converge. You might want to increase the number of iterations, check the scale of the features or consider increasing regularisation. Duality gap: 1.198e+09, tolerance: 3.889e+06\n",
      "  model = cd_fast.enet_coordinate_descent(\n",
      "C:\\Users\\hyoan\\anaconda3\\lib\\site-packages\\sklearn\\linear_model\\_coordinate_descent.py:647: ConvergenceWarning: Objective did not converge. You might want to increase the number of iterations, check the scale of the features or consider increasing regularisation. Duality gap: 1.074e+09, tolerance: 3.656e+06\n",
      "  model = cd_fast.enet_coordinate_descent(\n",
      "C:\\Users\\hyoan\\anaconda3\\lib\\site-packages\\sklearn\\linear_model\\_coordinate_descent.py:647: ConvergenceWarning: Objective did not converge. You might want to increase the number of iterations, check the scale of the features or consider increasing regularisation. Duality gap: 1.169e+09, tolerance: 3.510e+06\n",
      "  model = cd_fast.enet_coordinate_descent(\n"
     ]
    },
    {
     "name": "stdout",
     "output_type": "stream",
     "text": [
      "0.3088843596477481\n",
      "1\n",
      "2\n"
     ]
    },
    {
     "name": "stderr",
     "output_type": "stream",
     "text": [
      "C:\\Users\\hyoan\\anaconda3\\lib\\site-packages\\sklearn\\linear_model\\_coordinate_descent.py:647: ConvergenceWarning: Objective did not converge. You might want to increase the number of iterations, check the scale of the features or consider increasing regularisation. Duality gap: 2.249e+09, tolerance: 3.994e+06\n",
      "  model = cd_fast.enet_coordinate_descent(\n",
      "C:\\Users\\hyoan\\anaconda3\\lib\\site-packages\\sklearn\\linear_model\\_coordinate_descent.py:647: ConvergenceWarning: Objective did not converge. You might want to increase the number of iterations, check the scale of the features or consider increasing regularisation. Duality gap: 2.062e+09, tolerance: 3.667e+06\n",
      "  model = cd_fast.enet_coordinate_descent(\n",
      "C:\\Users\\hyoan\\anaconda3\\lib\\site-packages\\sklearn\\linear_model\\_coordinate_descent.py:647: ConvergenceWarning: Objective did not converge. You might want to increase the number of iterations, check the scale of the features or consider increasing regularisation. Duality gap: 1.920e+09, tolerance: 3.889e+06\n",
      "  model = cd_fast.enet_coordinate_descent(\n",
      "C:\\Users\\hyoan\\anaconda3\\lib\\site-packages\\sklearn\\linear_model\\_coordinate_descent.py:647: ConvergenceWarning: Objective did not converge. You might want to increase the number of iterations, check the scale of the features or consider increasing regularisation. Duality gap: 1.210e+09, tolerance: 3.656e+06\n",
      "  model = cd_fast.enet_coordinate_descent(\n",
      "C:\\Users\\hyoan\\anaconda3\\lib\\site-packages\\sklearn\\linear_model\\_coordinate_descent.py:647: ConvergenceWarning: Objective did not converge. You might want to increase the number of iterations, check the scale of the features or consider increasing regularisation. Duality gap: 2.317e+09, tolerance: 3.510e+06\n",
      "  model = cd_fast.enet_coordinate_descent(\n"
     ]
    },
    {
     "name": "stdout",
     "output_type": "stream",
     "text": [
      "3\n"
     ]
    },
    {
     "name": "stderr",
     "output_type": "stream",
     "text": [
      "C:\\Users\\hyoan\\anaconda3\\lib\\site-packages\\sklearn\\linear_model\\_coordinate_descent.py:647: ConvergenceWarning: Objective did not converge. You might want to increase the number of iterations, check the scale of the features or consider increasing regularisation. Duality gap: 1.745e+09, tolerance: 3.994e+06\n",
      "  model = cd_fast.enet_coordinate_descent(\n",
      "C:\\Users\\hyoan\\anaconda3\\lib\\site-packages\\sklearn\\linear_model\\_coordinate_descent.py:647: ConvergenceWarning: Objective did not converge. You might want to increase the number of iterations, check the scale of the features or consider increasing regularisation. Duality gap: 1.561e+09, tolerance: 3.667e+06\n",
      "  model = cd_fast.enet_coordinate_descent(\n",
      "C:\\Users\\hyoan\\anaconda3\\lib\\site-packages\\sklearn\\linear_model\\_coordinate_descent.py:647: ConvergenceWarning: Objective did not converge. You might want to increase the number of iterations, check the scale of the features or consider increasing regularisation. Duality gap: 1.514e+09, tolerance: 3.889e+06\n",
      "  model = cd_fast.enet_coordinate_descent(\n",
      "C:\\Users\\hyoan\\anaconda3\\lib\\site-packages\\sklearn\\linear_model\\_coordinate_descent.py:647: ConvergenceWarning: Objective did not converge. You might want to increase the number of iterations, check the scale of the features or consider increasing regularisation. Duality gap: 1.441e+09, tolerance: 3.656e+06\n",
      "  model = cd_fast.enet_coordinate_descent(\n",
      "C:\\Users\\hyoan\\anaconda3\\lib\\site-packages\\sklearn\\linear_model\\_coordinate_descent.py:647: ConvergenceWarning: Objective did not converge. You might want to increase the number of iterations, check the scale of the features or consider increasing regularisation. Duality gap: 1.709e+09, tolerance: 3.510e+06\n",
      "  model = cd_fast.enet_coordinate_descent(\n"
     ]
    },
    {
     "name": "stdout",
     "output_type": "stream",
     "text": [
      "4\n"
     ]
    },
    {
     "name": "stderr",
     "output_type": "stream",
     "text": [
      "C:\\Users\\hyoan\\anaconda3\\lib\\site-packages\\sklearn\\linear_model\\_coordinate_descent.py:647: ConvergenceWarning: Objective did not converge. You might want to increase the number of iterations, check the scale of the features or consider increasing regularisation. Duality gap: 1.315e+09, tolerance: 3.994e+06\n",
      "  model = cd_fast.enet_coordinate_descent(\n",
      "C:\\Users\\hyoan\\anaconda3\\lib\\site-packages\\sklearn\\linear_model\\_coordinate_descent.py:647: ConvergenceWarning: Objective did not converge. You might want to increase the number of iterations, check the scale of the features or consider increasing regularisation. Duality gap: 1.164e+09, tolerance: 3.667e+06\n",
      "  model = cd_fast.enet_coordinate_descent(\n",
      "C:\\Users\\hyoan\\anaconda3\\lib\\site-packages\\sklearn\\linear_model\\_coordinate_descent.py:647: ConvergenceWarning: Objective did not converge. You might want to increase the number of iterations, check the scale of the features or consider increasing regularisation. Duality gap: 1.211e+09, tolerance: 3.889e+06\n",
      "  model = cd_fast.enet_coordinate_descent(\n",
      "C:\\Users\\hyoan\\anaconda3\\lib\\site-packages\\sklearn\\linear_model\\_coordinate_descent.py:647: ConvergenceWarning: Objective did not converge. You might want to increase the number of iterations, check the scale of the features or consider increasing regularisation. Duality gap: 1.088e+09, tolerance: 3.656e+06\n",
      "  model = cd_fast.enet_coordinate_descent(\n",
      "C:\\Users\\hyoan\\anaconda3\\lib\\site-packages\\sklearn\\linear_model\\_coordinate_descent.py:647: ConvergenceWarning: Objective did not converge. You might want to increase the number of iterations, check the scale of the features or consider increasing regularisation. Duality gap: 1.183e+09, tolerance: 3.510e+06\n",
      "  model = cd_fast.enet_coordinate_descent(\n"
     ]
    },
    {
     "name": "stdout",
     "output_type": "stream",
     "text": [
      "0.3393221771895328\n",
      "1\n",
      "2\n"
     ]
    },
    {
     "name": "stderr",
     "output_type": "stream",
     "text": [
      "C:\\Users\\hyoan\\anaconda3\\lib\\site-packages\\sklearn\\linear_model\\_coordinate_descent.py:647: ConvergenceWarning: Objective did not converge. You might want to increase the number of iterations, check the scale of the features or consider increasing regularisation. Duality gap: 2.090e+09, tolerance: 3.994e+06\n",
      "  model = cd_fast.enet_coordinate_descent(\n",
      "C:\\Users\\hyoan\\anaconda3\\lib\\site-packages\\sklearn\\linear_model\\_coordinate_descent.py:647: ConvergenceWarning: Objective did not converge. You might want to increase the number of iterations, check the scale of the features or consider increasing regularisation. Duality gap: 1.932e+09, tolerance: 3.667e+06\n",
      "  model = cd_fast.enet_coordinate_descent(\n",
      "C:\\Users\\hyoan\\anaconda3\\lib\\site-packages\\sklearn\\linear_model\\_coordinate_descent.py:647: ConvergenceWarning: Objective did not converge. You might want to increase the number of iterations, check the scale of the features or consider increasing regularisation. Duality gap: 1.750e+09, tolerance: 3.889e+06\n",
      "  model = cd_fast.enet_coordinate_descent(\n",
      "C:\\Users\\hyoan\\anaconda3\\lib\\site-packages\\sklearn\\linear_model\\_coordinate_descent.py:647: ConvergenceWarning: Objective did not converge. You might want to increase the number of iterations, check the scale of the features or consider increasing regularisation. Duality gap: 1.014e+09, tolerance: 3.656e+06\n",
      "  model = cd_fast.enet_coordinate_descent(\n",
      "C:\\Users\\hyoan\\anaconda3\\lib\\site-packages\\sklearn\\linear_model\\_coordinate_descent.py:647: ConvergenceWarning: Objective did not converge. You might want to increase the number of iterations, check the scale of the features or consider increasing regularisation. Duality gap: 2.181e+09, tolerance: 3.510e+06\n",
      "  model = cd_fast.enet_coordinate_descent(\n"
     ]
    },
    {
     "name": "stdout",
     "output_type": "stream",
     "text": [
      "3\n"
     ]
    },
    {
     "name": "stderr",
     "output_type": "stream",
     "text": [
      "C:\\Users\\hyoan\\anaconda3\\lib\\site-packages\\sklearn\\linear_model\\_coordinate_descent.py:647: ConvergenceWarning: Objective did not converge. You might want to increase the number of iterations, check the scale of the features or consider increasing regularisation. Duality gap: 1.777e+09, tolerance: 3.994e+06\n",
      "  model = cd_fast.enet_coordinate_descent(\n",
      "C:\\Users\\hyoan\\anaconda3\\lib\\site-packages\\sklearn\\linear_model\\_coordinate_descent.py:647: ConvergenceWarning: Objective did not converge. You might want to increase the number of iterations, check the scale of the features or consider increasing regularisation. Duality gap: 1.572e+09, tolerance: 3.667e+06\n",
      "  model = cd_fast.enet_coordinate_descent(\n",
      "C:\\Users\\hyoan\\anaconda3\\lib\\site-packages\\sklearn\\linear_model\\_coordinate_descent.py:647: ConvergenceWarning: Objective did not converge. You might want to increase the number of iterations, check the scale of the features or consider increasing regularisation. Duality gap: 1.494e+09, tolerance: 3.889e+06\n",
      "  model = cd_fast.enet_coordinate_descent(\n",
      "C:\\Users\\hyoan\\anaconda3\\lib\\site-packages\\sklearn\\linear_model\\_coordinate_descent.py:647: ConvergenceWarning: Objective did not converge. You might want to increase the number of iterations, check the scale of the features or consider increasing regularisation. Duality gap: 1.475e+09, tolerance: 3.656e+06\n",
      "  model = cd_fast.enet_coordinate_descent(\n",
      "C:\\Users\\hyoan\\anaconda3\\lib\\site-packages\\sklearn\\linear_model\\_coordinate_descent.py:647: ConvergenceWarning: Objective did not converge. You might want to increase the number of iterations, check the scale of the features or consider increasing regularisation. Duality gap: 1.714e+09, tolerance: 3.510e+06\n",
      "  model = cd_fast.enet_coordinate_descent(\n"
     ]
    },
    {
     "name": "stdout",
     "output_type": "stream",
     "text": [
      "4\n"
     ]
    },
    {
     "name": "stderr",
     "output_type": "stream",
     "text": [
      "C:\\Users\\hyoan\\anaconda3\\lib\\site-packages\\sklearn\\linear_model\\_coordinate_descent.py:647: ConvergenceWarning: Objective did not converge. You might want to increase the number of iterations, check the scale of the features or consider increasing regularisation. Duality gap: 1.316e+09, tolerance: 3.994e+06\n",
      "  model = cd_fast.enet_coordinate_descent(\n",
      "C:\\Users\\hyoan\\anaconda3\\lib\\site-packages\\sklearn\\linear_model\\_coordinate_descent.py:647: ConvergenceWarning: Objective did not converge. You might want to increase the number of iterations, check the scale of the features or consider increasing regularisation. Duality gap: 1.176e+09, tolerance: 3.667e+06\n",
      "  model = cd_fast.enet_coordinate_descent(\n",
      "C:\\Users\\hyoan\\anaconda3\\lib\\site-packages\\sklearn\\linear_model\\_coordinate_descent.py:647: ConvergenceWarning: Objective did not converge. You might want to increase the number of iterations, check the scale of the features or consider increasing regularisation. Duality gap: 1.229e+09, tolerance: 3.889e+06\n",
      "  model = cd_fast.enet_coordinate_descent(\n",
      "C:\\Users\\hyoan\\anaconda3\\lib\\site-packages\\sklearn\\linear_model\\_coordinate_descent.py:647: ConvergenceWarning: Objective did not converge. You might want to increase the number of iterations, check the scale of the features or consider increasing regularisation. Duality gap: 1.098e+09, tolerance: 3.656e+06\n",
      "  model = cd_fast.enet_coordinate_descent(\n",
      "C:\\Users\\hyoan\\anaconda3\\lib\\site-packages\\sklearn\\linear_model\\_coordinate_descent.py:647: ConvergenceWarning: Objective did not converge. You might want to increase the number of iterations, check the scale of the features or consider increasing regularisation. Duality gap: 1.200e+09, tolerance: 3.510e+06\n",
      "  model = cd_fast.enet_coordinate_descent(\n"
     ]
    },
    {
     "name": "stdout",
     "output_type": "stream",
     "text": [
      "0.372759372031494\n",
      "1\n",
      "2\n"
     ]
    },
    {
     "name": "stderr",
     "output_type": "stream",
     "text": [
      "C:\\Users\\hyoan\\anaconda3\\lib\\site-packages\\sklearn\\linear_model\\_coordinate_descent.py:647: ConvergenceWarning: Objective did not converge. You might want to increase the number of iterations, check the scale of the features or consider increasing regularisation. Duality gap: 1.922e+09, tolerance: 3.994e+06\n",
      "  model = cd_fast.enet_coordinate_descent(\n",
      "C:\\Users\\hyoan\\anaconda3\\lib\\site-packages\\sklearn\\linear_model\\_coordinate_descent.py:647: ConvergenceWarning: Objective did not converge. You might want to increase the number of iterations, check the scale of the features or consider increasing regularisation. Duality gap: 1.751e+09, tolerance: 3.667e+06\n",
      "  model = cd_fast.enet_coordinate_descent(\n",
      "C:\\Users\\hyoan\\anaconda3\\lib\\site-packages\\sklearn\\linear_model\\_coordinate_descent.py:647: ConvergenceWarning: Objective did not converge. You might want to increase the number of iterations, check the scale of the features or consider increasing regularisation. Duality gap: 1.593e+09, tolerance: 3.889e+06\n",
      "  model = cd_fast.enet_coordinate_descent(\n",
      "C:\\Users\\hyoan\\anaconda3\\lib\\site-packages\\sklearn\\linear_model\\_coordinate_descent.py:647: ConvergenceWarning: Objective did not converge. You might want to increase the number of iterations, check the scale of the features or consider increasing regularisation. Duality gap: 8.527e+08, tolerance: 3.656e+06\n",
      "  model = cd_fast.enet_coordinate_descent(\n",
      "C:\\Users\\hyoan\\anaconda3\\lib\\site-packages\\sklearn\\linear_model\\_coordinate_descent.py:647: ConvergenceWarning: Objective did not converge. You might want to increase the number of iterations, check the scale of the features or consider increasing regularisation. Duality gap: 2.029e+09, tolerance: 3.510e+06\n",
      "  model = cd_fast.enet_coordinate_descent(\n"
     ]
    },
    {
     "name": "stdout",
     "output_type": "stream",
     "text": [
      "3\n"
     ]
    },
    {
     "name": "stderr",
     "output_type": "stream",
     "text": [
      "C:\\Users\\hyoan\\anaconda3\\lib\\site-packages\\sklearn\\linear_model\\_coordinate_descent.py:647: ConvergenceWarning: Objective did not converge. You might want to increase the number of iterations, check the scale of the features or consider increasing regularisation. Duality gap: 1.837e+09, tolerance: 3.994e+06\n",
      "  model = cd_fast.enet_coordinate_descent(\n",
      "C:\\Users\\hyoan\\anaconda3\\lib\\site-packages\\sklearn\\linear_model\\_coordinate_descent.py:647: ConvergenceWarning: Objective did not converge. You might want to increase the number of iterations, check the scale of the features or consider increasing regularisation. Duality gap: 1.584e+09, tolerance: 3.667e+06\n",
      "  model = cd_fast.enet_coordinate_descent(\n",
      "C:\\Users\\hyoan\\anaconda3\\lib\\site-packages\\sklearn\\linear_model\\_coordinate_descent.py:647: ConvergenceWarning: Objective did not converge. You might want to increase the number of iterations, check the scale of the features or consider increasing regularisation. Duality gap: 1.480e+09, tolerance: 3.889e+06\n",
      "  model = cd_fast.enet_coordinate_descent(\n",
      "C:\\Users\\hyoan\\anaconda3\\lib\\site-packages\\sklearn\\linear_model\\_coordinate_descent.py:647: ConvergenceWarning: Objective did not converge. You might want to increase the number of iterations, check the scale of the features or consider increasing regularisation. Duality gap: 1.459e+09, tolerance: 3.656e+06\n",
      "  model = cd_fast.enet_coordinate_descent(\n",
      "C:\\Users\\hyoan\\anaconda3\\lib\\site-packages\\sklearn\\linear_model\\_coordinate_descent.py:647: ConvergenceWarning: Objective did not converge. You might want to increase the number of iterations, check the scale of the features or consider increasing regularisation. Duality gap: 1.718e+09, tolerance: 3.510e+06\n",
      "  model = cd_fast.enet_coordinate_descent(\n"
     ]
    },
    {
     "name": "stdout",
     "output_type": "stream",
     "text": [
      "4\n"
     ]
    },
    {
     "name": "stderr",
     "output_type": "stream",
     "text": [
      "C:\\Users\\hyoan\\anaconda3\\lib\\site-packages\\sklearn\\linear_model\\_coordinate_descent.py:647: ConvergenceWarning: Objective did not converge. You might want to increase the number of iterations, check the scale of the features or consider increasing regularisation. Duality gap: 1.333e+09, tolerance: 3.994e+06\n",
      "  model = cd_fast.enet_coordinate_descent(\n",
      "C:\\Users\\hyoan\\anaconda3\\lib\\site-packages\\sklearn\\linear_model\\_coordinate_descent.py:647: ConvergenceWarning: Objective did not converge. You might want to increase the number of iterations, check the scale of the features or consider increasing regularisation. Duality gap: 1.196e+09, tolerance: 3.667e+06\n",
      "  model = cd_fast.enet_coordinate_descent(\n",
      "C:\\Users\\hyoan\\anaconda3\\lib\\site-packages\\sklearn\\linear_model\\_coordinate_descent.py:647: ConvergenceWarning: Objective did not converge. You might want to increase the number of iterations, check the scale of the features or consider increasing regularisation. Duality gap: 1.233e+09, tolerance: 3.889e+06\n",
      "  model = cd_fast.enet_coordinate_descent(\n",
      "C:\\Users\\hyoan\\anaconda3\\lib\\site-packages\\sklearn\\linear_model\\_coordinate_descent.py:647: ConvergenceWarning: Objective did not converge. You might want to increase the number of iterations, check the scale of the features or consider increasing regularisation. Duality gap: 1.116e+09, tolerance: 3.656e+06\n",
      "  model = cd_fast.enet_coordinate_descent(\n",
      "C:\\Users\\hyoan\\anaconda3\\lib\\site-packages\\sklearn\\linear_model\\_coordinate_descent.py:647: ConvergenceWarning: Objective did not converge. You might want to increase the number of iterations, check the scale of the features or consider increasing regularisation. Duality gap: 1.216e+09, tolerance: 3.510e+06\n",
      "  model = cd_fast.enet_coordinate_descent(\n"
     ]
    },
    {
     "name": "stdout",
     "output_type": "stream",
     "text": [
      "0.4094915062380424\n",
      "1\n",
      "2\n"
     ]
    },
    {
     "name": "stderr",
     "output_type": "stream",
     "text": [
      "C:\\Users\\hyoan\\anaconda3\\lib\\site-packages\\sklearn\\linear_model\\_coordinate_descent.py:647: ConvergenceWarning: Objective did not converge. You might want to increase the number of iterations, check the scale of the features or consider increasing regularisation. Duality gap: 1.799e+09, tolerance: 3.994e+06\n",
      "  model = cd_fast.enet_coordinate_descent(\n",
      "C:\\Users\\hyoan\\anaconda3\\lib\\site-packages\\sklearn\\linear_model\\_coordinate_descent.py:647: ConvergenceWarning: Objective did not converge. You might want to increase the number of iterations, check the scale of the features or consider increasing regularisation. Duality gap: 1.578e+09, tolerance: 3.667e+06\n",
      "  model = cd_fast.enet_coordinate_descent(\n",
      "C:\\Users\\hyoan\\anaconda3\\lib\\site-packages\\sklearn\\linear_model\\_coordinate_descent.py:647: ConvergenceWarning: Objective did not converge. You might want to increase the number of iterations, check the scale of the features or consider increasing regularisation. Duality gap: 1.479e+09, tolerance: 3.889e+06\n",
      "  model = cd_fast.enet_coordinate_descent(\n",
      "C:\\Users\\hyoan\\anaconda3\\lib\\site-packages\\sklearn\\linear_model\\_coordinate_descent.py:647: ConvergenceWarning: Objective did not converge. You might want to increase the number of iterations, check the scale of the features or consider increasing regularisation. Duality gap: 6.753e+08, tolerance: 3.656e+06\n",
      "  model = cd_fast.enet_coordinate_descent(\n",
      "C:\\Users\\hyoan\\anaconda3\\lib\\site-packages\\sklearn\\linear_model\\_coordinate_descent.py:647: ConvergenceWarning: Objective did not converge. You might want to increase the number of iterations, check the scale of the features or consider increasing regularisation. Duality gap: 1.856e+09, tolerance: 3.510e+06\n",
      "  model = cd_fast.enet_coordinate_descent(\n"
     ]
    },
    {
     "name": "stdout",
     "output_type": "stream",
     "text": [
      "3\n"
     ]
    },
    {
     "name": "stderr",
     "output_type": "stream",
     "text": [
      "C:\\Users\\hyoan\\anaconda3\\lib\\site-packages\\sklearn\\linear_model\\_coordinate_descent.py:647: ConvergenceWarning: Objective did not converge. You might want to increase the number of iterations, check the scale of the features or consider increasing regularisation. Duality gap: 1.803e+09, tolerance: 3.994e+06\n",
      "  model = cd_fast.enet_coordinate_descent(\n",
      "C:\\Users\\hyoan\\anaconda3\\lib\\site-packages\\sklearn\\linear_model\\_coordinate_descent.py:647: ConvergenceWarning: Objective did not converge. You might want to increase the number of iterations, check the scale of the features or consider increasing regularisation. Duality gap: 1.573e+09, tolerance: 3.667e+06\n",
      "  model = cd_fast.enet_coordinate_descent(\n",
      "C:\\Users\\hyoan\\anaconda3\\lib\\site-packages\\sklearn\\linear_model\\_coordinate_descent.py:647: ConvergenceWarning: Objective did not converge. You might want to increase the number of iterations, check the scale of the features or consider increasing regularisation. Duality gap: 1.456e+09, tolerance: 3.889e+06\n",
      "  model = cd_fast.enet_coordinate_descent(\n",
      "C:\\Users\\hyoan\\anaconda3\\lib\\site-packages\\sklearn\\linear_model\\_coordinate_descent.py:647: ConvergenceWarning: Objective did not converge. You might want to increase the number of iterations, check the scale of the features or consider increasing regularisation. Duality gap: 1.463e+09, tolerance: 3.656e+06\n",
      "  model = cd_fast.enet_coordinate_descent(\n",
      "C:\\Users\\hyoan\\anaconda3\\lib\\site-packages\\sklearn\\linear_model\\_coordinate_descent.py:647: ConvergenceWarning: Objective did not converge. You might want to increase the number of iterations, check the scale of the features or consider increasing regularisation. Duality gap: 1.735e+09, tolerance: 3.510e+06\n",
      "  model = cd_fast.enet_coordinate_descent(\n"
     ]
    },
    {
     "name": "stdout",
     "output_type": "stream",
     "text": [
      "4\n"
     ]
    },
    {
     "name": "stderr",
     "output_type": "stream",
     "text": [
      "C:\\Users\\hyoan\\anaconda3\\lib\\site-packages\\sklearn\\linear_model\\_coordinate_descent.py:647: ConvergenceWarning: Objective did not converge. You might want to increase the number of iterations, check the scale of the features or consider increasing regularisation. Duality gap: 1.360e+09, tolerance: 3.994e+06\n",
      "  model = cd_fast.enet_coordinate_descent(\n",
      "C:\\Users\\hyoan\\anaconda3\\lib\\site-packages\\sklearn\\linear_model\\_coordinate_descent.py:647: ConvergenceWarning: Objective did not converge. You might want to increase the number of iterations, check the scale of the features or consider increasing regularisation. Duality gap: 1.214e+09, tolerance: 3.667e+06\n",
      "  model = cd_fast.enet_coordinate_descent(\n",
      "C:\\Users\\hyoan\\anaconda3\\lib\\site-packages\\sklearn\\linear_model\\_coordinate_descent.py:647: ConvergenceWarning: Objective did not converge. You might want to increase the number of iterations, check the scale of the features or consider increasing regularisation. Duality gap: 1.245e+09, tolerance: 3.889e+06\n",
      "  model = cd_fast.enet_coordinate_descent(\n",
      "C:\\Users\\hyoan\\anaconda3\\lib\\site-packages\\sklearn\\linear_model\\_coordinate_descent.py:647: ConvergenceWarning: Objective did not converge. You might want to increase the number of iterations, check the scale of the features or consider increasing regularisation. Duality gap: 1.132e+09, tolerance: 3.656e+06\n",
      "  model = cd_fast.enet_coordinate_descent(\n",
      "C:\\Users\\hyoan\\anaconda3\\lib\\site-packages\\sklearn\\linear_model\\_coordinate_descent.py:647: ConvergenceWarning: Objective did not converge. You might want to increase the number of iterations, check the scale of the features or consider increasing regularisation. Duality gap: 1.229e+09, tolerance: 3.510e+06\n",
      "  model = cd_fast.enet_coordinate_descent(\n"
     ]
    },
    {
     "name": "stdout",
     "output_type": "stream",
     "text": [
      "0.44984326689694454\n",
      "1\n",
      "2\n"
     ]
    },
    {
     "name": "stderr",
     "output_type": "stream",
     "text": [
      "C:\\Users\\hyoan\\anaconda3\\lib\\site-packages\\sklearn\\linear_model\\_coordinate_descent.py:647: ConvergenceWarning: Objective did not converge. You might want to increase the number of iterations, check the scale of the features or consider increasing regularisation. Duality gap: 1.677e+09, tolerance: 3.994e+06\n",
      "  model = cd_fast.enet_coordinate_descent(\n",
      "C:\\Users\\hyoan\\anaconda3\\lib\\site-packages\\sklearn\\linear_model\\_coordinate_descent.py:647: ConvergenceWarning: Objective did not converge. You might want to increase the number of iterations, check the scale of the features or consider increasing regularisation. Duality gap: 1.471e+09, tolerance: 3.667e+06\n",
      "  model = cd_fast.enet_coordinate_descent(\n",
      "C:\\Users\\hyoan\\anaconda3\\lib\\site-packages\\sklearn\\linear_model\\_coordinate_descent.py:647: ConvergenceWarning: Objective did not converge. You might want to increase the number of iterations, check the scale of the features or consider increasing regularisation. Duality gap: 1.362e+09, tolerance: 3.889e+06\n",
      "  model = cd_fast.enet_coordinate_descent(\n",
      "C:\\Users\\hyoan\\anaconda3\\lib\\site-packages\\sklearn\\linear_model\\_coordinate_descent.py:647: ConvergenceWarning: Objective did not converge. You might want to increase the number of iterations, check the scale of the features or consider increasing regularisation. Duality gap: 5.895e+08, tolerance: 3.656e+06\n",
      "  model = cd_fast.enet_coordinate_descent(\n",
      "C:\\Users\\hyoan\\anaconda3\\lib\\site-packages\\sklearn\\linear_model\\_coordinate_descent.py:647: ConvergenceWarning: Objective did not converge. You might want to increase the number of iterations, check the scale of the features or consider increasing regularisation. Duality gap: 1.658e+09, tolerance: 3.510e+06\n",
      "  model = cd_fast.enet_coordinate_descent(\n"
     ]
    },
    {
     "name": "stdout",
     "output_type": "stream",
     "text": [
      "3\n"
     ]
    },
    {
     "name": "stderr",
     "output_type": "stream",
     "text": [
      "C:\\Users\\hyoan\\anaconda3\\lib\\site-packages\\sklearn\\linear_model\\_coordinate_descent.py:647: ConvergenceWarning: Objective did not converge. You might want to increase the number of iterations, check the scale of the features or consider increasing regularisation. Duality gap: 1.828e+09, tolerance: 3.994e+06\n",
      "  model = cd_fast.enet_coordinate_descent(\n",
      "C:\\Users\\hyoan\\anaconda3\\lib\\site-packages\\sklearn\\linear_model\\_coordinate_descent.py:647: ConvergenceWarning: Objective did not converge. You might want to increase the number of iterations, check the scale of the features or consider increasing regularisation. Duality gap: 1.583e+09, tolerance: 3.667e+06\n",
      "  model = cd_fast.enet_coordinate_descent(\n",
      "C:\\Users\\hyoan\\anaconda3\\lib\\site-packages\\sklearn\\linear_model\\_coordinate_descent.py:647: ConvergenceWarning: Objective did not converge. You might want to increase the number of iterations, check the scale of the features or consider increasing regularisation. Duality gap: 1.437e+09, tolerance: 3.889e+06\n",
      "  model = cd_fast.enet_coordinate_descent(\n",
      "C:\\Users\\hyoan\\anaconda3\\lib\\site-packages\\sklearn\\linear_model\\_coordinate_descent.py:647: ConvergenceWarning: Objective did not converge. You might want to increase the number of iterations, check the scale of the features or consider increasing regularisation. Duality gap: 1.497e+09, tolerance: 3.656e+06\n",
      "  model = cd_fast.enet_coordinate_descent(\n",
      "C:\\Users\\hyoan\\anaconda3\\lib\\site-packages\\sklearn\\linear_model\\_coordinate_descent.py:647: ConvergenceWarning: Objective did not converge. You might want to increase the number of iterations, check the scale of the features or consider increasing regularisation. Duality gap: 1.744e+09, tolerance: 3.510e+06\n",
      "  model = cd_fast.enet_coordinate_descent(\n"
     ]
    },
    {
     "name": "stdout",
     "output_type": "stream",
     "text": [
      "4\n"
     ]
    },
    {
     "name": "stderr",
     "output_type": "stream",
     "text": [
      "C:\\Users\\hyoan\\anaconda3\\lib\\site-packages\\sklearn\\linear_model\\_coordinate_descent.py:647: ConvergenceWarning: Objective did not converge. You might want to increase the number of iterations, check the scale of the features or consider increasing regularisation. Duality gap: 1.352e+09, tolerance: 3.994e+06\n",
      "  model = cd_fast.enet_coordinate_descent(\n",
      "C:\\Users\\hyoan\\anaconda3\\lib\\site-packages\\sklearn\\linear_model\\_coordinate_descent.py:647: ConvergenceWarning: Objective did not converge. You might want to increase the number of iterations, check the scale of the features or consider increasing regularisation. Duality gap: 1.227e+09, tolerance: 3.667e+06\n",
      "  model = cd_fast.enet_coordinate_descent(\n",
      "C:\\Users\\hyoan\\anaconda3\\lib\\site-packages\\sklearn\\linear_model\\_coordinate_descent.py:647: ConvergenceWarning: Objective did not converge. You might want to increase the number of iterations, check the scale of the features or consider increasing regularisation. Duality gap: 1.261e+09, tolerance: 3.889e+06\n",
      "  model = cd_fast.enet_coordinate_descent(\n",
      "C:\\Users\\hyoan\\anaconda3\\lib\\site-packages\\sklearn\\linear_model\\_coordinate_descent.py:647: ConvergenceWarning: Objective did not converge. You might want to increase the number of iterations, check the scale of the features or consider increasing regularisation. Duality gap: 1.151e+09, tolerance: 3.656e+06\n",
      "  model = cd_fast.enet_coordinate_descent(\n",
      "C:\\Users\\hyoan\\anaconda3\\lib\\site-packages\\sklearn\\linear_model\\_coordinate_descent.py:647: ConvergenceWarning: Objective did not converge. You might want to increase the number of iterations, check the scale of the features or consider increasing regularisation. Duality gap: 1.240e+09, tolerance: 3.510e+06\n",
      "  model = cd_fast.enet_coordinate_descent(\n"
     ]
    },
    {
     "name": "stdout",
     "output_type": "stream",
     "text": [
      "0.49417133613238345\n",
      "1\n",
      "2\n"
     ]
    },
    {
     "name": "stderr",
     "output_type": "stream",
     "text": [
      "C:\\Users\\hyoan\\anaconda3\\lib\\site-packages\\sklearn\\linear_model\\_coordinate_descent.py:647: ConvergenceWarning: Objective did not converge. You might want to increase the number of iterations, check the scale of the features or consider increasing regularisation. Duality gap: 1.554e+09, tolerance: 3.994e+06\n",
      "  model = cd_fast.enet_coordinate_descent(\n",
      "C:\\Users\\hyoan\\anaconda3\\lib\\site-packages\\sklearn\\linear_model\\_coordinate_descent.py:647: ConvergenceWarning: Objective did not converge. You might want to increase the number of iterations, check the scale of the features or consider increasing regularisation. Duality gap: 1.366e+09, tolerance: 3.667e+06\n",
      "  model = cd_fast.enet_coordinate_descent(\n",
      "C:\\Users\\hyoan\\anaconda3\\lib\\site-packages\\sklearn\\linear_model\\_coordinate_descent.py:647: ConvergenceWarning: Objective did not converge. You might want to increase the number of iterations, check the scale of the features or consider increasing regularisation. Duality gap: 1.237e+09, tolerance: 3.889e+06\n",
      "  model = cd_fast.enet_coordinate_descent(\n",
      "C:\\Users\\hyoan\\anaconda3\\lib\\site-packages\\sklearn\\linear_model\\_coordinate_descent.py:647: ConvergenceWarning: Objective did not converge. You might want to increase the number of iterations, check the scale of the features or consider increasing regularisation. Duality gap: 5.220e+08, tolerance: 3.656e+06\n",
      "  model = cd_fast.enet_coordinate_descent(\n",
      "C:\\Users\\hyoan\\anaconda3\\lib\\site-packages\\sklearn\\linear_model\\_coordinate_descent.py:647: ConvergenceWarning: Objective did not converge. You might want to increase the number of iterations, check the scale of the features or consider increasing regularisation. Duality gap: 1.458e+09, tolerance: 3.510e+06\n",
      "  model = cd_fast.enet_coordinate_descent(\n"
     ]
    },
    {
     "name": "stdout",
     "output_type": "stream",
     "text": [
      "3\n"
     ]
    },
    {
     "name": "stderr",
     "output_type": "stream",
     "text": [
      "C:\\Users\\hyoan\\anaconda3\\lib\\site-packages\\sklearn\\linear_model\\_coordinate_descent.py:647: ConvergenceWarning: Objective did not converge. You might want to increase the number of iterations, check the scale of the features or consider increasing regularisation. Duality gap: 1.857e+09, tolerance: 3.994e+06\n",
      "  model = cd_fast.enet_coordinate_descent(\n",
      "C:\\Users\\hyoan\\anaconda3\\lib\\site-packages\\sklearn\\linear_model\\_coordinate_descent.py:647: ConvergenceWarning: Objective did not converge. You might want to increase the number of iterations, check the scale of the features or consider increasing regularisation. Duality gap: 1.546e+09, tolerance: 3.667e+06\n",
      "  model = cd_fast.enet_coordinate_descent(\n",
      "C:\\Users\\hyoan\\anaconda3\\lib\\site-packages\\sklearn\\linear_model\\_coordinate_descent.py:647: ConvergenceWarning: Objective did not converge. You might want to increase the number of iterations, check the scale of the features or consider increasing regularisation. Duality gap: 1.528e+09, tolerance: 3.889e+06\n",
      "  model = cd_fast.enet_coordinate_descent(\n",
      "C:\\Users\\hyoan\\anaconda3\\lib\\site-packages\\sklearn\\linear_model\\_coordinate_descent.py:647: ConvergenceWarning: Objective did not converge. You might want to increase the number of iterations, check the scale of the features or consider increasing regularisation. Duality gap: 1.544e+09, tolerance: 3.656e+06\n",
      "  model = cd_fast.enet_coordinate_descent(\n",
      "C:\\Users\\hyoan\\anaconda3\\lib\\site-packages\\sklearn\\linear_model\\_coordinate_descent.py:647: ConvergenceWarning: Objective did not converge. You might want to increase the number of iterations, check the scale of the features or consider increasing regularisation. Duality gap: 1.746e+09, tolerance: 3.510e+06\n",
      "  model = cd_fast.enet_coordinate_descent(\n"
     ]
    },
    {
     "name": "stdout",
     "output_type": "stream",
     "text": [
      "4\n"
     ]
    },
    {
     "name": "stderr",
     "output_type": "stream",
     "text": [
      "C:\\Users\\hyoan\\anaconda3\\lib\\site-packages\\sklearn\\linear_model\\_coordinate_descent.py:647: ConvergenceWarning: Objective did not converge. You might want to increase the number of iterations, check the scale of the features or consider increasing regularisation. Duality gap: 1.348e+09, tolerance: 3.994e+06\n",
      "  model = cd_fast.enet_coordinate_descent(\n",
      "C:\\Users\\hyoan\\anaconda3\\lib\\site-packages\\sklearn\\linear_model\\_coordinate_descent.py:647: ConvergenceWarning: Objective did not converge. You might want to increase the number of iterations, check the scale of the features or consider increasing regularisation. Duality gap: 1.241e+09, tolerance: 3.667e+06\n",
      "  model = cd_fast.enet_coordinate_descent(\n",
      "C:\\Users\\hyoan\\anaconda3\\lib\\site-packages\\sklearn\\linear_model\\_coordinate_descent.py:647: ConvergenceWarning: Objective did not converge. You might want to increase the number of iterations, check the scale of the features or consider increasing regularisation. Duality gap: 1.298e+09, tolerance: 3.889e+06\n",
      "  model = cd_fast.enet_coordinate_descent(\n",
      "C:\\Users\\hyoan\\anaconda3\\lib\\site-packages\\sklearn\\linear_model\\_coordinate_descent.py:647: ConvergenceWarning: Objective did not converge. You might want to increase the number of iterations, check the scale of the features or consider increasing regularisation. Duality gap: 1.168e+09, tolerance: 3.656e+06\n",
      "  model = cd_fast.enet_coordinate_descent(\n",
      "C:\\Users\\hyoan\\anaconda3\\lib\\site-packages\\sklearn\\linear_model\\_coordinate_descent.py:647: ConvergenceWarning: Objective did not converge. You might want to increase the number of iterations, check the scale of the features or consider increasing regularisation. Duality gap: 1.257e+09, tolerance: 3.510e+06\n",
      "  model = cd_fast.enet_coordinate_descent(\n"
     ]
    },
    {
     "name": "stdout",
     "output_type": "stream",
     "text": [
      "0.5428675439323859\n",
      "1\n",
      "2\n"
     ]
    },
    {
     "name": "stderr",
     "output_type": "stream",
     "text": [
      "C:\\Users\\hyoan\\anaconda3\\lib\\site-packages\\sklearn\\linear_model\\_coordinate_descent.py:647: ConvergenceWarning: Objective did not converge. You might want to increase the number of iterations, check the scale of the features or consider increasing regularisation. Duality gap: 1.431e+09, tolerance: 3.994e+06\n",
      "  model = cd_fast.enet_coordinate_descent(\n",
      "C:\\Users\\hyoan\\anaconda3\\lib\\site-packages\\sklearn\\linear_model\\_coordinate_descent.py:647: ConvergenceWarning: Objective did not converge. You might want to increase the number of iterations, check the scale of the features or consider increasing regularisation. Duality gap: 1.260e+09, tolerance: 3.667e+06\n",
      "  model = cd_fast.enet_coordinate_descent(\n",
      "C:\\Users\\hyoan\\anaconda3\\lib\\site-packages\\sklearn\\linear_model\\_coordinate_descent.py:647: ConvergenceWarning: Objective did not converge. You might want to increase the number of iterations, check the scale of the features or consider increasing regularisation. Duality gap: 1.103e+09, tolerance: 3.889e+06\n",
      "  model = cd_fast.enet_coordinate_descent(\n",
      "C:\\Users\\hyoan\\anaconda3\\lib\\site-packages\\sklearn\\linear_model\\_coordinate_descent.py:647: ConvergenceWarning: Objective did not converge. You might want to increase the number of iterations, check the scale of the features or consider increasing regularisation. Duality gap: 4.678e+08, tolerance: 3.656e+06\n",
      "  model = cd_fast.enet_coordinate_descent(\n",
      "C:\\Users\\hyoan\\anaconda3\\lib\\site-packages\\sklearn\\linear_model\\_coordinate_descent.py:647: ConvergenceWarning: Objective did not converge. You might want to increase the number of iterations, check the scale of the features or consider increasing regularisation. Duality gap: 1.348e+09, tolerance: 3.510e+06\n",
      "  model = cd_fast.enet_coordinate_descent(\n"
     ]
    },
    {
     "name": "stdout",
     "output_type": "stream",
     "text": [
      "3\n"
     ]
    },
    {
     "name": "stderr",
     "output_type": "stream",
     "text": [
      "C:\\Users\\hyoan\\anaconda3\\lib\\site-packages\\sklearn\\linear_model\\_coordinate_descent.py:647: ConvergenceWarning: Objective did not converge. You might want to increase the number of iterations, check the scale of the features or consider increasing regularisation. Duality gap: 1.878e+09, tolerance: 3.994e+06\n",
      "  model = cd_fast.enet_coordinate_descent(\n",
      "C:\\Users\\hyoan\\anaconda3\\lib\\site-packages\\sklearn\\linear_model\\_coordinate_descent.py:647: ConvergenceWarning: Objective did not converge. You might want to increase the number of iterations, check the scale of the features or consider increasing regularisation. Duality gap: 1.615e+09, tolerance: 3.667e+06\n",
      "  model = cd_fast.enet_coordinate_descent(\n",
      "C:\\Users\\hyoan\\anaconda3\\lib\\site-packages\\sklearn\\linear_model\\_coordinate_descent.py:647: ConvergenceWarning: Objective did not converge. You might want to increase the number of iterations, check the scale of the features or consider increasing regularisation. Duality gap: 1.577e+09, tolerance: 3.889e+06\n",
      "  model = cd_fast.enet_coordinate_descent(\n",
      "C:\\Users\\hyoan\\anaconda3\\lib\\site-packages\\sklearn\\linear_model\\_coordinate_descent.py:647: ConvergenceWarning: Objective did not converge. You might want to increase the number of iterations, check the scale of the features or consider increasing regularisation. Duality gap: 1.579e+09, tolerance: 3.656e+06\n",
      "  model = cd_fast.enet_coordinate_descent(\n",
      "C:\\Users\\hyoan\\anaconda3\\lib\\site-packages\\sklearn\\linear_model\\_coordinate_descent.py:647: ConvergenceWarning: Objective did not converge. You might want to increase the number of iterations, check the scale of the features or consider increasing regularisation. Duality gap: 1.751e+09, tolerance: 3.510e+06\n",
      "  model = cd_fast.enet_coordinate_descent(\n"
     ]
    },
    {
     "name": "stdout",
     "output_type": "stream",
     "text": [
      "4\n"
     ]
    },
    {
     "name": "stderr",
     "output_type": "stream",
     "text": [
      "C:\\Users\\hyoan\\anaconda3\\lib\\site-packages\\sklearn\\linear_model\\_coordinate_descent.py:647: ConvergenceWarning: Objective did not converge. You might want to increase the number of iterations, check the scale of the features or consider increasing regularisation. Duality gap: 1.287e+09, tolerance: 3.994e+06\n",
      "  model = cd_fast.enet_coordinate_descent(\n",
      "C:\\Users\\hyoan\\anaconda3\\lib\\site-packages\\sklearn\\linear_model\\_coordinate_descent.py:647: ConvergenceWarning: Objective did not converge. You might want to increase the number of iterations, check the scale of the features or consider increasing regularisation. Duality gap: 1.258e+09, tolerance: 3.667e+06\n",
      "  model = cd_fast.enet_coordinate_descent(\n",
      "C:\\Users\\hyoan\\anaconda3\\lib\\site-packages\\sklearn\\linear_model\\_coordinate_descent.py:647: ConvergenceWarning: Objective did not converge. You might want to increase the number of iterations, check the scale of the features or consider increasing regularisation. Duality gap: 1.309e+09, tolerance: 3.889e+06\n",
      "  model = cd_fast.enet_coordinate_descent(\n",
      "C:\\Users\\hyoan\\anaconda3\\lib\\site-packages\\sklearn\\linear_model\\_coordinate_descent.py:647: ConvergenceWarning: Objective did not converge. You might want to increase the number of iterations, check the scale of the features or consider increasing regularisation. Duality gap: 1.158e+09, tolerance: 3.656e+06\n",
      "  model = cd_fast.enet_coordinate_descent(\n",
      "C:\\Users\\hyoan\\anaconda3\\lib\\site-packages\\sklearn\\linear_model\\_coordinate_descent.py:647: ConvergenceWarning: Objective did not converge. You might want to increase the number of iterations, check the scale of the features or consider increasing regularisation. Duality gap: 1.277e+09, tolerance: 3.510e+06\n",
      "  model = cd_fast.enet_coordinate_descent(\n"
     ]
    },
    {
     "name": "stdout",
     "output_type": "stream",
     "text": [
      "0.5963623316594643\n",
      "1\n",
      "2\n"
     ]
    },
    {
     "name": "stderr",
     "output_type": "stream",
     "text": [
      "C:\\Users\\hyoan\\anaconda3\\lib\\site-packages\\sklearn\\linear_model\\_coordinate_descent.py:647: ConvergenceWarning: Objective did not converge. You might want to increase the number of iterations, check the scale of the features or consider increasing regularisation. Duality gap: 1.308e+09, tolerance: 3.994e+06\n",
      "  model = cd_fast.enet_coordinate_descent(\n",
      "C:\\Users\\hyoan\\anaconda3\\lib\\site-packages\\sklearn\\linear_model\\_coordinate_descent.py:647: ConvergenceWarning: Objective did not converge. You might want to increase the number of iterations, check the scale of the features or consider increasing regularisation. Duality gap: 1.153e+09, tolerance: 3.667e+06\n",
      "  model = cd_fast.enet_coordinate_descent(\n",
      "C:\\Users\\hyoan\\anaconda3\\lib\\site-packages\\sklearn\\linear_model\\_coordinate_descent.py:647: ConvergenceWarning: Objective did not converge. You might want to increase the number of iterations, check the scale of the features or consider increasing regularisation. Duality gap: 9.966e+08, tolerance: 3.889e+06\n",
      "  model = cd_fast.enet_coordinate_descent(\n",
      "C:\\Users\\hyoan\\anaconda3\\lib\\site-packages\\sklearn\\linear_model\\_coordinate_descent.py:647: ConvergenceWarning: Objective did not converge. You might want to increase the number of iterations, check the scale of the features or consider increasing regularisation. Duality gap: 4.000e+08, tolerance: 3.656e+06\n",
      "  model = cd_fast.enet_coordinate_descent(\n",
      "C:\\Users\\hyoan\\anaconda3\\lib\\site-packages\\sklearn\\linear_model\\_coordinate_descent.py:647: ConvergenceWarning: Objective did not converge. You might want to increase the number of iterations, check the scale of the features or consider increasing regularisation. Duality gap: 1.237e+09, tolerance: 3.510e+06\n",
      "  model = cd_fast.enet_coordinate_descent(\n"
     ]
    },
    {
     "name": "stdout",
     "output_type": "stream",
     "text": [
      "3\n"
     ]
    },
    {
     "name": "stderr",
     "output_type": "stream",
     "text": [
      "C:\\Users\\hyoan\\anaconda3\\lib\\site-packages\\sklearn\\linear_model\\_coordinate_descent.py:647: ConvergenceWarning: Objective did not converge. You might want to increase the number of iterations, check the scale of the features or consider increasing regularisation. Duality gap: 1.889e+09, tolerance: 3.994e+06\n",
      "  model = cd_fast.enet_coordinate_descent(\n",
      "C:\\Users\\hyoan\\anaconda3\\lib\\site-packages\\sklearn\\linear_model\\_coordinate_descent.py:647: ConvergenceWarning: Objective did not converge. You might want to increase the number of iterations, check the scale of the features or consider increasing regularisation. Duality gap: 1.624e+09, tolerance: 3.667e+06\n",
      "  model = cd_fast.enet_coordinate_descent(\n",
      "C:\\Users\\hyoan\\anaconda3\\lib\\site-packages\\sklearn\\linear_model\\_coordinate_descent.py:647: ConvergenceWarning: Objective did not converge. You might want to increase the number of iterations, check the scale of the features or consider increasing regularisation. Duality gap: 1.614e+09, tolerance: 3.889e+06\n",
      "  model = cd_fast.enet_coordinate_descent(\n",
      "C:\\Users\\hyoan\\anaconda3\\lib\\site-packages\\sklearn\\linear_model\\_coordinate_descent.py:647: ConvergenceWarning: Objective did not converge. You might want to increase the number of iterations, check the scale of the features or consider increasing regularisation. Duality gap: 1.577e+09, tolerance: 3.656e+06\n",
      "  model = cd_fast.enet_coordinate_descent(\n",
      "C:\\Users\\hyoan\\anaconda3\\lib\\site-packages\\sklearn\\linear_model\\_coordinate_descent.py:647: ConvergenceWarning: Objective did not converge. You might want to increase the number of iterations, check the scale of the features or consider increasing regularisation. Duality gap: 1.754e+09, tolerance: 3.510e+06\n",
      "  model = cd_fast.enet_coordinate_descent(\n"
     ]
    },
    {
     "name": "stdout",
     "output_type": "stream",
     "text": [
      "4\n"
     ]
    },
    {
     "name": "stderr",
     "output_type": "stream",
     "text": [
      "C:\\Users\\hyoan\\anaconda3\\lib\\site-packages\\sklearn\\linear_model\\_coordinate_descent.py:647: ConvergenceWarning: Objective did not converge. You might want to increase the number of iterations, check the scale of the features or consider increasing regularisation. Duality gap: 1.347e+09, tolerance: 3.994e+06\n",
      "  model = cd_fast.enet_coordinate_descent(\n",
      "C:\\Users\\hyoan\\anaconda3\\lib\\site-packages\\sklearn\\linear_model\\_coordinate_descent.py:647: ConvergenceWarning: Objective did not converge. You might want to increase the number of iterations, check the scale of the features or consider increasing regularisation. Duality gap: 1.277e+09, tolerance: 3.667e+06\n",
      "  model = cd_fast.enet_coordinate_descent(\n",
      "C:\\Users\\hyoan\\anaconda3\\lib\\site-packages\\sklearn\\linear_model\\_coordinate_descent.py:647: ConvergenceWarning: Objective did not converge. You might want to increase the number of iterations, check the scale of the features or consider increasing regularisation. Duality gap: 1.305e+09, tolerance: 3.889e+06\n",
      "  model = cd_fast.enet_coordinate_descent(\n",
      "C:\\Users\\hyoan\\anaconda3\\lib\\site-packages\\sklearn\\linear_model\\_coordinate_descent.py:647: ConvergenceWarning: Objective did not converge. You might want to increase the number of iterations, check the scale of the features or consider increasing regularisation. Duality gap: 1.176e+09, tolerance: 3.656e+06\n",
      "  model = cd_fast.enet_coordinate_descent(\n",
      "C:\\Users\\hyoan\\anaconda3\\lib\\site-packages\\sklearn\\linear_model\\_coordinate_descent.py:647: ConvergenceWarning: Objective did not converge. You might want to increase the number of iterations, check the scale of the features or consider increasing regularisation. Duality gap: 1.295e+09, tolerance: 3.510e+06\n",
      "  model = cd_fast.enet_coordinate_descent(\n"
     ]
    },
    {
     "name": "stdout",
     "output_type": "stream",
     "text": [
      "0.6551285568595507\n",
      "1\n",
      "2\n"
     ]
    },
    {
     "name": "stderr",
     "output_type": "stream",
     "text": [
      "C:\\Users\\hyoan\\anaconda3\\lib\\site-packages\\sklearn\\linear_model\\_coordinate_descent.py:647: ConvergenceWarning: Objective did not converge. You might want to increase the number of iterations, check the scale of the features or consider increasing regularisation. Duality gap: 1.186e+09, tolerance: 3.994e+06\n",
      "  model = cd_fast.enet_coordinate_descent(\n",
      "C:\\Users\\hyoan\\anaconda3\\lib\\site-packages\\sklearn\\linear_model\\_coordinate_descent.py:647: ConvergenceWarning: Objective did not converge. You might want to increase the number of iterations, check the scale of the features or consider increasing regularisation. Duality gap: 1.046e+09, tolerance: 3.667e+06\n",
      "  model = cd_fast.enet_coordinate_descent(\n",
      "C:\\Users\\hyoan\\anaconda3\\lib\\site-packages\\sklearn\\linear_model\\_coordinate_descent.py:647: ConvergenceWarning: Objective did not converge. You might want to increase the number of iterations, check the scale of the features or consider increasing regularisation. Duality gap: 8.923e+08, tolerance: 3.889e+06\n",
      "  model = cd_fast.enet_coordinate_descent(\n",
      "C:\\Users\\hyoan\\anaconda3\\lib\\site-packages\\sklearn\\linear_model\\_coordinate_descent.py:647: ConvergenceWarning: Objective did not converge. You might want to increase the number of iterations, check the scale of the features or consider increasing regularisation. Duality gap: 3.347e+08, tolerance: 3.656e+06\n",
      "  model = cd_fast.enet_coordinate_descent(\n",
      "C:\\Users\\hyoan\\anaconda3\\lib\\site-packages\\sklearn\\linear_model\\_coordinate_descent.py:647: ConvergenceWarning: Objective did not converge. You might want to increase the number of iterations, check the scale of the features or consider increasing regularisation. Duality gap: 1.127e+09, tolerance: 3.510e+06\n",
      "  model = cd_fast.enet_coordinate_descent(\n"
     ]
    },
    {
     "name": "stdout",
     "output_type": "stream",
     "text": [
      "3\n"
     ]
    },
    {
     "name": "stderr",
     "output_type": "stream",
     "text": [
      "C:\\Users\\hyoan\\anaconda3\\lib\\site-packages\\sklearn\\linear_model\\_coordinate_descent.py:647: ConvergenceWarning: Objective did not converge. You might want to increase the number of iterations, check the scale of the features or consider increasing regularisation. Duality gap: 1.917e+09, tolerance: 3.994e+06\n",
      "  model = cd_fast.enet_coordinate_descent(\n",
      "C:\\Users\\hyoan\\anaconda3\\lib\\site-packages\\sklearn\\linear_model\\_coordinate_descent.py:647: ConvergenceWarning: Objective did not converge. You might want to increase the number of iterations, check the scale of the features or consider increasing regularisation. Duality gap: 1.670e+09, tolerance: 3.667e+06\n",
      "  model = cd_fast.enet_coordinate_descent(\n",
      "C:\\Users\\hyoan\\anaconda3\\lib\\site-packages\\sklearn\\linear_model\\_coordinate_descent.py:647: ConvergenceWarning: Objective did not converge. You might want to increase the number of iterations, check the scale of the features or consider increasing regularisation. Duality gap: 1.650e+09, tolerance: 3.889e+06\n",
      "  model = cd_fast.enet_coordinate_descent(\n",
      "C:\\Users\\hyoan\\anaconda3\\lib\\site-packages\\sklearn\\linear_model\\_coordinate_descent.py:647: ConvergenceWarning: Objective did not converge. You might want to increase the number of iterations, check the scale of the features or consider increasing regularisation. Duality gap: 1.597e+09, tolerance: 3.656e+06\n",
      "  model = cd_fast.enet_coordinate_descent(\n",
      "C:\\Users\\hyoan\\anaconda3\\lib\\site-packages\\sklearn\\linear_model\\_coordinate_descent.py:647: ConvergenceWarning: Objective did not converge. You might want to increase the number of iterations, check the scale of the features or consider increasing regularisation. Duality gap: 1.779e+09, tolerance: 3.510e+06\n",
      "  model = cd_fast.enet_coordinate_descent(\n"
     ]
    },
    {
     "name": "stdout",
     "output_type": "stream",
     "text": [
      "4\n"
     ]
    },
    {
     "name": "stderr",
     "output_type": "stream",
     "text": [
      "C:\\Users\\hyoan\\anaconda3\\lib\\site-packages\\sklearn\\linear_model\\_coordinate_descent.py:647: ConvergenceWarning: Objective did not converge. You might want to increase the number of iterations, check the scale of the features or consider increasing regularisation. Duality gap: 1.318e+09, tolerance: 3.994e+06\n",
      "  model = cd_fast.enet_coordinate_descent(\n",
      "C:\\Users\\hyoan\\anaconda3\\lib\\site-packages\\sklearn\\linear_model\\_coordinate_descent.py:647: ConvergenceWarning: Objective did not converge. You might want to increase the number of iterations, check the scale of the features or consider increasing regularisation. Duality gap: 1.299e+09, tolerance: 3.667e+06\n",
      "  model = cd_fast.enet_coordinate_descent(\n",
      "C:\\Users\\hyoan\\anaconda3\\lib\\site-packages\\sklearn\\linear_model\\_coordinate_descent.py:647: ConvergenceWarning: Objective did not converge. You might want to increase the number of iterations, check the scale of the features or consider increasing regularisation. Duality gap: 1.322e+09, tolerance: 3.889e+06\n",
      "  model = cd_fast.enet_coordinate_descent(\n",
      "C:\\Users\\hyoan\\anaconda3\\lib\\site-packages\\sklearn\\linear_model\\_coordinate_descent.py:647: ConvergenceWarning: Objective did not converge. You might want to increase the number of iterations, check the scale of the features or consider increasing regularisation. Duality gap: 1.164e+09, tolerance: 3.656e+06\n",
      "  model = cd_fast.enet_coordinate_descent(\n",
      "C:\\Users\\hyoan\\anaconda3\\lib\\site-packages\\sklearn\\linear_model\\_coordinate_descent.py:647: ConvergenceWarning: Objective did not converge. You might want to increase the number of iterations, check the scale of the features or consider increasing regularisation. Duality gap: 1.306e+09, tolerance: 3.510e+06\n",
      "  model = cd_fast.enet_coordinate_descent(\n"
     ]
    },
    {
     "name": "stdout",
     "output_type": "stream",
     "text": [
      "0.7196856730011519\n",
      "1\n",
      "2\n"
     ]
    },
    {
     "name": "stderr",
     "output_type": "stream",
     "text": [
      "C:\\Users\\hyoan\\anaconda3\\lib\\site-packages\\sklearn\\linear_model\\_coordinate_descent.py:647: ConvergenceWarning: Objective did not converge. You might want to increase the number of iterations, check the scale of the features or consider increasing regularisation. Duality gap: 1.066e+09, tolerance: 3.994e+06\n",
      "  model = cd_fast.enet_coordinate_descent(\n",
      "C:\\Users\\hyoan\\anaconda3\\lib\\site-packages\\sklearn\\linear_model\\_coordinate_descent.py:647: ConvergenceWarning: Objective did not converge. You might want to increase the number of iterations, check the scale of the features or consider increasing regularisation. Duality gap: 9.414e+08, tolerance: 3.667e+06\n",
      "  model = cd_fast.enet_coordinate_descent(\n",
      "C:\\Users\\hyoan\\anaconda3\\lib\\site-packages\\sklearn\\linear_model\\_coordinate_descent.py:647: ConvergenceWarning: Objective did not converge. You might want to increase the number of iterations, check the scale of the features or consider increasing regularisation. Duality gap: 7.903e+08, tolerance: 3.889e+06\n",
      "  model = cd_fast.enet_coordinate_descent(\n",
      "C:\\Users\\hyoan\\anaconda3\\lib\\site-packages\\sklearn\\linear_model\\_coordinate_descent.py:647: ConvergenceWarning: Objective did not converge. You might want to increase the number of iterations, check the scale of the features or consider increasing regularisation. Duality gap: 2.744e+08, tolerance: 3.656e+06\n",
      "  model = cd_fast.enet_coordinate_descent(\n",
      "C:\\Users\\hyoan\\anaconda3\\lib\\site-packages\\sklearn\\linear_model\\_coordinate_descent.py:647: ConvergenceWarning: Objective did not converge. You might want to increase the number of iterations, check the scale of the features or consider increasing regularisation. Duality gap: 1.029e+09, tolerance: 3.510e+06\n",
      "  model = cd_fast.enet_coordinate_descent(\n"
     ]
    },
    {
     "name": "stdout",
     "output_type": "stream",
     "text": [
      "3\n"
     ]
    },
    {
     "name": "stderr",
     "output_type": "stream",
     "text": [
      "C:\\Users\\hyoan\\anaconda3\\lib\\site-packages\\sklearn\\linear_model\\_coordinate_descent.py:647: ConvergenceWarning: Objective did not converge. You might want to increase the number of iterations, check the scale of the features or consider increasing regularisation. Duality gap: 1.927e+09, tolerance: 3.994e+06\n",
      "  model = cd_fast.enet_coordinate_descent(\n",
      "C:\\Users\\hyoan\\anaconda3\\lib\\site-packages\\sklearn\\linear_model\\_coordinate_descent.py:647: ConvergenceWarning: Objective did not converge. You might want to increase the number of iterations, check the scale of the features or consider increasing regularisation. Duality gap: 1.688e+09, tolerance: 3.667e+06\n",
      "  model = cd_fast.enet_coordinate_descent(\n",
      "C:\\Users\\hyoan\\anaconda3\\lib\\site-packages\\sklearn\\linear_model\\_coordinate_descent.py:647: ConvergenceWarning: Objective did not converge. You might want to increase the number of iterations, check the scale of the features or consider increasing regularisation. Duality gap: 1.659e+09, tolerance: 3.889e+06\n",
      "  model = cd_fast.enet_coordinate_descent(\n",
      "C:\\Users\\hyoan\\anaconda3\\lib\\site-packages\\sklearn\\linear_model\\_coordinate_descent.py:647: ConvergenceWarning: Objective did not converge. You might want to increase the number of iterations, check the scale of the features or consider increasing regularisation. Duality gap: 1.584e+09, tolerance: 3.656e+06\n",
      "  model = cd_fast.enet_coordinate_descent(\n",
      "C:\\Users\\hyoan\\anaconda3\\lib\\site-packages\\sklearn\\linear_model\\_coordinate_descent.py:647: ConvergenceWarning: Objective did not converge. You might want to increase the number of iterations, check the scale of the features or consider increasing regularisation. Duality gap: 1.797e+09, tolerance: 3.510e+06\n",
      "  model = cd_fast.enet_coordinate_descent(\n"
     ]
    },
    {
     "name": "stdout",
     "output_type": "stream",
     "text": [
      "4\n"
     ]
    },
    {
     "name": "stderr",
     "output_type": "stream",
     "text": [
      "C:\\Users\\hyoan\\anaconda3\\lib\\site-packages\\sklearn\\linear_model\\_coordinate_descent.py:647: ConvergenceWarning: Objective did not converge. You might want to increase the number of iterations, check the scale of the features or consider increasing regularisation. Duality gap: 1.391e+09, tolerance: 3.994e+06\n",
      "  model = cd_fast.enet_coordinate_descent(\n",
      "C:\\Users\\hyoan\\anaconda3\\lib\\site-packages\\sklearn\\linear_model\\_coordinate_descent.py:647: ConvergenceWarning: Objective did not converge. You might want to increase the number of iterations, check the scale of the features or consider increasing regularisation. Duality gap: 1.289e+09, tolerance: 3.667e+06\n",
      "  model = cd_fast.enet_coordinate_descent(\n",
      "C:\\Users\\hyoan\\anaconda3\\lib\\site-packages\\sklearn\\linear_model\\_coordinate_descent.py:647: ConvergenceWarning: Objective did not converge. You might want to increase the number of iterations, check the scale of the features or consider increasing regularisation. Duality gap: 1.339e+09, tolerance: 3.889e+06\n",
      "  model = cd_fast.enet_coordinate_descent(\n",
      "C:\\Users\\hyoan\\anaconda3\\lib\\site-packages\\sklearn\\linear_model\\_coordinate_descent.py:647: ConvergenceWarning: Objective did not converge. You might want to increase the number of iterations, check the scale of the features or consider increasing regularisation. Duality gap: 1.206e+09, tolerance: 3.656e+06\n",
      "  model = cd_fast.enet_coordinate_descent(\n",
      "C:\\Users\\hyoan\\anaconda3\\lib\\site-packages\\sklearn\\linear_model\\_coordinate_descent.py:647: ConvergenceWarning: Objective did not converge. You might want to increase the number of iterations, check the scale of the features or consider increasing regularisation. Duality gap: 1.336e+09, tolerance: 3.510e+06\n",
      "  model = cd_fast.enet_coordinate_descent(\n"
     ]
    },
    {
     "name": "stdout",
     "output_type": "stream",
     "text": [
      "0.7906043210907697\n",
      "1\n",
      "2\n"
     ]
    },
    {
     "name": "stderr",
     "output_type": "stream",
     "text": [
      "C:\\Users\\hyoan\\anaconda3\\lib\\site-packages\\sklearn\\linear_model\\_coordinate_descent.py:647: ConvergenceWarning: Objective did not converge. You might want to increase the number of iterations, check the scale of the features or consider increasing regularisation. Duality gap: 9.399e+08, tolerance: 3.994e+06\n",
      "  model = cd_fast.enet_coordinate_descent(\n",
      "C:\\Users\\hyoan\\anaconda3\\lib\\site-packages\\sklearn\\linear_model\\_coordinate_descent.py:647: ConvergenceWarning: Objective did not converge. You might want to increase the number of iterations, check the scale of the features or consider increasing regularisation. Duality gap: 8.388e+08, tolerance: 3.667e+06\n",
      "  model = cd_fast.enet_coordinate_descent(\n",
      "C:\\Users\\hyoan\\anaconda3\\lib\\site-packages\\sklearn\\linear_model\\_coordinate_descent.py:647: ConvergenceWarning: Objective did not converge. You might want to increase the number of iterations, check the scale of the features or consider increasing regularisation. Duality gap: 6.878e+08, tolerance: 3.889e+06\n",
      "  model = cd_fast.enet_coordinate_descent(\n",
      "C:\\Users\\hyoan\\anaconda3\\lib\\site-packages\\sklearn\\linear_model\\_coordinate_descent.py:647: ConvergenceWarning: Objective did not converge. You might want to increase the number of iterations, check the scale of the features or consider increasing regularisation. Duality gap: 2.320e+08, tolerance: 3.656e+06\n",
      "  model = cd_fast.enet_coordinate_descent(\n",
      "C:\\Users\\hyoan\\anaconda3\\lib\\site-packages\\sklearn\\linear_model\\_coordinate_descent.py:647: ConvergenceWarning: Objective did not converge. You might want to increase the number of iterations, check the scale of the features or consider increasing regularisation. Duality gap: 9.138e+08, tolerance: 3.510e+06\n",
      "  model = cd_fast.enet_coordinate_descent(\n"
     ]
    },
    {
     "name": "stdout",
     "output_type": "stream",
     "text": [
      "3\n"
     ]
    },
    {
     "name": "stderr",
     "output_type": "stream",
     "text": [
      "C:\\Users\\hyoan\\anaconda3\\lib\\site-packages\\sklearn\\linear_model\\_coordinate_descent.py:647: ConvergenceWarning: Objective did not converge. You might want to increase the number of iterations, check the scale of the features or consider increasing regularisation. Duality gap: 1.930e+09, tolerance: 3.994e+06\n",
      "  model = cd_fast.enet_coordinate_descent(\n",
      "C:\\Users\\hyoan\\anaconda3\\lib\\site-packages\\sklearn\\linear_model\\_coordinate_descent.py:647: ConvergenceWarning: Objective did not converge. You might want to increase the number of iterations, check the scale of the features or consider increasing regularisation. Duality gap: 1.726e+09, tolerance: 3.667e+06\n",
      "  model = cd_fast.enet_coordinate_descent(\n",
      "C:\\Users\\hyoan\\anaconda3\\lib\\site-packages\\sklearn\\linear_model\\_coordinate_descent.py:647: ConvergenceWarning: Objective did not converge. You might want to increase the number of iterations, check the scale of the features or consider increasing regularisation. Duality gap: 1.680e+09, tolerance: 3.889e+06\n",
      "  model = cd_fast.enet_coordinate_descent(\n",
      "C:\\Users\\hyoan\\anaconda3\\lib\\site-packages\\sklearn\\linear_model\\_coordinate_descent.py:647: ConvergenceWarning: Objective did not converge. You might want to increase the number of iterations, check the scale of the features or consider increasing regularisation. Duality gap: 1.607e+09, tolerance: 3.656e+06\n",
      "  model = cd_fast.enet_coordinate_descent(\n",
      "C:\\Users\\hyoan\\anaconda3\\lib\\site-packages\\sklearn\\linear_model\\_coordinate_descent.py:647: ConvergenceWarning: Objective did not converge. You might want to increase the number of iterations, check the scale of the features or consider increasing regularisation. Duality gap: 1.811e+09, tolerance: 3.510e+06\n",
      "  model = cd_fast.enet_coordinate_descent(\n"
     ]
    },
    {
     "name": "stdout",
     "output_type": "stream",
     "text": [
      "4\n"
     ]
    },
    {
     "name": "stderr",
     "output_type": "stream",
     "text": [
      "C:\\Users\\hyoan\\anaconda3\\lib\\site-packages\\sklearn\\linear_model\\_coordinate_descent.py:647: ConvergenceWarning: Objective did not converge. You might want to increase the number of iterations, check the scale of the features or consider increasing regularisation. Duality gap: 1.407e+09, tolerance: 3.994e+06\n",
      "  model = cd_fast.enet_coordinate_descent(\n",
      "C:\\Users\\hyoan\\anaconda3\\lib\\site-packages\\sklearn\\linear_model\\_coordinate_descent.py:647: ConvergenceWarning: Objective did not converge. You might want to increase the number of iterations, check the scale of the features or consider increasing regularisation. Duality gap: 1.309e+09, tolerance: 3.667e+06\n",
      "  model = cd_fast.enet_coordinate_descent(\n",
      "C:\\Users\\hyoan\\anaconda3\\lib\\site-packages\\sklearn\\linear_model\\_coordinate_descent.py:647: ConvergenceWarning: Objective did not converge. You might want to increase the number of iterations, check the scale of the features or consider increasing regularisation. Duality gap: 1.331e+09, tolerance: 3.889e+06\n",
      "  model = cd_fast.enet_coordinate_descent(\n",
      "C:\\Users\\hyoan\\anaconda3\\lib\\site-packages\\sklearn\\linear_model\\_coordinate_descent.py:647: ConvergenceWarning: Objective did not converge. You might want to increase the number of iterations, check the scale of the features or consider increasing regularisation. Duality gap: 1.236e+09, tolerance: 3.656e+06\n",
      "  model = cd_fast.enet_coordinate_descent(\n",
      "C:\\Users\\hyoan\\anaconda3\\lib\\site-packages\\sklearn\\linear_model\\_coordinate_descent.py:647: ConvergenceWarning: Objective did not converge. You might want to increase the number of iterations, check the scale of the features or consider increasing regularisation. Duality gap: 1.353e+09, tolerance: 3.510e+06\n",
      "  model = cd_fast.enet_coordinate_descent(\n"
     ]
    },
    {
     "name": "stdout",
     "output_type": "stream",
     "text": [
      "0.8685113737513525\n",
      "1\n",
      "2\n"
     ]
    },
    {
     "name": "stderr",
     "output_type": "stream",
     "text": [
      "C:\\Users\\hyoan\\anaconda3\\lib\\site-packages\\sklearn\\linear_model\\_coordinate_descent.py:647: ConvergenceWarning: Objective did not converge. You might want to increase the number of iterations, check the scale of the features or consider increasing regularisation. Duality gap: 8.166e+08, tolerance: 3.994e+06\n",
      "  model = cd_fast.enet_coordinate_descent(\n",
      "C:\\Users\\hyoan\\anaconda3\\lib\\site-packages\\sklearn\\linear_model\\_coordinate_descent.py:647: ConvergenceWarning: Objective did not converge. You might want to increase the number of iterations, check the scale of the features or consider increasing regularisation. Duality gap: 7.353e+08, tolerance: 3.667e+06\n",
      "  model = cd_fast.enet_coordinate_descent(\n",
      "C:\\Users\\hyoan\\anaconda3\\lib\\site-packages\\sklearn\\linear_model\\_coordinate_descent.py:647: ConvergenceWarning: Objective did not converge. You might want to increase the number of iterations, check the scale of the features or consider increasing regularisation. Duality gap: 5.931e+08, tolerance: 3.889e+06\n",
      "  model = cd_fast.enet_coordinate_descent(\n",
      "C:\\Users\\hyoan\\anaconda3\\lib\\site-packages\\sklearn\\linear_model\\_coordinate_descent.py:647: ConvergenceWarning: Objective did not converge. You might want to increase the number of iterations, check the scale of the features or consider increasing regularisation. Duality gap: 1.882e+08, tolerance: 3.656e+06\n",
      "  model = cd_fast.enet_coordinate_descent(\n",
      "C:\\Users\\hyoan\\anaconda3\\lib\\site-packages\\sklearn\\linear_model\\_coordinate_descent.py:647: ConvergenceWarning: Objective did not converge. You might want to increase the number of iterations, check the scale of the features or consider increasing regularisation. Duality gap: 8.010e+08, tolerance: 3.510e+06\n",
      "  model = cd_fast.enet_coordinate_descent(\n"
     ]
    },
    {
     "name": "stdout",
     "output_type": "stream",
     "text": [
      "3\n"
     ]
    },
    {
     "name": "stderr",
     "output_type": "stream",
     "text": [
      "C:\\Users\\hyoan\\anaconda3\\lib\\site-packages\\sklearn\\linear_model\\_coordinate_descent.py:647: ConvergenceWarning: Objective did not converge. You might want to increase the number of iterations, check the scale of the features or consider increasing regularisation. Duality gap: 1.928e+09, tolerance: 3.994e+06\n",
      "  model = cd_fast.enet_coordinate_descent(\n",
      "C:\\Users\\hyoan\\anaconda3\\lib\\site-packages\\sklearn\\linear_model\\_coordinate_descent.py:647: ConvergenceWarning: Objective did not converge. You might want to increase the number of iterations, check the scale of the features or consider increasing regularisation. Duality gap: 1.718e+09, tolerance: 3.667e+06\n",
      "  model = cd_fast.enet_coordinate_descent(\n",
      "C:\\Users\\hyoan\\anaconda3\\lib\\site-packages\\sklearn\\linear_model\\_coordinate_descent.py:647: ConvergenceWarning: Objective did not converge. You might want to increase the number of iterations, check the scale of the features or consider increasing regularisation. Duality gap: 1.687e+09, tolerance: 3.889e+06\n",
      "  model = cd_fast.enet_coordinate_descent(\n",
      "C:\\Users\\hyoan\\anaconda3\\lib\\site-packages\\sklearn\\linear_model\\_coordinate_descent.py:647: ConvergenceWarning: Objective did not converge. You might want to increase the number of iterations, check the scale of the features or consider increasing regularisation. Duality gap: 1.628e+09, tolerance: 3.656e+06\n",
      "  model = cd_fast.enet_coordinate_descent(\n",
      "C:\\Users\\hyoan\\anaconda3\\lib\\site-packages\\sklearn\\linear_model\\_coordinate_descent.py:647: ConvergenceWarning: Objective did not converge. You might want to increase the number of iterations, check the scale of the features or consider increasing regularisation. Duality gap: 1.804e+09, tolerance: 3.510e+06\n",
      "  model = cd_fast.enet_coordinate_descent(\n"
     ]
    },
    {
     "name": "stdout",
     "output_type": "stream",
     "text": [
      "4\n"
     ]
    },
    {
     "name": "stderr",
     "output_type": "stream",
     "text": [
      "C:\\Users\\hyoan\\anaconda3\\lib\\site-packages\\sklearn\\linear_model\\_coordinate_descent.py:647: ConvergenceWarning: Objective did not converge. You might want to increase the number of iterations, check the scale of the features or consider increasing regularisation. Duality gap: 1.358e+09, tolerance: 3.994e+06\n",
      "  model = cd_fast.enet_coordinate_descent(\n",
      "C:\\Users\\hyoan\\anaconda3\\lib\\site-packages\\sklearn\\linear_model\\_coordinate_descent.py:647: ConvergenceWarning: Objective did not converge. You might want to increase the number of iterations, check the scale of the features or consider increasing regularisation. Duality gap: 1.328e+09, tolerance: 3.667e+06\n",
      "  model = cd_fast.enet_coordinate_descent(\n",
      "C:\\Users\\hyoan\\anaconda3\\lib\\site-packages\\sklearn\\linear_model\\_coordinate_descent.py:647: ConvergenceWarning: Objective did not converge. You might want to increase the number of iterations, check the scale of the features or consider increasing regularisation. Duality gap: 1.349e+09, tolerance: 3.889e+06\n",
      "  model = cd_fast.enet_coordinate_descent(\n",
      "C:\\Users\\hyoan\\anaconda3\\lib\\site-packages\\sklearn\\linear_model\\_coordinate_descent.py:647: ConvergenceWarning: Objective did not converge. You might want to increase the number of iterations, check the scale of the features or consider increasing regularisation. Duality gap: 1.234e+09, tolerance: 3.656e+06\n",
      "  model = cd_fast.enet_coordinate_descent(\n",
      "C:\\Users\\hyoan\\anaconda3\\lib\\site-packages\\sklearn\\linear_model\\_coordinate_descent.py:647: ConvergenceWarning: Objective did not converge. You might want to increase the number of iterations, check the scale of the features or consider increasing regularisation. Duality gap: 1.374e+09, tolerance: 3.510e+06\n",
      "  model = cd_fast.enet_coordinate_descent(\n"
     ]
    },
    {
     "name": "stdout",
     "output_type": "stream",
     "text": [
      "0.9540954763499939\n",
      "1\n",
      "2\n"
     ]
    },
    {
     "name": "stderr",
     "output_type": "stream",
     "text": [
      "C:\\Users\\hyoan\\anaconda3\\lib\\site-packages\\sklearn\\linear_model\\_coordinate_descent.py:647: ConvergenceWarning: Objective did not converge. You might want to increase the number of iterations, check the scale of the features or consider increasing regularisation. Duality gap: 7.103e+08, tolerance: 3.994e+06\n",
      "  model = cd_fast.enet_coordinate_descent(\n",
      "C:\\Users\\hyoan\\anaconda3\\lib\\site-packages\\sklearn\\linear_model\\_coordinate_descent.py:647: ConvergenceWarning: Objective did not converge. You might want to increase the number of iterations, check the scale of the features or consider increasing regularisation. Duality gap: 6.320e+08, tolerance: 3.667e+06\n",
      "  model = cd_fast.enet_coordinate_descent(\n",
      "C:\\Users\\hyoan\\anaconda3\\lib\\site-packages\\sklearn\\linear_model\\_coordinate_descent.py:647: ConvergenceWarning: Objective did not converge. You might want to increase the number of iterations, check the scale of the features or consider increasing regularisation. Duality gap: 5.059e+08, tolerance: 3.889e+06\n",
      "  model = cd_fast.enet_coordinate_descent(\n",
      "C:\\Users\\hyoan\\anaconda3\\lib\\site-packages\\sklearn\\linear_model\\_coordinate_descent.py:647: ConvergenceWarning: Objective did not converge. You might want to increase the number of iterations, check the scale of the features or consider increasing regularisation. Duality gap: 1.483e+08, tolerance: 3.656e+06\n",
      "  model = cd_fast.enet_coordinate_descent(\n",
      "C:\\Users\\hyoan\\anaconda3\\lib\\site-packages\\sklearn\\linear_model\\_coordinate_descent.py:647: ConvergenceWarning: Objective did not converge. You might want to increase the number of iterations, check the scale of the features or consider increasing regularisation. Duality gap: 6.975e+08, tolerance: 3.510e+06\n",
      "  model = cd_fast.enet_coordinate_descent(\n"
     ]
    },
    {
     "name": "stdout",
     "output_type": "stream",
     "text": [
      "3\n"
     ]
    },
    {
     "name": "stderr",
     "output_type": "stream",
     "text": [
      "C:\\Users\\hyoan\\anaconda3\\lib\\site-packages\\sklearn\\linear_model\\_coordinate_descent.py:647: ConvergenceWarning: Objective did not converge. You might want to increase the number of iterations, check the scale of the features or consider increasing regularisation. Duality gap: 1.926e+09, tolerance: 3.994e+06\n",
      "  model = cd_fast.enet_coordinate_descent(\n",
      "C:\\Users\\hyoan\\anaconda3\\lib\\site-packages\\sklearn\\linear_model\\_coordinate_descent.py:647: ConvergenceWarning: Objective did not converge. You might want to increase the number of iterations, check the scale of the features or consider increasing regularisation. Duality gap: 1.729e+09, tolerance: 3.667e+06\n",
      "  model = cd_fast.enet_coordinate_descent(\n",
      "C:\\Users\\hyoan\\anaconda3\\lib\\site-packages\\sklearn\\linear_model\\_coordinate_descent.py:647: ConvergenceWarning: Objective did not converge. You might want to increase the number of iterations, check the scale of the features or consider increasing regularisation. Duality gap: 1.700e+09, tolerance: 3.889e+06\n",
      "  model = cd_fast.enet_coordinate_descent(\n",
      "C:\\Users\\hyoan\\anaconda3\\lib\\site-packages\\sklearn\\linear_model\\_coordinate_descent.py:647: ConvergenceWarning: Objective did not converge. You might want to increase the number of iterations, check the scale of the features or consider increasing regularisation. Duality gap: 1.641e+09, tolerance: 3.656e+06\n",
      "  model = cd_fast.enet_coordinate_descent(\n",
      "C:\\Users\\hyoan\\anaconda3\\lib\\site-packages\\sklearn\\linear_model\\_coordinate_descent.py:647: ConvergenceWarning: Objective did not converge. You might want to increase the number of iterations, check the scale of the features or consider increasing regularisation. Duality gap: 1.797e+09, tolerance: 3.510e+06\n",
      "  model = cd_fast.enet_coordinate_descent(\n"
     ]
    },
    {
     "name": "stdout",
     "output_type": "stream",
     "text": [
      "4\n"
     ]
    },
    {
     "name": "stderr",
     "output_type": "stream",
     "text": [
      "C:\\Users\\hyoan\\anaconda3\\lib\\site-packages\\sklearn\\linear_model\\_coordinate_descent.py:647: ConvergenceWarning: Objective did not converge. You might want to increase the number of iterations, check the scale of the features or consider increasing regularisation. Duality gap: 1.379e+09, tolerance: 3.994e+06\n",
      "  model = cd_fast.enet_coordinate_descent(\n",
      "C:\\Users\\hyoan\\anaconda3\\lib\\site-packages\\sklearn\\linear_model\\_coordinate_descent.py:647: ConvergenceWarning: Objective did not converge. You might want to increase the number of iterations, check the scale of the features or consider increasing regularisation. Duality gap: 1.373e+09, tolerance: 3.667e+06\n",
      "  model = cd_fast.enet_coordinate_descent(\n",
      "C:\\Users\\hyoan\\anaconda3\\lib\\site-packages\\sklearn\\linear_model\\_coordinate_descent.py:647: ConvergenceWarning: Objective did not converge. You might want to increase the number of iterations, check the scale of the features or consider increasing regularisation. Duality gap: 1.366e+09, tolerance: 3.889e+06\n",
      "  model = cd_fast.enet_coordinate_descent(\n",
      "C:\\Users\\hyoan\\anaconda3\\lib\\site-packages\\sklearn\\linear_model\\_coordinate_descent.py:647: ConvergenceWarning: Objective did not converge. You might want to increase the number of iterations, check the scale of the features or consider increasing regularisation. Duality gap: 1.278e+09, tolerance: 3.656e+06\n",
      "  model = cd_fast.enet_coordinate_descent(\n",
      "C:\\Users\\hyoan\\anaconda3\\lib\\site-packages\\sklearn\\linear_model\\_coordinate_descent.py:647: ConvergenceWarning: Objective did not converge. You might want to increase the number of iterations, check the scale of the features or consider increasing regularisation. Duality gap: 1.395e+09, tolerance: 3.510e+06\n",
      "  model = cd_fast.enet_coordinate_descent(\n"
     ]
    },
    {
     "name": "stdout",
     "output_type": "stream",
     "text": [
      "1.0481131341546859\n",
      "1\n",
      "2\n"
     ]
    },
    {
     "name": "stderr",
     "output_type": "stream",
     "text": [
      "C:\\Users\\hyoan\\anaconda3\\lib\\site-packages\\sklearn\\linear_model\\_coordinate_descent.py:647: ConvergenceWarning: Objective did not converge. You might want to increase the number of iterations, check the scale of the features or consider increasing regularisation. Duality gap: 6.109e+08, tolerance: 3.994e+06\n",
      "  model = cd_fast.enet_coordinate_descent(\n",
      "C:\\Users\\hyoan\\anaconda3\\lib\\site-packages\\sklearn\\linear_model\\_coordinate_descent.py:647: ConvergenceWarning: Objective did not converge. You might want to increase the number of iterations, check the scale of the features or consider increasing regularisation. Duality gap: 5.404e+08, tolerance: 3.667e+06\n",
      "  model = cd_fast.enet_coordinate_descent(\n",
      "C:\\Users\\hyoan\\anaconda3\\lib\\site-packages\\sklearn\\linear_model\\_coordinate_descent.py:647: ConvergenceWarning: Objective did not converge. You might want to increase the number of iterations, check the scale of the features or consider increasing regularisation. Duality gap: 4.242e+08, tolerance: 3.889e+06\n",
      "  model = cd_fast.enet_coordinate_descent(\n",
      "C:\\Users\\hyoan\\anaconda3\\lib\\site-packages\\sklearn\\linear_model\\_coordinate_descent.py:647: ConvergenceWarning: Objective did not converge. You might want to increase the number of iterations, check the scale of the features or consider increasing regularisation. Duality gap: 1.142e+08, tolerance: 3.656e+06\n",
      "  model = cd_fast.enet_coordinate_descent(\n",
      "C:\\Users\\hyoan\\anaconda3\\lib\\site-packages\\sklearn\\linear_model\\_coordinate_descent.py:647: ConvergenceWarning: Objective did not converge. You might want to increase the number of iterations, check the scale of the features or consider increasing regularisation. Duality gap: 6.012e+08, tolerance: 3.510e+06\n",
      "  model = cd_fast.enet_coordinate_descent(\n"
     ]
    },
    {
     "name": "stdout",
     "output_type": "stream",
     "text": [
      "3\n"
     ]
    },
    {
     "name": "stderr",
     "output_type": "stream",
     "text": [
      "C:\\Users\\hyoan\\anaconda3\\lib\\site-packages\\sklearn\\linear_model\\_coordinate_descent.py:647: ConvergenceWarning: Objective did not converge. You might want to increase the number of iterations, check the scale of the features or consider increasing regularisation. Duality gap: 1.922e+09, tolerance: 3.994e+06\n",
      "  model = cd_fast.enet_coordinate_descent(\n",
      "C:\\Users\\hyoan\\anaconda3\\lib\\site-packages\\sklearn\\linear_model\\_coordinate_descent.py:647: ConvergenceWarning: Objective did not converge. You might want to increase the number of iterations, check the scale of the features or consider increasing regularisation. Duality gap: 1.720e+09, tolerance: 3.667e+06\n",
      "  model = cd_fast.enet_coordinate_descent(\n",
      "C:\\Users\\hyoan\\anaconda3\\lib\\site-packages\\sklearn\\linear_model\\_coordinate_descent.py:647: ConvergenceWarning: Objective did not converge. You might want to increase the number of iterations, check the scale of the features or consider increasing regularisation. Duality gap: 1.715e+09, tolerance: 3.889e+06\n",
      "  model = cd_fast.enet_coordinate_descent(\n",
      "C:\\Users\\hyoan\\anaconda3\\lib\\site-packages\\sklearn\\linear_model\\_coordinate_descent.py:647: ConvergenceWarning: Objective did not converge. You might want to increase the number of iterations, check the scale of the features or consider increasing regularisation. Duality gap: 1.641e+09, tolerance: 3.656e+06\n",
      "  model = cd_fast.enet_coordinate_descent(\n",
      "C:\\Users\\hyoan\\anaconda3\\lib\\site-packages\\sklearn\\linear_model\\_coordinate_descent.py:647: ConvergenceWarning: Objective did not converge. You might want to increase the number of iterations, check the scale of the features or consider increasing regularisation. Duality gap: 1.795e+09, tolerance: 3.510e+06\n",
      "  model = cd_fast.enet_coordinate_descent(\n"
     ]
    },
    {
     "name": "stdout",
     "output_type": "stream",
     "text": [
      "4\n"
     ]
    },
    {
     "name": "stderr",
     "output_type": "stream",
     "text": [
      "C:\\Users\\hyoan\\anaconda3\\lib\\site-packages\\sklearn\\linear_model\\_coordinate_descent.py:647: ConvergenceWarning: Objective did not converge. You might want to increase the number of iterations, check the scale of the features or consider increasing regularisation. Duality gap: 1.426e+09, tolerance: 3.994e+06\n",
      "  model = cd_fast.enet_coordinate_descent(\n",
      "C:\\Users\\hyoan\\anaconda3\\lib\\site-packages\\sklearn\\linear_model\\_coordinate_descent.py:647: ConvergenceWarning: Objective did not converge. You might want to increase the number of iterations, check the scale of the features or consider increasing regularisation. Duality gap: 1.377e+09, tolerance: 3.667e+06\n",
      "  model = cd_fast.enet_coordinate_descent(\n",
      "C:\\Users\\hyoan\\anaconda3\\lib\\site-packages\\sklearn\\linear_model\\_coordinate_descent.py:647: ConvergenceWarning: Objective did not converge. You might want to increase the number of iterations, check the scale of the features or consider increasing regularisation. Duality gap: 1.369e+09, tolerance: 3.889e+06\n",
      "  model = cd_fast.enet_coordinate_descent(\n",
      "C:\\Users\\hyoan\\anaconda3\\lib\\site-packages\\sklearn\\linear_model\\_coordinate_descent.py:647: ConvergenceWarning: Objective did not converge. You might want to increase the number of iterations, check the scale of the features or consider increasing regularisation. Duality gap: 1.315e+09, tolerance: 3.656e+06\n",
      "  model = cd_fast.enet_coordinate_descent(\n",
      "C:\\Users\\hyoan\\anaconda3\\lib\\site-packages\\sklearn\\linear_model\\_coordinate_descent.py:647: ConvergenceWarning: Objective did not converge. You might want to increase the number of iterations, check the scale of the features or consider increasing regularisation. Duality gap: 1.412e+09, tolerance: 3.510e+06\n",
      "  model = cd_fast.enet_coordinate_descent(\n"
     ]
    },
    {
     "name": "stdout",
     "output_type": "stream",
     "text": [
      "1.151395399326447\n",
      "1\n",
      "2\n"
     ]
    },
    {
     "name": "stderr",
     "output_type": "stream",
     "text": [
      "C:\\Users\\hyoan\\anaconda3\\lib\\site-packages\\sklearn\\linear_model\\_coordinate_descent.py:647: ConvergenceWarning: Objective did not converge. You might want to increase the number of iterations, check the scale of the features or consider increasing regularisation. Duality gap: 5.204e+08, tolerance: 3.994e+06\n",
      "  model = cd_fast.enet_coordinate_descent(\n",
      "C:\\Users\\hyoan\\anaconda3\\lib\\site-packages\\sklearn\\linear_model\\_coordinate_descent.py:647: ConvergenceWarning: Objective did not converge. You might want to increase the number of iterations, check the scale of the features or consider increasing regularisation. Duality gap: 4.538e+08, tolerance: 3.667e+06\n",
      "  model = cd_fast.enet_coordinate_descent(\n",
      "C:\\Users\\hyoan\\anaconda3\\lib\\site-packages\\sklearn\\linear_model\\_coordinate_descent.py:647: ConvergenceWarning: Objective did not converge. You might want to increase the number of iterations, check the scale of the features or consider increasing regularisation. Duality gap: 3.480e+08, tolerance: 3.889e+06\n",
      "  model = cd_fast.enet_coordinate_descent(\n",
      "C:\\Users\\hyoan\\anaconda3\\lib\\site-packages\\sklearn\\linear_model\\_coordinate_descent.py:647: ConvergenceWarning: Objective did not converge. You might want to increase the number of iterations, check the scale of the features or consider increasing regularisation. Duality gap: 9.087e+07, tolerance: 3.656e+06\n",
      "  model = cd_fast.enet_coordinate_descent(\n",
      "C:\\Users\\hyoan\\anaconda3\\lib\\site-packages\\sklearn\\linear_model\\_coordinate_descent.py:647: ConvergenceWarning: Objective did not converge. You might want to increase the number of iterations, check the scale of the features or consider increasing regularisation. Duality gap: 5.103e+08, tolerance: 3.510e+06\n",
      "  model = cd_fast.enet_coordinate_descent(\n"
     ]
    },
    {
     "name": "stdout",
     "output_type": "stream",
     "text": [
      "3\n"
     ]
    },
    {
     "name": "stderr",
     "output_type": "stream",
     "text": [
      "C:\\Users\\hyoan\\anaconda3\\lib\\site-packages\\sklearn\\linear_model\\_coordinate_descent.py:647: ConvergenceWarning: Objective did not converge. You might want to increase the number of iterations, check the scale of the features or consider increasing regularisation. Duality gap: 1.956e+09, tolerance: 3.994e+06\n",
      "  model = cd_fast.enet_coordinate_descent(\n",
      "C:\\Users\\hyoan\\anaconda3\\lib\\site-packages\\sklearn\\linear_model\\_coordinate_descent.py:647: ConvergenceWarning: Objective did not converge. You might want to increase the number of iterations, check the scale of the features or consider increasing regularisation. Duality gap: 1.730e+09, tolerance: 3.667e+06\n",
      "  model = cd_fast.enet_coordinate_descent(\n",
      "C:\\Users\\hyoan\\anaconda3\\lib\\site-packages\\sklearn\\linear_model\\_coordinate_descent.py:647: ConvergenceWarning: Objective did not converge. You might want to increase the number of iterations, check the scale of the features or consider increasing regularisation. Duality gap: 1.711e+09, tolerance: 3.889e+06\n",
      "  model = cd_fast.enet_coordinate_descent(\n",
      "C:\\Users\\hyoan\\anaconda3\\lib\\site-packages\\sklearn\\linear_model\\_coordinate_descent.py:647: ConvergenceWarning: Objective did not converge. You might want to increase the number of iterations, check the scale of the features or consider increasing regularisation. Duality gap: 1.632e+09, tolerance: 3.656e+06\n",
      "  model = cd_fast.enet_coordinate_descent(\n",
      "C:\\Users\\hyoan\\anaconda3\\lib\\site-packages\\sklearn\\linear_model\\_coordinate_descent.py:647: ConvergenceWarning: Objective did not converge. You might want to increase the number of iterations, check the scale of the features or consider increasing regularisation. Duality gap: 1.807e+09, tolerance: 3.510e+06\n",
      "  model = cd_fast.enet_coordinate_descent(\n"
     ]
    },
    {
     "name": "stdout",
     "output_type": "stream",
     "text": [
      "4\n"
     ]
    },
    {
     "name": "stderr",
     "output_type": "stream",
     "text": [
      "C:\\Users\\hyoan\\anaconda3\\lib\\site-packages\\sklearn\\linear_model\\_coordinate_descent.py:647: ConvergenceWarning: Objective did not converge. You might want to increase the number of iterations, check the scale of the features or consider increasing regularisation. Duality gap: 1.439e+09, tolerance: 3.994e+06\n",
      "  model = cd_fast.enet_coordinate_descent(\n",
      "C:\\Users\\hyoan\\anaconda3\\lib\\site-packages\\sklearn\\linear_model\\_coordinate_descent.py:647: ConvergenceWarning: Objective did not converge. You might want to increase the number of iterations, check the scale of the features or consider increasing regularisation. Duality gap: 1.329e+09, tolerance: 3.667e+06\n",
      "  model = cd_fast.enet_coordinate_descent(\n",
      "C:\\Users\\hyoan\\anaconda3\\lib\\site-packages\\sklearn\\linear_model\\_coordinate_descent.py:647: ConvergenceWarning: Objective did not converge. You might want to increase the number of iterations, check the scale of the features or consider increasing regularisation. Duality gap: 1.376e+09, tolerance: 3.889e+06\n",
      "  model = cd_fast.enet_coordinate_descent(\n",
      "C:\\Users\\hyoan\\anaconda3\\lib\\site-packages\\sklearn\\linear_model\\_coordinate_descent.py:647: ConvergenceWarning: Objective did not converge. You might want to increase the number of iterations, check the scale of the features or consider increasing regularisation. Duality gap: 1.328e+09, tolerance: 3.656e+06\n",
      "  model = cd_fast.enet_coordinate_descent(\n",
      "C:\\Users\\hyoan\\anaconda3\\lib\\site-packages\\sklearn\\linear_model\\_coordinate_descent.py:647: ConvergenceWarning: Objective did not converge. You might want to increase the number of iterations, check the scale of the features or consider increasing regularisation. Duality gap: 1.352e+09, tolerance: 3.510e+06\n",
      "  model = cd_fast.enet_coordinate_descent(\n"
     ]
    },
    {
     "name": "stdout",
     "output_type": "stream",
     "text": [
      "1.2648552168552958\n",
      "1\n",
      "2\n"
     ]
    },
    {
     "name": "stderr",
     "output_type": "stream",
     "text": [
      "C:\\Users\\hyoan\\anaconda3\\lib\\site-packages\\sklearn\\linear_model\\_coordinate_descent.py:647: ConvergenceWarning: Objective did not converge. You might want to increase the number of iterations, check the scale of the features or consider increasing regularisation. Duality gap: 4.354e+08, tolerance: 3.994e+06\n",
      "  model = cd_fast.enet_coordinate_descent(\n",
      "C:\\Users\\hyoan\\anaconda3\\lib\\site-packages\\sklearn\\linear_model\\_coordinate_descent.py:647: ConvergenceWarning: Objective did not converge. You might want to increase the number of iterations, check the scale of the features or consider increasing regularisation. Duality gap: 3.808e+08, tolerance: 3.667e+06\n",
      "  model = cd_fast.enet_coordinate_descent(\n",
      "C:\\Users\\hyoan\\anaconda3\\lib\\site-packages\\sklearn\\linear_model\\_coordinate_descent.py:647: ConvergenceWarning: Objective did not converge. You might want to increase the number of iterations, check the scale of the features or consider increasing regularisation. Duality gap: 2.793e+08, tolerance: 3.889e+06\n",
      "  model = cd_fast.enet_coordinate_descent(\n",
      "C:\\Users\\hyoan\\anaconda3\\lib\\site-packages\\sklearn\\linear_model\\_coordinate_descent.py:647: ConvergenceWarning: Objective did not converge. You might want to increase the number of iterations, check the scale of the features or consider increasing regularisation. Duality gap: 6.536e+07, tolerance: 3.656e+06\n",
      "  model = cd_fast.enet_coordinate_descent(\n",
      "C:\\Users\\hyoan\\anaconda3\\lib\\site-packages\\sklearn\\linear_model\\_coordinate_descent.py:647: ConvergenceWarning: Objective did not converge. You might want to increase the number of iterations, check the scale of the features or consider increasing regularisation. Duality gap: 4.256e+08, tolerance: 3.510e+06\n",
      "  model = cd_fast.enet_coordinate_descent(\n"
     ]
    },
    {
     "name": "stdout",
     "output_type": "stream",
     "text": [
      "3\n"
     ]
    },
    {
     "name": "stderr",
     "output_type": "stream",
     "text": [
      "C:\\Users\\hyoan\\anaconda3\\lib\\site-packages\\sklearn\\linear_model\\_coordinate_descent.py:647: ConvergenceWarning: Objective did not converge. You might want to increase the number of iterations, check the scale of the features or consider increasing regularisation. Duality gap: 1.978e+09, tolerance: 3.994e+06\n",
      "  model = cd_fast.enet_coordinate_descent(\n",
      "C:\\Users\\hyoan\\anaconda3\\lib\\site-packages\\sklearn\\linear_model\\_coordinate_descent.py:647: ConvergenceWarning: Objective did not converge. You might want to increase the number of iterations, check the scale of the features or consider increasing regularisation. Duality gap: 1.769e+09, tolerance: 3.667e+06\n",
      "  model = cd_fast.enet_coordinate_descent(\n",
      "C:\\Users\\hyoan\\anaconda3\\lib\\site-packages\\sklearn\\linear_model\\_coordinate_descent.py:647: ConvergenceWarning: Objective did not converge. You might want to increase the number of iterations, check the scale of the features or consider increasing regularisation. Duality gap: 1.745e+09, tolerance: 3.889e+06\n",
      "  model = cd_fast.enet_coordinate_descent(\n",
      "C:\\Users\\hyoan\\anaconda3\\lib\\site-packages\\sklearn\\linear_model\\_coordinate_descent.py:647: ConvergenceWarning: Objective did not converge. You might want to increase the number of iterations, check the scale of the features or consider increasing regularisation. Duality gap: 1.616e+09, tolerance: 3.656e+06\n",
      "  model = cd_fast.enet_coordinate_descent(\n",
      "C:\\Users\\hyoan\\anaconda3\\lib\\site-packages\\sklearn\\linear_model\\_coordinate_descent.py:647: ConvergenceWarning: Objective did not converge. You might want to increase the number of iterations, check the scale of the features or consider increasing regularisation. Duality gap: 1.814e+09, tolerance: 3.510e+06\n",
      "  model = cd_fast.enet_coordinate_descent(\n"
     ]
    },
    {
     "name": "stdout",
     "output_type": "stream",
     "text": [
      "4\n"
     ]
    },
    {
     "name": "stderr",
     "output_type": "stream",
     "text": [
      "C:\\Users\\hyoan\\anaconda3\\lib\\site-packages\\sklearn\\linear_model\\_coordinate_descent.py:647: ConvergenceWarning: Objective did not converge. You might want to increase the number of iterations, check the scale of the features or consider increasing regularisation. Duality gap: 1.449e+09, tolerance: 3.994e+06\n",
      "  model = cd_fast.enet_coordinate_descent(\n",
      "C:\\Users\\hyoan\\anaconda3\\lib\\site-packages\\sklearn\\linear_model\\_coordinate_descent.py:647: ConvergenceWarning: Objective did not converge. You might want to increase the number of iterations, check the scale of the features or consider increasing regularisation. Duality gap: 1.342e+09, tolerance: 3.667e+06\n",
      "  model = cd_fast.enet_coordinate_descent(\n",
      "C:\\Users\\hyoan\\anaconda3\\lib\\site-packages\\sklearn\\linear_model\\_coordinate_descent.py:647: ConvergenceWarning: Objective did not converge. You might want to increase the number of iterations, check the scale of the features or consider increasing regularisation. Duality gap: 1.390e+09, tolerance: 3.889e+06\n",
      "  model = cd_fast.enet_coordinate_descent(\n",
      "C:\\Users\\hyoan\\anaconda3\\lib\\site-packages\\sklearn\\linear_model\\_coordinate_descent.py:647: ConvergenceWarning: Objective did not converge. You might want to increase the number of iterations, check the scale of the features or consider increasing regularisation. Duality gap: 1.349e+09, tolerance: 3.656e+06\n",
      "  model = cd_fast.enet_coordinate_descent(\n",
      "C:\\Users\\hyoan\\anaconda3\\lib\\site-packages\\sklearn\\linear_model\\_coordinate_descent.py:647: ConvergenceWarning: Objective did not converge. You might want to increase the number of iterations, check the scale of the features or consider increasing regularisation. Duality gap: 1.361e+09, tolerance: 3.510e+06\n",
      "  model = cd_fast.enet_coordinate_descent(\n"
     ]
    },
    {
     "name": "stdout",
     "output_type": "stream",
     "text": [
      "1.3894954943731375\n",
      "1\n",
      "2\n"
     ]
    },
    {
     "name": "stderr",
     "output_type": "stream",
     "text": [
      "C:\\Users\\hyoan\\anaconda3\\lib\\site-packages\\sklearn\\linear_model\\_coordinate_descent.py:647: ConvergenceWarning: Objective did not converge. You might want to increase the number of iterations, check the scale of the features or consider increasing regularisation. Duality gap: 3.569e+08, tolerance: 3.994e+06\n",
      "  model = cd_fast.enet_coordinate_descent(\n",
      "C:\\Users\\hyoan\\anaconda3\\lib\\site-packages\\sklearn\\linear_model\\_coordinate_descent.py:647: ConvergenceWarning: Objective did not converge. You might want to increase the number of iterations, check the scale of the features or consider increasing regularisation. Duality gap: 3.096e+08, tolerance: 3.667e+06\n",
      "  model = cd_fast.enet_coordinate_descent(\n",
      "C:\\Users\\hyoan\\anaconda3\\lib\\site-packages\\sklearn\\linear_model\\_coordinate_descent.py:647: ConvergenceWarning: Objective did not converge. You might want to increase the number of iterations, check the scale of the features or consider increasing regularisation. Duality gap: 2.178e+08, tolerance: 3.889e+06\n",
      "  model = cd_fast.enet_coordinate_descent(\n",
      "C:\\Users\\hyoan\\anaconda3\\lib\\site-packages\\sklearn\\linear_model\\_coordinate_descent.py:647: ConvergenceWarning: Objective did not converge. You might want to increase the number of iterations, check the scale of the features or consider increasing regularisation. Duality gap: 4.521e+07, tolerance: 3.656e+06\n",
      "  model = cd_fast.enet_coordinate_descent(\n",
      "C:\\Users\\hyoan\\anaconda3\\lib\\site-packages\\sklearn\\linear_model\\_coordinate_descent.py:647: ConvergenceWarning: Objective did not converge. You might want to increase the number of iterations, check the scale of the features or consider increasing regularisation. Duality gap: 3.471e+08, tolerance: 3.510e+06\n",
      "  model = cd_fast.enet_coordinate_descent(\n"
     ]
    },
    {
     "name": "stdout",
     "output_type": "stream",
     "text": [
      "3\n"
     ]
    },
    {
     "name": "stderr",
     "output_type": "stream",
     "text": [
      "C:\\Users\\hyoan\\anaconda3\\lib\\site-packages\\sklearn\\linear_model\\_coordinate_descent.py:647: ConvergenceWarning: Objective did not converge. You might want to increase the number of iterations, check the scale of the features or consider increasing regularisation. Duality gap: 1.978e+09, tolerance: 3.994e+06\n",
      "  model = cd_fast.enet_coordinate_descent(\n",
      "C:\\Users\\hyoan\\anaconda3\\lib\\site-packages\\sklearn\\linear_model\\_coordinate_descent.py:647: ConvergenceWarning: Objective did not converge. You might want to increase the number of iterations, check the scale of the features or consider increasing regularisation. Duality gap: 1.714e+09, tolerance: 3.667e+06\n",
      "  model = cd_fast.enet_coordinate_descent(\n",
      "C:\\Users\\hyoan\\anaconda3\\lib\\site-packages\\sklearn\\linear_model\\_coordinate_descent.py:647: ConvergenceWarning: Objective did not converge. You might want to increase the number of iterations, check the scale of the features or consider increasing regularisation. Duality gap: 1.756e+09, tolerance: 3.889e+06\n",
      "  model = cd_fast.enet_coordinate_descent(\n",
      "C:\\Users\\hyoan\\anaconda3\\lib\\site-packages\\sklearn\\linear_model\\_coordinate_descent.py:647: ConvergenceWarning: Objective did not converge. You might want to increase the number of iterations, check the scale of the features or consider increasing regularisation. Duality gap: 1.620e+09, tolerance: 3.656e+06\n",
      "  model = cd_fast.enet_coordinate_descent(\n",
      "C:\\Users\\hyoan\\anaconda3\\lib\\site-packages\\sklearn\\linear_model\\_coordinate_descent.py:647: ConvergenceWarning: Objective did not converge. You might want to increase the number of iterations, check the scale of the features or consider increasing regularisation. Duality gap: 1.791e+09, tolerance: 3.510e+06\n",
      "  model = cd_fast.enet_coordinate_descent(\n"
     ]
    },
    {
     "name": "stdout",
     "output_type": "stream",
     "text": [
      "4\n"
     ]
    },
    {
     "name": "stderr",
     "output_type": "stream",
     "text": [
      "C:\\Users\\hyoan\\anaconda3\\lib\\site-packages\\sklearn\\linear_model\\_coordinate_descent.py:647: ConvergenceWarning: Objective did not converge. You might want to increase the number of iterations, check the scale of the features or consider increasing regularisation. Duality gap: 1.461e+09, tolerance: 3.994e+06\n",
      "  model = cd_fast.enet_coordinate_descent(\n",
      "C:\\Users\\hyoan\\anaconda3\\lib\\site-packages\\sklearn\\linear_model\\_coordinate_descent.py:647: ConvergenceWarning: Objective did not converge. You might want to increase the number of iterations, check the scale of the features or consider increasing regularisation. Duality gap: 1.310e+09, tolerance: 3.667e+06\n",
      "  model = cd_fast.enet_coordinate_descent(\n",
      "C:\\Users\\hyoan\\anaconda3\\lib\\site-packages\\sklearn\\linear_model\\_coordinate_descent.py:647: ConvergenceWarning: Objective did not converge. You might want to increase the number of iterations, check the scale of the features or consider increasing regularisation. Duality gap: 1.431e+09, tolerance: 3.889e+06\n",
      "  model = cd_fast.enet_coordinate_descent(\n",
      "C:\\Users\\hyoan\\anaconda3\\lib\\site-packages\\sklearn\\linear_model\\_coordinate_descent.py:647: ConvergenceWarning: Objective did not converge. You might want to increase the number of iterations, check the scale of the features or consider increasing regularisation. Duality gap: 1.372e+09, tolerance: 3.656e+06\n",
      "  model = cd_fast.enet_coordinate_descent(\n",
      "C:\\Users\\hyoan\\anaconda3\\lib\\site-packages\\sklearn\\linear_model\\_coordinate_descent.py:647: ConvergenceWarning: Objective did not converge. You might want to increase the number of iterations, check the scale of the features or consider increasing regularisation. Duality gap: 1.381e+09, tolerance: 3.510e+06\n",
      "  model = cd_fast.enet_coordinate_descent(\n"
     ]
    },
    {
     "name": "stdout",
     "output_type": "stream",
     "text": [
      "1.5264179671752334\n",
      "1\n",
      "2\n"
     ]
    },
    {
     "name": "stderr",
     "output_type": "stream",
     "text": [
      "C:\\Users\\hyoan\\anaconda3\\lib\\site-packages\\sklearn\\linear_model\\_coordinate_descent.py:647: ConvergenceWarning: Objective did not converge. You might want to increase the number of iterations, check the scale of the features or consider increasing regularisation. Duality gap: 2.712e+08, tolerance: 3.994e+06\n",
      "  model = cd_fast.enet_coordinate_descent(\n",
      "C:\\Users\\hyoan\\anaconda3\\lib\\site-packages\\sklearn\\linear_model\\_coordinate_descent.py:647: ConvergenceWarning: Objective did not converge. You might want to increase the number of iterations, check the scale of the features or consider increasing regularisation. Duality gap: 2.504e+08, tolerance: 3.667e+06\n",
      "  model = cd_fast.enet_coordinate_descent(\n",
      "C:\\Users\\hyoan\\anaconda3\\lib\\site-packages\\sklearn\\linear_model\\_coordinate_descent.py:647: ConvergenceWarning: Objective did not converge. You might want to increase the number of iterations, check the scale of the features or consider increasing regularisation. Duality gap: 1.640e+08, tolerance: 3.889e+06\n",
      "  model = cd_fast.enet_coordinate_descent(\n",
      "C:\\Users\\hyoan\\anaconda3\\lib\\site-packages\\sklearn\\linear_model\\_coordinate_descent.py:647: ConvergenceWarning: Objective did not converge. You might want to increase the number of iterations, check the scale of the features or consider increasing regularisation. Duality gap: 2.978e+07, tolerance: 3.656e+06\n",
      "  model = cd_fast.enet_coordinate_descent(\n",
      "C:\\Users\\hyoan\\anaconda3\\lib\\site-packages\\sklearn\\linear_model\\_coordinate_descent.py:647: ConvergenceWarning: Objective did not converge. You might want to increase the number of iterations, check the scale of the features or consider increasing regularisation. Duality gap: 2.932e+08, tolerance: 3.510e+06\n",
      "  model = cd_fast.enet_coordinate_descent(\n"
     ]
    },
    {
     "name": "stdout",
     "output_type": "stream",
     "text": [
      "3\n"
     ]
    },
    {
     "name": "stderr",
     "output_type": "stream",
     "text": [
      "C:\\Users\\hyoan\\anaconda3\\lib\\site-packages\\sklearn\\linear_model\\_coordinate_descent.py:647: ConvergenceWarning: Objective did not converge. You might want to increase the number of iterations, check the scale of the features or consider increasing regularisation. Duality gap: 1.978e+09, tolerance: 3.994e+06\n",
      "  model = cd_fast.enet_coordinate_descent(\n",
      "C:\\Users\\hyoan\\anaconda3\\lib\\site-packages\\sklearn\\linear_model\\_coordinate_descent.py:647: ConvergenceWarning: Objective did not converge. You might want to increase the number of iterations, check the scale of the features or consider increasing regularisation. Duality gap: 1.694e+09, tolerance: 3.667e+06\n",
      "  model = cd_fast.enet_coordinate_descent(\n",
      "C:\\Users\\hyoan\\anaconda3\\lib\\site-packages\\sklearn\\linear_model\\_coordinate_descent.py:647: ConvergenceWarning: Objective did not converge. You might want to increase the number of iterations, check the scale of the features or consider increasing regularisation. Duality gap: 1.520e+09, tolerance: 3.889e+06\n",
      "  model = cd_fast.enet_coordinate_descent(\n",
      "C:\\Users\\hyoan\\anaconda3\\lib\\site-packages\\sklearn\\linear_model\\_coordinate_descent.py:647: ConvergenceWarning: Objective did not converge. You might want to increase the number of iterations, check the scale of the features or consider increasing regularisation. Duality gap: 1.590e+09, tolerance: 3.656e+06\n",
      "  model = cd_fast.enet_coordinate_descent(\n",
      "C:\\Users\\hyoan\\anaconda3\\lib\\site-packages\\sklearn\\linear_model\\_coordinate_descent.py:647: ConvergenceWarning: Objective did not converge. You might want to increase the number of iterations, check the scale of the features or consider increasing regularisation. Duality gap: 1.781e+09, tolerance: 3.510e+06\n",
      "  model = cd_fast.enet_coordinate_descent(\n"
     ]
    },
    {
     "name": "stdout",
     "output_type": "stream",
     "text": [
      "4\n"
     ]
    },
    {
     "name": "stderr",
     "output_type": "stream",
     "text": [
      "C:\\Users\\hyoan\\anaconda3\\lib\\site-packages\\sklearn\\linear_model\\_coordinate_descent.py:647: ConvergenceWarning: Objective did not converge. You might want to increase the number of iterations, check the scale of the features or consider increasing regularisation. Duality gap: 1.479e+09, tolerance: 3.994e+06\n",
      "  model = cd_fast.enet_coordinate_descent(\n",
      "C:\\Users\\hyoan\\anaconda3\\lib\\site-packages\\sklearn\\linear_model\\_coordinate_descent.py:647: ConvergenceWarning: Objective did not converge. You might want to increase the number of iterations, check the scale of the features or consider increasing regularisation. Duality gap: 1.327e+09, tolerance: 3.667e+06\n",
      "  model = cd_fast.enet_coordinate_descent(\n",
      "C:\\Users\\hyoan\\anaconda3\\lib\\site-packages\\sklearn\\linear_model\\_coordinate_descent.py:647: ConvergenceWarning: Objective did not converge. You might want to increase the number of iterations, check the scale of the features or consider increasing regularisation. Duality gap: 1.445e+09, tolerance: 3.889e+06\n",
      "  model = cd_fast.enet_coordinate_descent(\n",
      "C:\\Users\\hyoan\\anaconda3\\lib\\site-packages\\sklearn\\linear_model\\_coordinate_descent.py:647: ConvergenceWarning: Objective did not converge. You might want to increase the number of iterations, check the scale of the features or consider increasing regularisation. Duality gap: 1.405e+09, tolerance: 3.656e+06\n",
      "  model = cd_fast.enet_coordinate_descent(\n",
      "C:\\Users\\hyoan\\anaconda3\\lib\\site-packages\\sklearn\\linear_model\\_coordinate_descent.py:647: ConvergenceWarning: Objective did not converge. You might want to increase the number of iterations, check the scale of the features or consider increasing regularisation. Duality gap: 1.353e+09, tolerance: 3.510e+06\n",
      "  model = cd_fast.enet_coordinate_descent(\n"
     ]
    },
    {
     "name": "stdout",
     "output_type": "stream",
     "text": [
      "1.6768329368110073\n",
      "1\n",
      "2\n"
     ]
    },
    {
     "name": "stderr",
     "output_type": "stream",
     "text": [
      "C:\\Users\\hyoan\\anaconda3\\lib\\site-packages\\sklearn\\linear_model\\_coordinate_descent.py:647: ConvergenceWarning: Objective did not converge. You might want to increase the number of iterations, check the scale of the features or consider increasing regularisation. Duality gap: 1.951e+08, tolerance: 3.994e+06\n",
      "  model = cd_fast.enet_coordinate_descent(\n",
      "C:\\Users\\hyoan\\anaconda3\\lib\\site-packages\\sklearn\\linear_model\\_coordinate_descent.py:647: ConvergenceWarning: Objective did not converge. You might want to increase the number of iterations, check the scale of the features or consider increasing regularisation. Duality gap: 1.976e+08, tolerance: 3.667e+06\n",
      "  model = cd_fast.enet_coordinate_descent(\n",
      "C:\\Users\\hyoan\\anaconda3\\lib\\site-packages\\sklearn\\linear_model\\_coordinate_descent.py:647: ConvergenceWarning: Objective did not converge. You might want to increase the number of iterations, check the scale of the features or consider increasing regularisation. Duality gap: 1.212e+08, tolerance: 3.889e+06\n",
      "  model = cd_fast.enet_coordinate_descent(\n",
      "C:\\Users\\hyoan\\anaconda3\\lib\\site-packages\\sklearn\\linear_model\\_coordinate_descent.py:647: ConvergenceWarning: Objective did not converge. You might want to increase the number of iterations, check the scale of the features or consider increasing regularisation. Duality gap: 1.883e+07, tolerance: 3.656e+06\n",
      "  model = cd_fast.enet_coordinate_descent(\n",
      "C:\\Users\\hyoan\\anaconda3\\lib\\site-packages\\sklearn\\linear_model\\_coordinate_descent.py:647: ConvergenceWarning: Objective did not converge. You might want to increase the number of iterations, check the scale of the features or consider increasing regularisation. Duality gap: 2.324e+08, tolerance: 3.510e+06\n",
      "  model = cd_fast.enet_coordinate_descent(\n"
     ]
    },
    {
     "name": "stdout",
     "output_type": "stream",
     "text": [
      "3\n"
     ]
    },
    {
     "name": "stderr",
     "output_type": "stream",
     "text": [
      "C:\\Users\\hyoan\\anaconda3\\lib\\site-packages\\sklearn\\linear_model\\_coordinate_descent.py:647: ConvergenceWarning: Objective did not converge. You might want to increase the number of iterations, check the scale of the features or consider increasing regularisation. Duality gap: 1.927e+09, tolerance: 3.994e+06\n",
      "  model = cd_fast.enet_coordinate_descent(\n",
      "C:\\Users\\hyoan\\anaconda3\\lib\\site-packages\\sklearn\\linear_model\\_coordinate_descent.py:647: ConvergenceWarning: Objective did not converge. You might want to increase the number of iterations, check the scale of the features or consider increasing regularisation. Duality gap: 1.738e+09, tolerance: 3.667e+06\n",
      "  model = cd_fast.enet_coordinate_descent(\n",
      "C:\\Users\\hyoan\\anaconda3\\lib\\site-packages\\sklearn\\linear_model\\_coordinate_descent.py:647: ConvergenceWarning: Objective did not converge. You might want to increase the number of iterations, check the scale of the features or consider increasing regularisation. Duality gap: 1.595e+09, tolerance: 3.889e+06\n",
      "  model = cd_fast.enet_coordinate_descent(\n",
      "C:\\Users\\hyoan\\anaconda3\\lib\\site-packages\\sklearn\\linear_model\\_coordinate_descent.py:647: ConvergenceWarning: Objective did not converge. You might want to increase the number of iterations, check the scale of the features or consider increasing regularisation. Duality gap: 1.537e+09, tolerance: 3.656e+06\n",
      "  model = cd_fast.enet_coordinate_descent(\n",
      "C:\\Users\\hyoan\\anaconda3\\lib\\site-packages\\sklearn\\linear_model\\_coordinate_descent.py:647: ConvergenceWarning: Objective did not converge. You might want to increase the number of iterations, check the scale of the features or consider increasing regularisation. Duality gap: 1.810e+09, tolerance: 3.510e+06\n",
      "  model = cd_fast.enet_coordinate_descent(\n"
     ]
    },
    {
     "name": "stdout",
     "output_type": "stream",
     "text": [
      "4\n"
     ]
    },
    {
     "name": "stderr",
     "output_type": "stream",
     "text": [
      "C:\\Users\\hyoan\\anaconda3\\lib\\site-packages\\sklearn\\linear_model\\_coordinate_descent.py:647: ConvergenceWarning: Objective did not converge. You might want to increase the number of iterations, check the scale of the features or consider increasing regularisation. Duality gap: 1.454e+09, tolerance: 3.994e+06\n",
      "  model = cd_fast.enet_coordinate_descent(\n",
      "C:\\Users\\hyoan\\anaconda3\\lib\\site-packages\\sklearn\\linear_model\\_coordinate_descent.py:647: ConvergenceWarning: Objective did not converge. You might want to increase the number of iterations, check the scale of the features or consider increasing regularisation. Duality gap: 1.337e+09, tolerance: 3.667e+06\n",
      "  model = cd_fast.enet_coordinate_descent(\n",
      "C:\\Users\\hyoan\\anaconda3\\lib\\site-packages\\sklearn\\linear_model\\_coordinate_descent.py:647: ConvergenceWarning: Objective did not converge. You might want to increase the number of iterations, check the scale of the features or consider increasing regularisation. Duality gap: 1.430e+09, tolerance: 3.889e+06\n",
      "  model = cd_fast.enet_coordinate_descent(\n",
      "C:\\Users\\hyoan\\anaconda3\\lib\\site-packages\\sklearn\\linear_model\\_coordinate_descent.py:647: ConvergenceWarning: Objective did not converge. You might want to increase the number of iterations, check the scale of the features or consider increasing regularisation. Duality gap: 1.436e+09, tolerance: 3.656e+06\n",
      "  model = cd_fast.enet_coordinate_descent(\n",
      "C:\\Users\\hyoan\\anaconda3\\lib\\site-packages\\sklearn\\linear_model\\_coordinate_descent.py:647: ConvergenceWarning: Objective did not converge. You might want to increase the number of iterations, check the scale of the features or consider increasing regularisation. Duality gap: 1.346e+09, tolerance: 3.510e+06\n",
      "  model = cd_fast.enet_coordinate_descent(\n"
     ]
    },
    {
     "name": "stdout",
     "output_type": "stream",
     "text": [
      "1.8420699693267153\n",
      "1\n",
      "2\n"
     ]
    },
    {
     "name": "stderr",
     "output_type": "stream",
     "text": [
      "C:\\Users\\hyoan\\anaconda3\\lib\\site-packages\\sklearn\\linear_model\\_coordinate_descent.py:647: ConvergenceWarning: Objective did not converge. You might want to increase the number of iterations, check the scale of the features or consider increasing regularisation. Duality gap: 1.287e+08, tolerance: 3.994e+06\n",
      "  model = cd_fast.enet_coordinate_descent(\n",
      "C:\\Users\\hyoan\\anaconda3\\lib\\site-packages\\sklearn\\linear_model\\_coordinate_descent.py:647: ConvergenceWarning: Objective did not converge. You might want to increase the number of iterations, check the scale of the features or consider increasing regularisation. Duality gap: 1.432e+08, tolerance: 3.667e+06\n",
      "  model = cd_fast.enet_coordinate_descent(\n",
      "C:\\Users\\hyoan\\anaconda3\\lib\\site-packages\\sklearn\\linear_model\\_coordinate_descent.py:647: ConvergenceWarning: Objective did not converge. You might want to increase the number of iterations, check the scale of the features or consider increasing regularisation. Duality gap: 8.531e+07, tolerance: 3.889e+06\n",
      "  model = cd_fast.enet_coordinate_descent(\n",
      "C:\\Users\\hyoan\\anaconda3\\lib\\site-packages\\sklearn\\linear_model\\_coordinate_descent.py:647: ConvergenceWarning: Objective did not converge. You might want to increase the number of iterations, check the scale of the features or consider increasing regularisation. Duality gap: 1.117e+07, tolerance: 3.656e+06\n",
      "  model = cd_fast.enet_coordinate_descent(\n",
      "C:\\Users\\hyoan\\anaconda3\\lib\\site-packages\\sklearn\\linear_model\\_coordinate_descent.py:647: ConvergenceWarning: Objective did not converge. You might want to increase the number of iterations, check the scale of the features or consider increasing regularisation. Duality gap: 1.792e+08, tolerance: 3.510e+06\n",
      "  model = cd_fast.enet_coordinate_descent(\n"
     ]
    },
    {
     "name": "stdout",
     "output_type": "stream",
     "text": [
      "3\n"
     ]
    },
    {
     "name": "stderr",
     "output_type": "stream",
     "text": [
      "C:\\Users\\hyoan\\anaconda3\\lib\\site-packages\\sklearn\\linear_model\\_coordinate_descent.py:647: ConvergenceWarning: Objective did not converge. You might want to increase the number of iterations, check the scale of the features or consider increasing regularisation. Duality gap: 1.948e+09, tolerance: 3.994e+06\n",
      "  model = cd_fast.enet_coordinate_descent(\n",
      "C:\\Users\\hyoan\\anaconda3\\lib\\site-packages\\sklearn\\linear_model\\_coordinate_descent.py:647: ConvergenceWarning: Objective did not converge. You might want to increase the number of iterations, check the scale of the features or consider increasing regularisation. Duality gap: 1.749e+09, tolerance: 3.667e+06\n",
      "  model = cd_fast.enet_coordinate_descent(\n",
      "C:\\Users\\hyoan\\anaconda3\\lib\\site-packages\\sklearn\\linear_model\\_coordinate_descent.py:647: ConvergenceWarning: Objective did not converge. You might want to increase the number of iterations, check the scale of the features or consider increasing regularisation. Duality gap: 1.576e+09, tolerance: 3.889e+06\n",
      "  model = cd_fast.enet_coordinate_descent(\n",
      "C:\\Users\\hyoan\\anaconda3\\lib\\site-packages\\sklearn\\linear_model\\_coordinate_descent.py:647: ConvergenceWarning: Objective did not converge. You might want to increase the number of iterations, check the scale of the features or consider increasing regularisation. Duality gap: 1.457e+09, tolerance: 3.656e+06\n",
      "  model = cd_fast.enet_coordinate_descent(\n",
      "C:\\Users\\hyoan\\anaconda3\\lib\\site-packages\\sklearn\\linear_model\\_coordinate_descent.py:647: ConvergenceWarning: Objective did not converge. You might want to increase the number of iterations, check the scale of the features or consider increasing regularisation. Duality gap: 1.804e+09, tolerance: 3.510e+06\n",
      "  model = cd_fast.enet_coordinate_descent(\n"
     ]
    },
    {
     "name": "stdout",
     "output_type": "stream",
     "text": [
      "4\n"
     ]
    },
    {
     "name": "stderr",
     "output_type": "stream",
     "text": [
      "C:\\Users\\hyoan\\anaconda3\\lib\\site-packages\\sklearn\\linear_model\\_coordinate_descent.py:647: ConvergenceWarning: Objective did not converge. You might want to increase the number of iterations, check the scale of the features or consider increasing regularisation. Duality gap: 1.370e+09, tolerance: 3.994e+06\n",
      "  model = cd_fast.enet_coordinate_descent(\n",
      "C:\\Users\\hyoan\\anaconda3\\lib\\site-packages\\sklearn\\linear_model\\_coordinate_descent.py:647: ConvergenceWarning: Objective did not converge. You might want to increase the number of iterations, check the scale of the features or consider increasing regularisation. Duality gap: 1.410e+09, tolerance: 3.667e+06\n",
      "  model = cd_fast.enet_coordinate_descent(\n",
      "C:\\Users\\hyoan\\anaconda3\\lib\\site-packages\\sklearn\\linear_model\\_coordinate_descent.py:647: ConvergenceWarning: Objective did not converge. You might want to increase the number of iterations, check the scale of the features or consider increasing regularisation. Duality gap: 1.400e+09, tolerance: 3.889e+06\n",
      "  model = cd_fast.enet_coordinate_descent(\n",
      "C:\\Users\\hyoan\\anaconda3\\lib\\site-packages\\sklearn\\linear_model\\_coordinate_descent.py:647: ConvergenceWarning: Objective did not converge. You might want to increase the number of iterations, check the scale of the features or consider increasing regularisation. Duality gap: 1.372e+09, tolerance: 3.656e+06\n",
      "  model = cd_fast.enet_coordinate_descent(\n",
      "C:\\Users\\hyoan\\anaconda3\\lib\\site-packages\\sklearn\\linear_model\\_coordinate_descent.py:647: ConvergenceWarning: Objective did not converge. You might want to increase the number of iterations, check the scale of the features or consider increasing regularisation. Duality gap: 1.378e+09, tolerance: 3.510e+06\n",
      "  model = cd_fast.enet_coordinate_descent(\n"
     ]
    },
    {
     "name": "stdout",
     "output_type": "stream",
     "text": [
      "2.0235896477251565\n",
      "1\n",
      "2\n"
     ]
    },
    {
     "name": "stderr",
     "output_type": "stream",
     "text": [
      "C:\\Users\\hyoan\\anaconda3\\lib\\site-packages\\sklearn\\linear_model\\_coordinate_descent.py:647: ConvergenceWarning: Objective did not converge. You might want to increase the number of iterations, check the scale of the features or consider increasing regularisation. Duality gap: 7.454e+07, tolerance: 3.994e+06\n",
      "  model = cd_fast.enet_coordinate_descent(\n",
      "C:\\Users\\hyoan\\anaconda3\\lib\\site-packages\\sklearn\\linear_model\\_coordinate_descent.py:647: ConvergenceWarning: Objective did not converge. You might want to increase the number of iterations, check the scale of the features or consider increasing regularisation. Duality gap: 9.889e+07, tolerance: 3.667e+06\n",
      "  model = cd_fast.enet_coordinate_descent(\n",
      "C:\\Users\\hyoan\\anaconda3\\lib\\site-packages\\sklearn\\linear_model\\_coordinate_descent.py:647: ConvergenceWarning: Objective did not converge. You might want to increase the number of iterations, check the scale of the features or consider increasing regularisation. Duality gap: 5.620e+07, tolerance: 3.889e+06\n",
      "  model = cd_fast.enet_coordinate_descent(\n",
      "C:\\Users\\hyoan\\anaconda3\\lib\\site-packages\\sklearn\\linear_model\\_coordinate_descent.py:647: ConvergenceWarning: Objective did not converge. You might want to increase the number of iterations, check the scale of the features or consider increasing regularisation. Duality gap: 7.764e+06, tolerance: 3.656e+06\n",
      "  model = cd_fast.enet_coordinate_descent(\n",
      "C:\\Users\\hyoan\\anaconda3\\lib\\site-packages\\sklearn\\linear_model\\_coordinate_descent.py:647: ConvergenceWarning: Objective did not converge. You might want to increase the number of iterations, check the scale of the features or consider increasing regularisation. Duality gap: 1.274e+08, tolerance: 3.510e+06\n",
      "  model = cd_fast.enet_coordinate_descent(\n"
     ]
    },
    {
     "name": "stdout",
     "output_type": "stream",
     "text": [
      "3\n"
     ]
    },
    {
     "name": "stderr",
     "output_type": "stream",
     "text": [
      "C:\\Users\\hyoan\\anaconda3\\lib\\site-packages\\sklearn\\linear_model\\_coordinate_descent.py:647: ConvergenceWarning: Objective did not converge. You might want to increase the number of iterations, check the scale of the features or consider increasing regularisation. Duality gap: 1.858e+09, tolerance: 3.994e+06\n",
      "  model = cd_fast.enet_coordinate_descent(\n",
      "C:\\Users\\hyoan\\anaconda3\\lib\\site-packages\\sklearn\\linear_model\\_coordinate_descent.py:647: ConvergenceWarning: Objective did not converge. You might want to increase the number of iterations, check the scale of the features or consider increasing regularisation. Duality gap: 1.723e+09, tolerance: 3.667e+06\n",
      "  model = cd_fast.enet_coordinate_descent(\n",
      "C:\\Users\\hyoan\\anaconda3\\lib\\site-packages\\sklearn\\linear_model\\_coordinate_descent.py:647: ConvergenceWarning: Objective did not converge. You might want to increase the number of iterations, check the scale of the features or consider increasing regularisation. Duality gap: 1.597e+09, tolerance: 3.889e+06\n",
      "  model = cd_fast.enet_coordinate_descent(\n",
      "C:\\Users\\hyoan\\anaconda3\\lib\\site-packages\\sklearn\\linear_model\\_coordinate_descent.py:647: ConvergenceWarning: Objective did not converge. You might want to increase the number of iterations, check the scale of the features or consider increasing regularisation. Duality gap: 1.536e+09, tolerance: 3.656e+06\n",
      "  model = cd_fast.enet_coordinate_descent(\n",
      "C:\\Users\\hyoan\\anaconda3\\lib\\site-packages\\sklearn\\linear_model\\_coordinate_descent.py:647: ConvergenceWarning: Objective did not converge. You might want to increase the number of iterations, check the scale of the features or consider increasing regularisation. Duality gap: 1.838e+09, tolerance: 3.510e+06\n",
      "  model = cd_fast.enet_coordinate_descent(\n"
     ]
    },
    {
     "name": "stdout",
     "output_type": "stream",
     "text": [
      "4\n"
     ]
    },
    {
     "name": "stderr",
     "output_type": "stream",
     "text": [
      "C:\\Users\\hyoan\\anaconda3\\lib\\site-packages\\sklearn\\linear_model\\_coordinate_descent.py:647: ConvergenceWarning: Objective did not converge. You might want to increase the number of iterations, check the scale of the features or consider increasing regularisation. Duality gap: 1.471e+09, tolerance: 3.994e+06\n",
      "  model = cd_fast.enet_coordinate_descent(\n",
      "C:\\Users\\hyoan\\anaconda3\\lib\\site-packages\\sklearn\\linear_model\\_coordinate_descent.py:647: ConvergenceWarning: Objective did not converge. You might want to increase the number of iterations, check the scale of the features or consider increasing regularisation. Duality gap: 1.416e+09, tolerance: 3.667e+06\n",
      "  model = cd_fast.enet_coordinate_descent(\n",
      "C:\\Users\\hyoan\\anaconda3\\lib\\site-packages\\sklearn\\linear_model\\_coordinate_descent.py:647: ConvergenceWarning: Objective did not converge. You might want to increase the number of iterations, check the scale of the features or consider increasing regularisation. Duality gap: 1.390e+09, tolerance: 3.889e+06\n",
      "  model = cd_fast.enet_coordinate_descent(\n",
      "C:\\Users\\hyoan\\anaconda3\\lib\\site-packages\\sklearn\\linear_model\\_coordinate_descent.py:647: ConvergenceWarning: Objective did not converge. You might want to increase the number of iterations, check the scale of the features or consider increasing regularisation. Duality gap: 1.219e+09, tolerance: 3.656e+06\n",
      "  model = cd_fast.enet_coordinate_descent(\n",
      "C:\\Users\\hyoan\\anaconda3\\lib\\site-packages\\sklearn\\linear_model\\_coordinate_descent.py:647: ConvergenceWarning: Objective did not converge. You might want to increase the number of iterations, check the scale of the features or consider increasing regularisation. Duality gap: 1.370e+09, tolerance: 3.510e+06\n",
      "  model = cd_fast.enet_coordinate_descent(\n"
     ]
    },
    {
     "name": "stdout",
     "output_type": "stream",
     "text": [
      "2.2229964825261943\n",
      "1\n",
      "2\n"
     ]
    },
    {
     "name": "stderr",
     "output_type": "stream",
     "text": [
      "C:\\Users\\hyoan\\anaconda3\\lib\\site-packages\\sklearn\\linear_model\\_coordinate_descent.py:647: ConvergenceWarning: Objective did not converge. You might want to increase the number of iterations, check the scale of the features or consider increasing regularisation. Duality gap: 3.361e+07, tolerance: 3.994e+06\n",
      "  model = cd_fast.enet_coordinate_descent(\n",
      "C:\\Users\\hyoan\\anaconda3\\lib\\site-packages\\sklearn\\linear_model\\_coordinate_descent.py:647: ConvergenceWarning: Objective did not converge. You might want to increase the number of iterations, check the scale of the features or consider increasing regularisation. Duality gap: 6.370e+07, tolerance: 3.667e+06\n",
      "  model = cd_fast.enet_coordinate_descent(\n",
      "C:\\Users\\hyoan\\anaconda3\\lib\\site-packages\\sklearn\\linear_model\\_coordinate_descent.py:647: ConvergenceWarning: Objective did not converge. You might want to increase the number of iterations, check the scale of the features or consider increasing regularisation. Duality gap: 3.309e+07, tolerance: 3.889e+06\n",
      "  model = cd_fast.enet_coordinate_descent(\n",
      "C:\\Users\\hyoan\\anaconda3\\lib\\site-packages\\sklearn\\linear_model\\_coordinate_descent.py:647: ConvergenceWarning: Objective did not converge. You might want to increase the number of iterations, check the scale of the features or consider increasing regularisation. Duality gap: 4.356e+06, tolerance: 3.656e+06\n",
      "  model = cd_fast.enet_coordinate_descent(\n",
      "C:\\Users\\hyoan\\anaconda3\\lib\\site-packages\\sklearn\\linear_model\\_coordinate_descent.py:647: ConvergenceWarning: Objective did not converge. You might want to increase the number of iterations, check the scale of the features or consider increasing regularisation. Duality gap: 8.623e+07, tolerance: 3.510e+06\n",
      "  model = cd_fast.enet_coordinate_descent(\n"
     ]
    },
    {
     "name": "stdout",
     "output_type": "stream",
     "text": [
      "3\n"
     ]
    },
    {
     "name": "stderr",
     "output_type": "stream",
     "text": [
      "C:\\Users\\hyoan\\anaconda3\\lib\\site-packages\\sklearn\\linear_model\\_coordinate_descent.py:647: ConvergenceWarning: Objective did not converge. You might want to increase the number of iterations, check the scale of the features or consider increasing regularisation. Duality gap: 1.877e+09, tolerance: 3.994e+06\n",
      "  model = cd_fast.enet_coordinate_descent(\n",
      "C:\\Users\\hyoan\\anaconda3\\lib\\site-packages\\sklearn\\linear_model\\_coordinate_descent.py:647: ConvergenceWarning: Objective did not converge. You might want to increase the number of iterations, check the scale of the features or consider increasing regularisation. Duality gap: 1.746e+09, tolerance: 3.667e+06\n",
      "  model = cd_fast.enet_coordinate_descent(\n",
      "C:\\Users\\hyoan\\anaconda3\\lib\\site-packages\\sklearn\\linear_model\\_coordinate_descent.py:647: ConvergenceWarning: Objective did not converge. You might want to increase the number of iterations, check the scale of the features or consider increasing regularisation. Duality gap: 1.625e+09, tolerance: 3.889e+06\n",
      "  model = cd_fast.enet_coordinate_descent(\n",
      "C:\\Users\\hyoan\\anaconda3\\lib\\site-packages\\sklearn\\linear_model\\_coordinate_descent.py:647: ConvergenceWarning: Objective did not converge. You might want to increase the number of iterations, check the scale of the features or consider increasing regularisation. Duality gap: 1.546e+09, tolerance: 3.656e+06\n",
      "  model = cd_fast.enet_coordinate_descent(\n",
      "C:\\Users\\hyoan\\anaconda3\\lib\\site-packages\\sklearn\\linear_model\\_coordinate_descent.py:647: ConvergenceWarning: Objective did not converge. You might want to increase the number of iterations, check the scale of the features or consider increasing regularisation. Duality gap: 1.531e+09, tolerance: 3.510e+06\n",
      "  model = cd_fast.enet_coordinate_descent(\n"
     ]
    },
    {
     "name": "stdout",
     "output_type": "stream",
     "text": [
      "4\n"
     ]
    },
    {
     "name": "stderr",
     "output_type": "stream",
     "text": [
      "C:\\Users\\hyoan\\anaconda3\\lib\\site-packages\\sklearn\\linear_model\\_coordinate_descent.py:647: ConvergenceWarning: Objective did not converge. You might want to increase the number of iterations, check the scale of the features or consider increasing regularisation. Duality gap: 1.479e+09, tolerance: 3.994e+06\n",
      "  model = cd_fast.enet_coordinate_descent(\n",
      "C:\\Users\\hyoan\\anaconda3\\lib\\site-packages\\sklearn\\linear_model\\_coordinate_descent.py:647: ConvergenceWarning: Objective did not converge. You might want to increase the number of iterations, check the scale of the features or consider increasing regularisation. Duality gap: 1.371e+09, tolerance: 3.667e+06\n",
      "  model = cd_fast.enet_coordinate_descent(\n",
      "C:\\Users\\hyoan\\anaconda3\\lib\\site-packages\\sklearn\\linear_model\\_coordinate_descent.py:647: ConvergenceWarning: Objective did not converge. You might want to increase the number of iterations, check the scale of the features or consider increasing regularisation. Duality gap: 1.543e+09, tolerance: 3.889e+06\n",
      "  model = cd_fast.enet_coordinate_descent(\n",
      "C:\\Users\\hyoan\\anaconda3\\lib\\site-packages\\sklearn\\linear_model\\_coordinate_descent.py:647: ConvergenceWarning: Objective did not converge. You might want to increase the number of iterations, check the scale of the features or consider increasing regularisation. Duality gap: 1.228e+09, tolerance: 3.656e+06\n",
      "  model = cd_fast.enet_coordinate_descent(\n",
      "C:\\Users\\hyoan\\anaconda3\\lib\\site-packages\\sklearn\\linear_model\\_coordinate_descent.py:647: ConvergenceWarning: Objective did not converge. You might want to increase the number of iterations, check the scale of the features or consider increasing regularisation. Duality gap: 1.367e+09, tolerance: 3.510e+06\n",
      "  model = cd_fast.enet_coordinate_descent(\n"
     ]
    },
    {
     "name": "stdout",
     "output_type": "stream",
     "text": [
      "2.442053094548651\n",
      "1\n",
      "2\n"
     ]
    },
    {
     "name": "stderr",
     "output_type": "stream",
     "text": [
      "C:\\Users\\hyoan\\anaconda3\\lib\\site-packages\\sklearn\\linear_model\\_coordinate_descent.py:647: ConvergenceWarning: Objective did not converge. You might want to increase the number of iterations, check the scale of the features or consider increasing regularisation. Duality gap: 5.233e+07, tolerance: 3.510e+06\n",
      "  model = cd_fast.enet_coordinate_descent(\n"
     ]
    },
    {
     "name": "stdout",
     "output_type": "stream",
     "text": [
      "3\n"
     ]
    },
    {
     "name": "stderr",
     "output_type": "stream",
     "text": [
      "C:\\Users\\hyoan\\anaconda3\\lib\\site-packages\\sklearn\\linear_model\\_coordinate_descent.py:647: ConvergenceWarning: Objective did not converge. You might want to increase the number of iterations, check the scale of the features or consider increasing regularisation. Duality gap: 1.909e+09, tolerance: 3.994e+06\n",
      "  model = cd_fast.enet_coordinate_descent(\n",
      "C:\\Users\\hyoan\\anaconda3\\lib\\site-packages\\sklearn\\linear_model\\_coordinate_descent.py:647: ConvergenceWarning: Objective did not converge. You might want to increase the number of iterations, check the scale of the features or consider increasing regularisation. Duality gap: 1.651e+09, tolerance: 3.667e+06\n",
      "  model = cd_fast.enet_coordinate_descent(\n",
      "C:\\Users\\hyoan\\anaconda3\\lib\\site-packages\\sklearn\\linear_model\\_coordinate_descent.py:647: ConvergenceWarning: Objective did not converge. You might want to increase the number of iterations, check the scale of the features or consider increasing regularisation. Duality gap: 1.651e+09, tolerance: 3.889e+06\n",
      "  model = cd_fast.enet_coordinate_descent(\n",
      "C:\\Users\\hyoan\\anaconda3\\lib\\site-packages\\sklearn\\linear_model\\_coordinate_descent.py:647: ConvergenceWarning: Objective did not converge. You might want to increase the number of iterations, check the scale of the features or consider increasing regularisation. Duality gap: 1.132e+09, tolerance: 3.656e+06\n",
      "  model = cd_fast.enet_coordinate_descent(\n",
      "C:\\Users\\hyoan\\anaconda3\\lib\\site-packages\\sklearn\\linear_model\\_coordinate_descent.py:647: ConvergenceWarning: Objective did not converge. You might want to increase the number of iterations, check the scale of the features or consider increasing regularisation. Duality gap: 1.369e+09, tolerance: 3.510e+06\n",
      "  model = cd_fast.enet_coordinate_descent(\n"
     ]
    },
    {
     "name": "stdout",
     "output_type": "stream",
     "text": [
      "4\n"
     ]
    },
    {
     "name": "stderr",
     "output_type": "stream",
     "text": [
      "C:\\Users\\hyoan\\anaconda3\\lib\\site-packages\\sklearn\\linear_model\\_coordinate_descent.py:647: ConvergenceWarning: Objective did not converge. You might want to increase the number of iterations, check the scale of the features or consider increasing regularisation. Duality gap: 1.544e+09, tolerance: 3.994e+06\n",
      "  model = cd_fast.enet_coordinate_descent(\n",
      "C:\\Users\\hyoan\\anaconda3\\lib\\site-packages\\sklearn\\linear_model\\_coordinate_descent.py:647: ConvergenceWarning: Objective did not converge. You might want to increase the number of iterations, check the scale of the features or consider increasing regularisation. Duality gap: 1.367e+09, tolerance: 3.667e+06\n",
      "  model = cd_fast.enet_coordinate_descent(\n",
      "C:\\Users\\hyoan\\anaconda3\\lib\\site-packages\\sklearn\\linear_model\\_coordinate_descent.py:647: ConvergenceWarning: Objective did not converge. You might want to increase the number of iterations, check the scale of the features or consider increasing regularisation. Duality gap: 1.436e+09, tolerance: 3.889e+06\n",
      "  model = cd_fast.enet_coordinate_descent(\n",
      "C:\\Users\\hyoan\\anaconda3\\lib\\site-packages\\sklearn\\linear_model\\_coordinate_descent.py:647: ConvergenceWarning: Objective did not converge. You might want to increase the number of iterations, check the scale of the features or consider increasing regularisation. Duality gap: 1.228e+09, tolerance: 3.656e+06\n",
      "  model = cd_fast.enet_coordinate_descent(\n",
      "C:\\Users\\hyoan\\anaconda3\\lib\\site-packages\\sklearn\\linear_model\\_coordinate_descent.py:647: ConvergenceWarning: Objective did not converge. You might want to increase the number of iterations, check the scale of the features or consider increasing regularisation. Duality gap: 1.353e+09, tolerance: 3.510e+06\n",
      "  model = cd_fast.enet_coordinate_descent(\n"
     ]
    },
    {
     "name": "stdout",
     "output_type": "stream",
     "text": [
      "2.6826957952797246\n",
      "1\n",
      "2\n"
     ]
    },
    {
     "name": "stderr",
     "output_type": "stream",
     "text": [
      "C:\\Users\\hyoan\\anaconda3\\lib\\site-packages\\sklearn\\linear_model\\_coordinate_descent.py:647: ConvergenceWarning: Objective did not converge. You might want to increase the number of iterations, check the scale of the features or consider increasing regularisation. Duality gap: 2.665e+07, tolerance: 3.510e+06\n",
      "  model = cd_fast.enet_coordinate_descent(\n"
     ]
    },
    {
     "name": "stdout",
     "output_type": "stream",
     "text": [
      "3\n"
     ]
    },
    {
     "name": "stderr",
     "output_type": "stream",
     "text": [
      "C:\\Users\\hyoan\\anaconda3\\lib\\site-packages\\sklearn\\linear_model\\_coordinate_descent.py:647: ConvergenceWarning: Objective did not converge. You might want to increase the number of iterations, check the scale of the features or consider increasing regularisation. Duality gap: 1.633e+09, tolerance: 3.994e+06\n",
      "  model = cd_fast.enet_coordinate_descent(\n",
      "C:\\Users\\hyoan\\anaconda3\\lib\\site-packages\\sklearn\\linear_model\\_coordinate_descent.py:647: ConvergenceWarning: Objective did not converge. You might want to increase the number of iterations, check the scale of the features or consider increasing regularisation. Duality gap: 1.555e+09, tolerance: 3.667e+06\n",
      "  model = cd_fast.enet_coordinate_descent(\n",
      "C:\\Users\\hyoan\\anaconda3\\lib\\site-packages\\sklearn\\linear_model\\_coordinate_descent.py:647: ConvergenceWarning: Objective did not converge. You might want to increase the number of iterations, check the scale of the features or consider increasing regularisation. Duality gap: 1.638e+09, tolerance: 3.889e+06\n",
      "  model = cd_fast.enet_coordinate_descent(\n",
      "C:\\Users\\hyoan\\anaconda3\\lib\\site-packages\\sklearn\\linear_model\\_coordinate_descent.py:647: ConvergenceWarning: Objective did not converge. You might want to increase the number of iterations, check the scale of the features or consider increasing regularisation. Duality gap: 9.254e+08, tolerance: 3.656e+06\n",
      "  model = cd_fast.enet_coordinate_descent(\n",
      "C:\\Users\\hyoan\\anaconda3\\lib\\site-packages\\sklearn\\linear_model\\_coordinate_descent.py:647: ConvergenceWarning: Objective did not converge. You might want to increase the number of iterations, check the scale of the features or consider increasing regularisation. Duality gap: 9.845e+08, tolerance: 3.510e+06\n",
      "  model = cd_fast.enet_coordinate_descent(\n"
     ]
    },
    {
     "name": "stdout",
     "output_type": "stream",
     "text": [
      "4\n"
     ]
    },
    {
     "name": "stderr",
     "output_type": "stream",
     "text": [
      "C:\\Users\\hyoan\\anaconda3\\lib\\site-packages\\sklearn\\linear_model\\_coordinate_descent.py:647: ConvergenceWarning: Objective did not converge. You might want to increase the number of iterations, check the scale of the features or consider increasing regularisation. Duality gap: 1.599e+09, tolerance: 3.994e+06\n",
      "  model = cd_fast.enet_coordinate_descent(\n",
      "C:\\Users\\hyoan\\anaconda3\\lib\\site-packages\\sklearn\\linear_model\\_coordinate_descent.py:647: ConvergenceWarning: Objective did not converge. You might want to increase the number of iterations, check the scale of the features or consider increasing regularisation. Duality gap: 1.339e+09, tolerance: 3.667e+06\n",
      "  model = cd_fast.enet_coordinate_descent(\n",
      "C:\\Users\\hyoan\\anaconda3\\lib\\site-packages\\sklearn\\linear_model\\_coordinate_descent.py:647: ConvergenceWarning: Objective did not converge. You might want to increase the number of iterations, check the scale of the features or consider increasing regularisation. Duality gap: 1.435e+09, tolerance: 3.889e+06\n",
      "  model = cd_fast.enet_coordinate_descent(\n",
      "C:\\Users\\hyoan\\anaconda3\\lib\\site-packages\\sklearn\\linear_model\\_coordinate_descent.py:647: ConvergenceWarning: Objective did not converge. You might want to increase the number of iterations, check the scale of the features or consider increasing regularisation. Duality gap: 1.181e+09, tolerance: 3.656e+06\n",
      "  model = cd_fast.enet_coordinate_descent(\n",
      "C:\\Users\\hyoan\\anaconda3\\lib\\site-packages\\sklearn\\linear_model\\_coordinate_descent.py:647: ConvergenceWarning: Objective did not converge. You might want to increase the number of iterations, check the scale of the features or consider increasing regularisation. Duality gap: 1.268e+09, tolerance: 3.510e+06\n",
      "  model = cd_fast.enet_coordinate_descent(\n"
     ]
    },
    {
     "name": "stdout",
     "output_type": "stream",
     "text": [
      "2.9470517025518097\n",
      "1\n",
      "2\n",
      "3\n"
     ]
    },
    {
     "name": "stderr",
     "output_type": "stream",
     "text": [
      "C:\\Users\\hyoan\\anaconda3\\lib\\site-packages\\sklearn\\linear_model\\_coordinate_descent.py:647: ConvergenceWarning: Objective did not converge. You might want to increase the number of iterations, check the scale of the features or consider increasing regularisation. Duality gap: 1.357e+09, tolerance: 3.994e+06\n",
      "  model = cd_fast.enet_coordinate_descent(\n",
      "C:\\Users\\hyoan\\anaconda3\\lib\\site-packages\\sklearn\\linear_model\\_coordinate_descent.py:647: ConvergenceWarning: Objective did not converge. You might want to increase the number of iterations, check the scale of the features or consider increasing regularisation. Duality gap: 1.484e+09, tolerance: 3.667e+06\n",
      "  model = cd_fast.enet_coordinate_descent(\n",
      "C:\\Users\\hyoan\\anaconda3\\lib\\site-packages\\sklearn\\linear_model\\_coordinate_descent.py:647: ConvergenceWarning: Objective did not converge. You might want to increase the number of iterations, check the scale of the features or consider increasing regularisation. Duality gap: 1.662e+09, tolerance: 3.889e+06\n",
      "  model = cd_fast.enet_coordinate_descent(\n",
      "C:\\Users\\hyoan\\anaconda3\\lib\\site-packages\\sklearn\\linear_model\\_coordinate_descent.py:647: ConvergenceWarning: Objective did not converge. You might want to increase the number of iterations, check the scale of the features or consider increasing regularisation. Duality gap: 7.965e+08, tolerance: 3.656e+06\n",
      "  model = cd_fast.enet_coordinate_descent(\n",
      "C:\\Users\\hyoan\\anaconda3\\lib\\site-packages\\sklearn\\linear_model\\_coordinate_descent.py:647: ConvergenceWarning: Objective did not converge. You might want to increase the number of iterations, check the scale of the features or consider increasing regularisation. Duality gap: 1.149e+09, tolerance: 3.510e+06\n",
      "  model = cd_fast.enet_coordinate_descent(\n"
     ]
    },
    {
     "name": "stdout",
     "output_type": "stream",
     "text": [
      "4\n"
     ]
    },
    {
     "name": "stderr",
     "output_type": "stream",
     "text": [
      "C:\\Users\\hyoan\\anaconda3\\lib\\site-packages\\sklearn\\linear_model\\_coordinate_descent.py:647: ConvergenceWarning: Objective did not converge. You might want to increase the number of iterations, check the scale of the features or consider increasing regularisation. Duality gap: 1.459e+09, tolerance: 3.994e+06\n",
      "  model = cd_fast.enet_coordinate_descent(\n",
      "C:\\Users\\hyoan\\anaconda3\\lib\\site-packages\\sklearn\\linear_model\\_coordinate_descent.py:647: ConvergenceWarning: Objective did not converge. You might want to increase the number of iterations, check the scale of the features or consider increasing regularisation. Duality gap: 1.251e+09, tolerance: 3.667e+06\n",
      "  model = cd_fast.enet_coordinate_descent(\n",
      "C:\\Users\\hyoan\\anaconda3\\lib\\site-packages\\sklearn\\linear_model\\_coordinate_descent.py:647: ConvergenceWarning: Objective did not converge. You might want to increase the number of iterations, check the scale of the features or consider increasing regularisation. Duality gap: 1.523e+09, tolerance: 3.889e+06\n",
      "  model = cd_fast.enet_coordinate_descent(\n",
      "C:\\Users\\hyoan\\anaconda3\\lib\\site-packages\\sklearn\\linear_model\\_coordinate_descent.py:647: ConvergenceWarning: Objective did not converge. You might want to increase the number of iterations, check the scale of the features or consider increasing regularisation. Duality gap: 1.172e+09, tolerance: 3.656e+06\n",
      "  model = cd_fast.enet_coordinate_descent(\n",
      "C:\\Users\\hyoan\\anaconda3\\lib\\site-packages\\sklearn\\linear_model\\_coordinate_descent.py:647: ConvergenceWarning: Objective did not converge. You might want to increase the number of iterations, check the scale of the features or consider increasing regularisation. Duality gap: 1.242e+09, tolerance: 3.510e+06\n",
      "  model = cd_fast.enet_coordinate_descent(\n"
     ]
    },
    {
     "name": "stdout",
     "output_type": "stream",
     "text": [
      "3.2374575428176433\n",
      "1\n",
      "2\n",
      "3\n"
     ]
    },
    {
     "name": "stderr",
     "output_type": "stream",
     "text": [
      "C:\\Users\\hyoan\\anaconda3\\lib\\site-packages\\sklearn\\linear_model\\_coordinate_descent.py:647: ConvergenceWarning: Objective did not converge. You might want to increase the number of iterations, check the scale of the features or consider increasing regularisation. Duality gap: 1.215e+09, tolerance: 3.994e+06\n",
      "  model = cd_fast.enet_coordinate_descent(\n",
      "C:\\Users\\hyoan\\anaconda3\\lib\\site-packages\\sklearn\\linear_model\\_coordinate_descent.py:647: ConvergenceWarning: Objective did not converge. You might want to increase the number of iterations, check the scale of the features or consider increasing regularisation. Duality gap: 1.208e+09, tolerance: 3.667e+06\n",
      "  model = cd_fast.enet_coordinate_descent(\n",
      "C:\\Users\\hyoan\\anaconda3\\lib\\site-packages\\sklearn\\linear_model\\_coordinate_descent.py:647: ConvergenceWarning: Objective did not converge. You might want to increase the number of iterations, check the scale of the features or consider increasing regularisation. Duality gap: 1.263e+09, tolerance: 3.889e+06\n",
      "  model = cd_fast.enet_coordinate_descent(\n",
      "C:\\Users\\hyoan\\anaconda3\\lib\\site-packages\\sklearn\\linear_model\\_coordinate_descent.py:647: ConvergenceWarning: Objective did not converge. You might want to increase the number of iterations, check the scale of the features or consider increasing regularisation. Duality gap: 6.769e+08, tolerance: 3.656e+06\n",
      "  model = cd_fast.enet_coordinate_descent(\n",
      "C:\\Users\\hyoan\\anaconda3\\lib\\site-packages\\sklearn\\linear_model\\_coordinate_descent.py:647: ConvergenceWarning: Objective did not converge. You might want to increase the number of iterations, check the scale of the features or consider increasing regularisation. Duality gap: 1.194e+09, tolerance: 3.510e+06\n",
      "  model = cd_fast.enet_coordinate_descent(\n"
     ]
    },
    {
     "name": "stdout",
     "output_type": "stream",
     "text": [
      "4\n"
     ]
    },
    {
     "name": "stderr",
     "output_type": "stream",
     "text": [
      "C:\\Users\\hyoan\\anaconda3\\lib\\site-packages\\sklearn\\linear_model\\_coordinate_descent.py:647: ConvergenceWarning: Objective did not converge. You might want to increase the number of iterations, check the scale of the features or consider increasing regularisation. Duality gap: 1.413e+09, tolerance: 3.994e+06\n",
      "  model = cd_fast.enet_coordinate_descent(\n",
      "C:\\Users\\hyoan\\anaconda3\\lib\\site-packages\\sklearn\\linear_model\\_coordinate_descent.py:647: ConvergenceWarning: Objective did not converge. You might want to increase the number of iterations, check the scale of the features or consider increasing regularisation. Duality gap: 1.292e+09, tolerance: 3.667e+06\n",
      "  model = cd_fast.enet_coordinate_descent(\n",
      "C:\\Users\\hyoan\\anaconda3\\lib\\site-packages\\sklearn\\linear_model\\_coordinate_descent.py:647: ConvergenceWarning: Objective did not converge. You might want to increase the number of iterations, check the scale of the features or consider increasing regularisation. Duality gap: 1.564e+09, tolerance: 3.889e+06\n",
      "  model = cd_fast.enet_coordinate_descent(\n",
      "C:\\Users\\hyoan\\anaconda3\\lib\\site-packages\\sklearn\\linear_model\\_coordinate_descent.py:647: ConvergenceWarning: Objective did not converge. You might want to increase the number of iterations, check the scale of the features or consider increasing regularisation. Duality gap: 1.452e+09, tolerance: 3.656e+06\n",
      "  model = cd_fast.enet_coordinate_descent(\n",
      "C:\\Users\\hyoan\\anaconda3\\lib\\site-packages\\sklearn\\linear_model\\_coordinate_descent.py:647: ConvergenceWarning: Objective did not converge. You might want to increase the number of iterations, check the scale of the features or consider increasing regularisation. Duality gap: 1.246e+09, tolerance: 3.510e+06\n",
      "  model = cd_fast.enet_coordinate_descent(\n"
     ]
    },
    {
     "name": "stdout",
     "output_type": "stream",
     "text": [
      "3.5564803062231287\n",
      "1\n",
      "2\n",
      "3\n"
     ]
    },
    {
     "name": "stderr",
     "output_type": "stream",
     "text": [
      "C:\\Users\\hyoan\\anaconda3\\lib\\site-packages\\sklearn\\linear_model\\_coordinate_descent.py:647: ConvergenceWarning: Objective did not converge. You might want to increase the number of iterations, check the scale of the features or consider increasing regularisation. Duality gap: 1.307e+09, tolerance: 3.994e+06\n",
      "  model = cd_fast.enet_coordinate_descent(\n",
      "C:\\Users\\hyoan\\anaconda3\\lib\\site-packages\\sklearn\\linear_model\\_coordinate_descent.py:647: ConvergenceWarning: Objective did not converge. You might want to increase the number of iterations, check the scale of the features or consider increasing regularisation. Duality gap: 9.451e+08, tolerance: 3.667e+06\n",
      "  model = cd_fast.enet_coordinate_descent(\n",
      "C:\\Users\\hyoan\\anaconda3\\lib\\site-packages\\sklearn\\linear_model\\_coordinate_descent.py:647: ConvergenceWarning: Objective did not converge. You might want to increase the number of iterations, check the scale of the features or consider increasing regularisation. Duality gap: 1.322e+09, tolerance: 3.889e+06\n",
      "  model = cd_fast.enet_coordinate_descent(\n",
      "C:\\Users\\hyoan\\anaconda3\\lib\\site-packages\\sklearn\\linear_model\\_coordinate_descent.py:647: ConvergenceWarning: Objective did not converge. You might want to increase the number of iterations, check the scale of the features or consider increasing regularisation. Duality gap: 4.274e+08, tolerance: 3.656e+06\n",
      "  model = cd_fast.enet_coordinate_descent(\n",
      "C:\\Users\\hyoan\\anaconda3\\lib\\site-packages\\sklearn\\linear_model\\_coordinate_descent.py:647: ConvergenceWarning: Objective did not converge. You might want to increase the number of iterations, check the scale of the features or consider increasing regularisation. Duality gap: 1.199e+09, tolerance: 3.510e+06\n",
      "  model = cd_fast.enet_coordinate_descent(\n"
     ]
    },
    {
     "name": "stdout",
     "output_type": "stream",
     "text": [
      "4\n"
     ]
    },
    {
     "name": "stderr",
     "output_type": "stream",
     "text": [
      "C:\\Users\\hyoan\\anaconda3\\lib\\site-packages\\sklearn\\linear_model\\_coordinate_descent.py:647: ConvergenceWarning: Objective did not converge. You might want to increase the number of iterations, check the scale of the features or consider increasing regularisation. Duality gap: 1.477e+09, tolerance: 3.994e+06\n",
      "  model = cd_fast.enet_coordinate_descent(\n",
      "C:\\Users\\hyoan\\anaconda3\\lib\\site-packages\\sklearn\\linear_model\\_coordinate_descent.py:647: ConvergenceWarning: Objective did not converge. You might want to increase the number of iterations, check the scale of the features or consider increasing regularisation. Duality gap: 1.276e+09, tolerance: 3.667e+06\n",
      "  model = cd_fast.enet_coordinate_descent(\n",
      "C:\\Users\\hyoan\\anaconda3\\lib\\site-packages\\sklearn\\linear_model\\_coordinate_descent.py:647: ConvergenceWarning: Objective did not converge. You might want to increase the number of iterations, check the scale of the features or consider increasing regularisation. Duality gap: 1.278e+09, tolerance: 3.889e+06\n",
      "  model = cd_fast.enet_coordinate_descent(\n",
      "C:\\Users\\hyoan\\anaconda3\\lib\\site-packages\\sklearn\\linear_model\\_coordinate_descent.py:647: ConvergenceWarning: Objective did not converge. You might want to increase the number of iterations, check the scale of the features or consider increasing regularisation. Duality gap: 1.451e+09, tolerance: 3.656e+06\n",
      "  model = cd_fast.enet_coordinate_descent(\n",
      "C:\\Users\\hyoan\\anaconda3\\lib\\site-packages\\sklearn\\linear_model\\_coordinate_descent.py:647: ConvergenceWarning: Objective did not converge. You might want to increase the number of iterations, check the scale of the features or consider increasing regularisation. Duality gap: 1.205e+09, tolerance: 3.510e+06\n",
      "  model = cd_fast.enet_coordinate_descent(\n"
     ]
    },
    {
     "name": "stdout",
     "output_type": "stream",
     "text": [
      "3.9069399370546147\n",
      "1\n",
      "2\n",
      "3\n"
     ]
    },
    {
     "name": "stderr",
     "output_type": "stream",
     "text": [
      "C:\\Users\\hyoan\\anaconda3\\lib\\site-packages\\sklearn\\linear_model\\_coordinate_descent.py:647: ConvergenceWarning: Objective did not converge. You might want to increase the number of iterations, check the scale of the features or consider increasing regularisation. Duality gap: 1.129e+09, tolerance: 3.994e+06\n",
      "  model = cd_fast.enet_coordinate_descent(\n",
      "C:\\Users\\hyoan\\anaconda3\\lib\\site-packages\\sklearn\\linear_model\\_coordinate_descent.py:647: ConvergenceWarning: Objective did not converge. You might want to increase the number of iterations, check the scale of the features or consider increasing regularisation. Duality gap: 9.956e+08, tolerance: 3.667e+06\n",
      "  model = cd_fast.enet_coordinate_descent(\n",
      "C:\\Users\\hyoan\\anaconda3\\lib\\site-packages\\sklearn\\linear_model\\_coordinate_descent.py:647: ConvergenceWarning: Objective did not converge. You might want to increase the number of iterations, check the scale of the features or consider increasing regularisation. Duality gap: 1.295e+09, tolerance: 3.889e+06\n",
      "  model = cd_fast.enet_coordinate_descent(\n",
      "C:\\Users\\hyoan\\anaconda3\\lib\\site-packages\\sklearn\\linear_model\\_coordinate_descent.py:647: ConvergenceWarning: Objective did not converge. You might want to increase the number of iterations, check the scale of the features or consider increasing regularisation. Duality gap: 1.543e+08, tolerance: 3.656e+06\n",
      "  model = cd_fast.enet_coordinate_descent(\n",
      "C:\\Users\\hyoan\\anaconda3\\lib\\site-packages\\sklearn\\linear_model\\_coordinate_descent.py:647: ConvergenceWarning: Objective did not converge. You might want to increase the number of iterations, check the scale of the features or consider increasing regularisation. Duality gap: 1.203e+09, tolerance: 3.510e+06\n",
      "  model = cd_fast.enet_coordinate_descent(\n"
     ]
    },
    {
     "name": "stdout",
     "output_type": "stream",
     "text": [
      "4\n"
     ]
    },
    {
     "name": "stderr",
     "output_type": "stream",
     "text": [
      "C:\\Users\\hyoan\\anaconda3\\lib\\site-packages\\sklearn\\linear_model\\_coordinate_descent.py:647: ConvergenceWarning: Objective did not converge. You might want to increase the number of iterations, check the scale of the features or consider increasing regularisation. Duality gap: 1.242e+09, tolerance: 3.994e+06\n",
      "  model = cd_fast.enet_coordinate_descent(\n",
      "C:\\Users\\hyoan\\anaconda3\\lib\\site-packages\\sklearn\\linear_model\\_coordinate_descent.py:647: ConvergenceWarning: Objective did not converge. You might want to increase the number of iterations, check the scale of the features or consider increasing regularisation. Duality gap: 1.192e+09, tolerance: 3.667e+06\n",
      "  model = cd_fast.enet_coordinate_descent(\n",
      "C:\\Users\\hyoan\\anaconda3\\lib\\site-packages\\sklearn\\linear_model\\_coordinate_descent.py:647: ConvergenceWarning: Objective did not converge. You might want to increase the number of iterations, check the scale of the features or consider increasing regularisation. Duality gap: 1.493e+09, tolerance: 3.889e+06\n",
      "  model = cd_fast.enet_coordinate_descent(\n",
      "C:\\Users\\hyoan\\anaconda3\\lib\\site-packages\\sklearn\\linear_model\\_coordinate_descent.py:647: ConvergenceWarning: Objective did not converge. You might want to increase the number of iterations, check the scale of the features or consider increasing regularisation. Duality gap: 1.094e+09, tolerance: 3.656e+06\n",
      "  model = cd_fast.enet_coordinate_descent(\n",
      "C:\\Users\\hyoan\\anaconda3\\lib\\site-packages\\sklearn\\linear_model\\_coordinate_descent.py:647: ConvergenceWarning: Objective did not converge. You might want to increase the number of iterations, check the scale of the features or consider increasing regularisation. Duality gap: 1.092e+09, tolerance: 3.510e+06\n",
      "  model = cd_fast.enet_coordinate_descent(\n"
     ]
    },
    {
     "name": "stdout",
     "output_type": "stream",
     "text": [
      "4.291934260128776\n",
      "1\n",
      "2\n",
      "3\n"
     ]
    },
    {
     "name": "stderr",
     "output_type": "stream",
     "text": [
      "C:\\Users\\hyoan\\anaconda3\\lib\\site-packages\\sklearn\\linear_model\\_coordinate_descent.py:647: ConvergenceWarning: Objective did not converge. You might want to increase the number of iterations, check the scale of the features or consider increasing regularisation. Duality gap: 9.196e+08, tolerance: 3.994e+06\n",
      "  model = cd_fast.enet_coordinate_descent(\n",
      "C:\\Users\\hyoan\\anaconda3\\lib\\site-packages\\sklearn\\linear_model\\_coordinate_descent.py:647: ConvergenceWarning: Objective did not converge. You might want to increase the number of iterations, check the scale of the features or consider increasing regularisation. Duality gap: 9.231e+08, tolerance: 3.667e+06\n",
      "  model = cd_fast.enet_coordinate_descent(\n",
      "C:\\Users\\hyoan\\anaconda3\\lib\\site-packages\\sklearn\\linear_model\\_coordinate_descent.py:647: ConvergenceWarning: Objective did not converge. You might want to increase the number of iterations, check the scale of the features or consider increasing regularisation. Duality gap: 1.301e+09, tolerance: 3.889e+06\n",
      "  model = cd_fast.enet_coordinate_descent(\n",
      "C:\\Users\\hyoan\\anaconda3\\lib\\site-packages\\sklearn\\linear_model\\_coordinate_descent.py:647: ConvergenceWarning: Objective did not converge. You might want to increase the number of iterations, check the scale of the features or consider increasing regularisation. Duality gap: 1.279e+08, tolerance: 3.656e+06\n",
      "  model = cd_fast.enet_coordinate_descent(\n",
      "C:\\Users\\hyoan\\anaconda3\\lib\\site-packages\\sklearn\\linear_model\\_coordinate_descent.py:647: ConvergenceWarning: Objective did not converge. You might want to increase the number of iterations, check the scale of the features or consider increasing regularisation. Duality gap: 1.053e+09, tolerance: 3.510e+06\n",
      "  model = cd_fast.enet_coordinate_descent(\n"
     ]
    },
    {
     "name": "stdout",
     "output_type": "stream",
     "text": [
      "4\n"
     ]
    },
    {
     "name": "stderr",
     "output_type": "stream",
     "text": [
      "C:\\Users\\hyoan\\anaconda3\\lib\\site-packages\\sklearn\\linear_model\\_coordinate_descent.py:647: ConvergenceWarning: Objective did not converge. You might want to increase the number of iterations, check the scale of the features or consider increasing regularisation. Duality gap: 1.314e+09, tolerance: 3.994e+06\n",
      "  model = cd_fast.enet_coordinate_descent(\n",
      "C:\\Users\\hyoan\\anaconda3\\lib\\site-packages\\sklearn\\linear_model\\_coordinate_descent.py:647: ConvergenceWarning: Objective did not converge. You might want to increase the number of iterations, check the scale of the features or consider increasing regularisation. Duality gap: 1.176e+09, tolerance: 3.667e+06\n",
      "  model = cd_fast.enet_coordinate_descent(\n",
      "C:\\Users\\hyoan\\anaconda3\\lib\\site-packages\\sklearn\\linear_model\\_coordinate_descent.py:647: ConvergenceWarning: Objective did not converge. You might want to increase the number of iterations, check the scale of the features or consider increasing regularisation. Duality gap: 1.502e+09, tolerance: 3.889e+06\n",
      "  model = cd_fast.enet_coordinate_descent(\n",
      "C:\\Users\\hyoan\\anaconda3\\lib\\site-packages\\sklearn\\linear_model\\_coordinate_descent.py:647: ConvergenceWarning: Objective did not converge. You might want to increase the number of iterations, check the scale of the features or consider increasing regularisation. Duality gap: 1.138e+09, tolerance: 3.656e+06\n",
      "  model = cd_fast.enet_coordinate_descent(\n",
      "C:\\Users\\hyoan\\anaconda3\\lib\\site-packages\\sklearn\\linear_model\\_coordinate_descent.py:647: ConvergenceWarning: Objective did not converge. You might want to increase the number of iterations, check the scale of the features or consider increasing regularisation. Duality gap: 1.100e+09, tolerance: 3.510e+06\n",
      "  model = cd_fast.enet_coordinate_descent(\n"
     ]
    },
    {
     "name": "stdout",
     "output_type": "stream",
     "text": [
      "4.714866363457392\n",
      "1\n",
      "2\n",
      "3\n"
     ]
    },
    {
     "name": "stderr",
     "output_type": "stream",
     "text": [
      "C:\\Users\\hyoan\\anaconda3\\lib\\site-packages\\sklearn\\linear_model\\_coordinate_descent.py:647: ConvergenceWarning: Objective did not converge. You might want to increase the number of iterations, check the scale of the features or consider increasing regularisation. Duality gap: 8.811e+08, tolerance: 3.994e+06\n",
      "  model = cd_fast.enet_coordinate_descent(\n",
      "C:\\Users\\hyoan\\anaconda3\\lib\\site-packages\\sklearn\\linear_model\\_coordinate_descent.py:647: ConvergenceWarning: Objective did not converge. You might want to increase the number of iterations, check the scale of the features or consider increasing regularisation. Duality gap: 8.393e+08, tolerance: 3.667e+06\n",
      "  model = cd_fast.enet_coordinate_descent(\n",
      "C:\\Users\\hyoan\\anaconda3\\lib\\site-packages\\sklearn\\linear_model\\_coordinate_descent.py:647: ConvergenceWarning: Objective did not converge. You might want to increase the number of iterations, check the scale of the features or consider increasing regularisation. Duality gap: 1.275e+09, tolerance: 3.889e+06\n",
      "  model = cd_fast.enet_coordinate_descent(\n",
      "C:\\Users\\hyoan\\anaconda3\\lib\\site-packages\\sklearn\\linear_model\\_coordinate_descent.py:647: ConvergenceWarning: Objective did not converge. You might want to increase the number of iterations, check the scale of the features or consider increasing regularisation. Duality gap: 1.653e+08, tolerance: 3.656e+06\n",
      "  model = cd_fast.enet_coordinate_descent(\n",
      "C:\\Users\\hyoan\\anaconda3\\lib\\site-packages\\sklearn\\linear_model\\_coordinate_descent.py:647: ConvergenceWarning: Objective did not converge. You might want to increase the number of iterations, check the scale of the features or consider increasing regularisation. Duality gap: 9.550e+08, tolerance: 3.510e+06\n",
      "  model = cd_fast.enet_coordinate_descent(\n"
     ]
    },
    {
     "name": "stdout",
     "output_type": "stream",
     "text": [
      "4\n"
     ]
    },
    {
     "name": "stderr",
     "output_type": "stream",
     "text": [
      "C:\\Users\\hyoan\\anaconda3\\lib\\site-packages\\sklearn\\linear_model\\_coordinate_descent.py:647: ConvergenceWarning: Objective did not converge. You might want to increase the number of iterations, check the scale of the features or consider increasing regularisation. Duality gap: 1.439e+09, tolerance: 3.994e+06\n",
      "  model = cd_fast.enet_coordinate_descent(\n",
      "C:\\Users\\hyoan\\anaconda3\\lib\\site-packages\\sklearn\\linear_model\\_coordinate_descent.py:647: ConvergenceWarning: Objective did not converge. You might want to increase the number of iterations, check the scale of the features or consider increasing regularisation. Duality gap: 1.136e+09, tolerance: 3.667e+06\n",
      "  model = cd_fast.enet_coordinate_descent(\n",
      "C:\\Users\\hyoan\\anaconda3\\lib\\site-packages\\sklearn\\linear_model\\_coordinate_descent.py:647: ConvergenceWarning: Objective did not converge. You might want to increase the number of iterations, check the scale of the features or consider increasing regularisation. Duality gap: 1.530e+09, tolerance: 3.889e+06\n",
      "  model = cd_fast.enet_coordinate_descent(\n",
      "C:\\Users\\hyoan\\anaconda3\\lib\\site-packages\\sklearn\\linear_model\\_coordinate_descent.py:647: ConvergenceWarning: Objective did not converge. You might want to increase the number of iterations, check the scale of the features or consider increasing regularisation. Duality gap: 1.191e+09, tolerance: 3.656e+06\n",
      "  model = cd_fast.enet_coordinate_descent(\n",
      "C:\\Users\\hyoan\\anaconda3\\lib\\site-packages\\sklearn\\linear_model\\_coordinate_descent.py:647: ConvergenceWarning: Objective did not converge. You might want to increase the number of iterations, check the scale of the features or consider increasing regularisation. Duality gap: 1.141e+09, tolerance: 3.510e+06\n",
      "  model = cd_fast.enet_coordinate_descent(\n"
     ]
    },
    {
     "name": "stdout",
     "output_type": "stream",
     "text": [
      "5.17947467923121\n",
      "1\n",
      "2\n",
      "3\n"
     ]
    },
    {
     "name": "stderr",
     "output_type": "stream",
     "text": [
      "C:\\Users\\hyoan\\anaconda3\\lib\\site-packages\\sklearn\\linear_model\\_coordinate_descent.py:647: ConvergenceWarning: Objective did not converge. You might want to increase the number of iterations, check the scale of the features or consider increasing regularisation. Duality gap: 8.340e+08, tolerance: 3.994e+06\n",
      "  model = cd_fast.enet_coordinate_descent(\n",
      "C:\\Users\\hyoan\\anaconda3\\lib\\site-packages\\sklearn\\linear_model\\_coordinate_descent.py:647: ConvergenceWarning: Objective did not converge. You might want to increase the number of iterations, check the scale of the features or consider increasing regularisation. Duality gap: 7.842e+08, tolerance: 3.667e+06\n",
      "  model = cd_fast.enet_coordinate_descent(\n",
      "C:\\Users\\hyoan\\anaconda3\\lib\\site-packages\\sklearn\\linear_model\\_coordinate_descent.py:647: ConvergenceWarning: Objective did not converge. You might want to increase the number of iterations, check the scale of the features or consider increasing regularisation. Duality gap: 1.145e+09, tolerance: 3.889e+06\n",
      "  model = cd_fast.enet_coordinate_descent(\n",
      "C:\\Users\\hyoan\\anaconda3\\lib\\site-packages\\sklearn\\linear_model\\_coordinate_descent.py:647: ConvergenceWarning: Objective did not converge. You might want to increase the number of iterations, check the scale of the features or consider increasing regularisation. Duality gap: 2.285e+08, tolerance: 3.656e+06\n",
      "  model = cd_fast.enet_coordinate_descent(\n",
      "C:\\Users\\hyoan\\anaconda3\\lib\\site-packages\\sklearn\\linear_model\\_coordinate_descent.py:647: ConvergenceWarning: Objective did not converge. You might want to increase the number of iterations, check the scale of the features or consider increasing regularisation. Duality gap: 9.035e+08, tolerance: 3.510e+06\n",
      "  model = cd_fast.enet_coordinate_descent(\n"
     ]
    },
    {
     "name": "stdout",
     "output_type": "stream",
     "text": [
      "4\n"
     ]
    },
    {
     "name": "stderr",
     "output_type": "stream",
     "text": [
      "C:\\Users\\hyoan\\anaconda3\\lib\\site-packages\\sklearn\\linear_model\\_coordinate_descent.py:647: ConvergenceWarning: Objective did not converge. You might want to increase the number of iterations, check the scale of the features or consider increasing regularisation. Duality gap: 1.365e+09, tolerance: 3.994e+06\n",
      "  model = cd_fast.enet_coordinate_descent(\n",
      "C:\\Users\\hyoan\\anaconda3\\lib\\site-packages\\sklearn\\linear_model\\_coordinate_descent.py:647: ConvergenceWarning: Objective did not converge. You might want to increase the number of iterations, check the scale of the features or consider increasing regularisation. Duality gap: 1.198e+09, tolerance: 3.667e+06\n",
      "  model = cd_fast.enet_coordinate_descent(\n",
      "C:\\Users\\hyoan\\anaconda3\\lib\\site-packages\\sklearn\\linear_model\\_coordinate_descent.py:647: ConvergenceWarning: Objective did not converge. You might want to increase the number of iterations, check the scale of the features or consider increasing regularisation. Duality gap: 1.361e+09, tolerance: 3.889e+06\n",
      "  model = cd_fast.enet_coordinate_descent(\n",
      "C:\\Users\\hyoan\\anaconda3\\lib\\site-packages\\sklearn\\linear_model\\_coordinate_descent.py:647: ConvergenceWarning: Objective did not converge. You might want to increase the number of iterations, check the scale of the features or consider increasing regularisation. Duality gap: 1.205e+09, tolerance: 3.656e+06\n",
      "  model = cd_fast.enet_coordinate_descent(\n",
      "C:\\Users\\hyoan\\anaconda3\\lib\\site-packages\\sklearn\\linear_model\\_coordinate_descent.py:647: ConvergenceWarning: Objective did not converge. You might want to increase the number of iterations, check the scale of the features or consider increasing regularisation. Duality gap: 1.212e+09, tolerance: 3.510e+06\n",
      "  model = cd_fast.enet_coordinate_descent(\n"
     ]
    },
    {
     "name": "stdout",
     "output_type": "stream",
     "text": [
      "5.689866029018296\n",
      "1\n",
      "2\n",
      "3\n"
     ]
    },
    {
     "name": "stderr",
     "output_type": "stream",
     "text": [
      "C:\\Users\\hyoan\\anaconda3\\lib\\site-packages\\sklearn\\linear_model\\_coordinate_descent.py:647: ConvergenceWarning: Objective did not converge. You might want to increase the number of iterations, check the scale of the features or consider increasing regularisation. Duality gap: 6.549e+08, tolerance: 3.994e+06\n",
      "  model = cd_fast.enet_coordinate_descent(\n",
      "C:\\Users\\hyoan\\anaconda3\\lib\\site-packages\\sklearn\\linear_model\\_coordinate_descent.py:647: ConvergenceWarning: Objective did not converge. You might want to increase the number of iterations, check the scale of the features or consider increasing regularisation. Duality gap: 3.886e+08, tolerance: 3.667e+06\n",
      "  model = cd_fast.enet_coordinate_descent(\n",
      "C:\\Users\\hyoan\\anaconda3\\lib\\site-packages\\sklearn\\linear_model\\_coordinate_descent.py:647: ConvergenceWarning: Objective did not converge. You might want to increase the number of iterations, check the scale of the features or consider increasing regularisation. Duality gap: 1.056e+09, tolerance: 3.889e+06\n",
      "  model = cd_fast.enet_coordinate_descent(\n",
      "C:\\Users\\hyoan\\anaconda3\\lib\\site-packages\\sklearn\\linear_model\\_coordinate_descent.py:647: ConvergenceWarning: Objective did not converge. You might want to increase the number of iterations, check the scale of the features or consider increasing regularisation. Duality gap: 2.277e+08, tolerance: 3.656e+06\n",
      "  model = cd_fast.enet_coordinate_descent(\n",
      "C:\\Users\\hyoan\\anaconda3\\lib\\site-packages\\sklearn\\linear_model\\_coordinate_descent.py:647: ConvergenceWarning: Objective did not converge. You might want to increase the number of iterations, check the scale of the features or consider increasing regularisation. Duality gap: 8.491e+08, tolerance: 3.510e+06\n",
      "  model = cd_fast.enet_coordinate_descent(\n"
     ]
    },
    {
     "name": "stdout",
     "output_type": "stream",
     "text": [
      "4\n"
     ]
    },
    {
     "name": "stderr",
     "output_type": "stream",
     "text": [
      "C:\\Users\\hyoan\\anaconda3\\lib\\site-packages\\sklearn\\linear_model\\_coordinate_descent.py:647: ConvergenceWarning: Objective did not converge. You might want to increase the number of iterations, check the scale of the features or consider increasing regularisation. Duality gap: 1.341e+09, tolerance: 3.994e+06\n",
      "  model = cd_fast.enet_coordinate_descent(\n",
      "C:\\Users\\hyoan\\anaconda3\\lib\\site-packages\\sklearn\\linear_model\\_coordinate_descent.py:647: ConvergenceWarning: Objective did not converge. You might want to increase the number of iterations, check the scale of the features or consider increasing regularisation. Duality gap: 1.205e+09, tolerance: 3.667e+06\n",
      "  model = cd_fast.enet_coordinate_descent(\n",
      "C:\\Users\\hyoan\\anaconda3\\lib\\site-packages\\sklearn\\linear_model\\_coordinate_descent.py:647: ConvergenceWarning: Objective did not converge. You might want to increase the number of iterations, check the scale of the features or consider increasing regularisation. Duality gap: 1.316e+09, tolerance: 3.889e+06\n",
      "  model = cd_fast.enet_coordinate_descent(\n",
      "C:\\Users\\hyoan\\anaconda3\\lib\\site-packages\\sklearn\\linear_model\\_coordinate_descent.py:647: ConvergenceWarning: Objective did not converge. You might want to increase the number of iterations, check the scale of the features or consider increasing regularisation. Duality gap: 1.245e+09, tolerance: 3.656e+06\n",
      "  model = cd_fast.enet_coordinate_descent(\n",
      "C:\\Users\\hyoan\\anaconda3\\lib\\site-packages\\sklearn\\linear_model\\_coordinate_descent.py:647: ConvergenceWarning: Objective did not converge. You might want to increase the number of iterations, check the scale of the features or consider increasing regularisation. Duality gap: 1.289e+09, tolerance: 3.510e+06\n",
      "  model = cd_fast.enet_coordinate_descent(\n"
     ]
    },
    {
     "name": "stdout",
     "output_type": "stream",
     "text": [
      "6.25055192527397\n",
      "1\n",
      "2\n",
      "3\n"
     ]
    },
    {
     "name": "stderr",
     "output_type": "stream",
     "text": [
      "C:\\Users\\hyoan\\anaconda3\\lib\\site-packages\\sklearn\\linear_model\\_coordinate_descent.py:647: ConvergenceWarning: Objective did not converge. You might want to increase the number of iterations, check the scale of the features or consider increasing regularisation. Duality gap: 4.942e+08, tolerance: 3.994e+06\n",
      "  model = cd_fast.enet_coordinate_descent(\n",
      "C:\\Users\\hyoan\\anaconda3\\lib\\site-packages\\sklearn\\linear_model\\_coordinate_descent.py:647: ConvergenceWarning: Objective did not converge. You might want to increase the number of iterations, check the scale of the features or consider increasing regularisation. Duality gap: 2.102e+08, tolerance: 3.667e+06\n",
      "  model = cd_fast.enet_coordinate_descent(\n",
      "C:\\Users\\hyoan\\anaconda3\\lib\\site-packages\\sklearn\\linear_model\\_coordinate_descent.py:647: ConvergenceWarning: Objective did not converge. You might want to increase the number of iterations, check the scale of the features or consider increasing regularisation. Duality gap: 6.838e+08, tolerance: 3.889e+06\n",
      "  model = cd_fast.enet_coordinate_descent(\n",
      "C:\\Users\\hyoan\\anaconda3\\lib\\site-packages\\sklearn\\linear_model\\_coordinate_descent.py:647: ConvergenceWarning: Objective did not converge. You might want to increase the number of iterations, check the scale of the features or consider increasing regularisation. Duality gap: 2.745e+08, tolerance: 3.656e+06\n",
      "  model = cd_fast.enet_coordinate_descent(\n",
      "C:\\Users\\hyoan\\anaconda3\\lib\\site-packages\\sklearn\\linear_model\\_coordinate_descent.py:647: ConvergenceWarning: Objective did not converge. You might want to increase the number of iterations, check the scale of the features or consider increasing regularisation. Duality gap: 7.768e+08, tolerance: 3.510e+06\n",
      "  model = cd_fast.enet_coordinate_descent(\n"
     ]
    },
    {
     "name": "stdout",
     "output_type": "stream",
     "text": [
      "4\n"
     ]
    },
    {
     "name": "stderr",
     "output_type": "stream",
     "text": [
      "C:\\Users\\hyoan\\anaconda3\\lib\\site-packages\\sklearn\\linear_model\\_coordinate_descent.py:647: ConvergenceWarning: Objective did not converge. You might want to increase the number of iterations, check the scale of the features or consider increasing regularisation. Duality gap: 1.317e+09, tolerance: 3.994e+06\n",
      "  model = cd_fast.enet_coordinate_descent(\n",
      "C:\\Users\\hyoan\\anaconda3\\lib\\site-packages\\sklearn\\linear_model\\_coordinate_descent.py:647: ConvergenceWarning: Objective did not converge. You might want to increase the number of iterations, check the scale of the features or consider increasing regularisation. Duality gap: 1.261e+09, tolerance: 3.667e+06\n",
      "  model = cd_fast.enet_coordinate_descent(\n",
      "C:\\Users\\hyoan\\anaconda3\\lib\\site-packages\\sklearn\\linear_model\\_coordinate_descent.py:647: ConvergenceWarning: Objective did not converge. You might want to increase the number of iterations, check the scale of the features or consider increasing regularisation. Duality gap: 1.328e+09, tolerance: 3.889e+06\n",
      "  model = cd_fast.enet_coordinate_descent(\n",
      "C:\\Users\\hyoan\\anaconda3\\lib\\site-packages\\sklearn\\linear_model\\_coordinate_descent.py:647: ConvergenceWarning: Objective did not converge. You might want to increase the number of iterations, check the scale of the features or consider increasing regularisation. Duality gap: 1.201e+09, tolerance: 3.656e+06\n",
      "  model = cd_fast.enet_coordinate_descent(\n",
      "C:\\Users\\hyoan\\anaconda3\\lib\\site-packages\\sklearn\\linear_model\\_coordinate_descent.py:647: ConvergenceWarning: Objective did not converge. You might want to increase the number of iterations, check the scale of the features or consider increasing regularisation. Duality gap: 1.336e+09, tolerance: 3.510e+06\n",
      "  model = cd_fast.enet_coordinate_descent(\n"
     ]
    },
    {
     "name": "stdout",
     "output_type": "stream",
     "text": [
      "6.866488450042998\n",
      "1\n",
      "2\n",
      "3\n"
     ]
    },
    {
     "name": "stderr",
     "output_type": "stream",
     "text": [
      "C:\\Users\\hyoan\\anaconda3\\lib\\site-packages\\sklearn\\linear_model\\_coordinate_descent.py:647: ConvergenceWarning: Objective did not converge. You might want to increase the number of iterations, check the scale of the features or consider increasing regularisation. Duality gap: 3.270e+08, tolerance: 3.994e+06\n",
      "  model = cd_fast.enet_coordinate_descent(\n",
      "C:\\Users\\hyoan\\anaconda3\\lib\\site-packages\\sklearn\\linear_model\\_coordinate_descent.py:647: ConvergenceWarning: Objective did not converge. You might want to increase the number of iterations, check the scale of the features or consider increasing regularisation. Duality gap: 2.415e+08, tolerance: 3.667e+06\n",
      "  model = cd_fast.enet_coordinate_descent(\n",
      "C:\\Users\\hyoan\\anaconda3\\lib\\site-packages\\sklearn\\linear_model\\_coordinate_descent.py:647: ConvergenceWarning: Objective did not converge. You might want to increase the number of iterations, check the scale of the features or consider increasing regularisation. Duality gap: 4.657e+08, tolerance: 3.889e+06\n",
      "  model = cd_fast.enet_coordinate_descent(\n",
      "C:\\Users\\hyoan\\anaconda3\\lib\\site-packages\\sklearn\\linear_model\\_coordinate_descent.py:647: ConvergenceWarning: Objective did not converge. You might want to increase the number of iterations, check the scale of the features or consider increasing regularisation. Duality gap: 3.277e+08, tolerance: 3.656e+06\n",
      "  model = cd_fast.enet_coordinate_descent(\n",
      "C:\\Users\\hyoan\\anaconda3\\lib\\site-packages\\sklearn\\linear_model\\_coordinate_descent.py:647: ConvergenceWarning: Objective did not converge. You might want to increase the number of iterations, check the scale of the features or consider increasing regularisation. Duality gap: 5.122e+08, tolerance: 3.510e+06\n",
      "  model = cd_fast.enet_coordinate_descent(\n"
     ]
    },
    {
     "name": "stdout",
     "output_type": "stream",
     "text": [
      "4\n"
     ]
    },
    {
     "name": "stderr",
     "output_type": "stream",
     "text": [
      "C:\\Users\\hyoan\\anaconda3\\lib\\site-packages\\sklearn\\linear_model\\_coordinate_descent.py:647: ConvergenceWarning: Objective did not converge. You might want to increase the number of iterations, check the scale of the features or consider increasing regularisation. Duality gap: 1.385e+09, tolerance: 3.994e+06\n",
      "  model = cd_fast.enet_coordinate_descent(\n",
      "C:\\Users\\hyoan\\anaconda3\\lib\\site-packages\\sklearn\\linear_model\\_coordinate_descent.py:647: ConvergenceWarning: Objective did not converge. You might want to increase the number of iterations, check the scale of the features or consider increasing regularisation. Duality gap: 1.182e+09, tolerance: 3.667e+06\n",
      "  model = cd_fast.enet_coordinate_descent(\n",
      "C:\\Users\\hyoan\\anaconda3\\lib\\site-packages\\sklearn\\linear_model\\_coordinate_descent.py:647: ConvergenceWarning: Objective did not converge. You might want to increase the number of iterations, check the scale of the features or consider increasing regularisation. Duality gap: 1.488e+09, tolerance: 3.889e+06\n",
      "  model = cd_fast.enet_coordinate_descent(\n",
      "C:\\Users\\hyoan\\anaconda3\\lib\\site-packages\\sklearn\\linear_model\\_coordinate_descent.py:647: ConvergenceWarning: Objective did not converge. You might want to increase the number of iterations, check the scale of the features or consider increasing regularisation. Duality gap: 1.206e+09, tolerance: 3.656e+06\n",
      "  model = cd_fast.enet_coordinate_descent(\n",
      "C:\\Users\\hyoan\\anaconda3\\lib\\site-packages\\sklearn\\linear_model\\_coordinate_descent.py:647: ConvergenceWarning: Objective did not converge. You might want to increase the number of iterations, check the scale of the features or consider increasing regularisation. Duality gap: 1.211e+09, tolerance: 3.510e+06\n",
      "  model = cd_fast.enet_coordinate_descent(\n"
     ]
    },
    {
     "name": "stdout",
     "output_type": "stream",
     "text": [
      "7.543120063354615\n",
      "1\n",
      "2\n",
      "3\n"
     ]
    },
    {
     "name": "stderr",
     "output_type": "stream",
     "text": [
      "C:\\Users\\hyoan\\anaconda3\\lib\\site-packages\\sklearn\\linear_model\\_coordinate_descent.py:647: ConvergenceWarning: Objective did not converge. You might want to increase the number of iterations, check the scale of the features or consider increasing regularisation. Duality gap: 2.759e+08, tolerance: 3.994e+06\n",
      "  model = cd_fast.enet_coordinate_descent(\n",
      "C:\\Users\\hyoan\\anaconda3\\lib\\site-packages\\sklearn\\linear_model\\_coordinate_descent.py:647: ConvergenceWarning: Objective did not converge. You might want to increase the number of iterations, check the scale of the features or consider increasing regularisation. Duality gap: 1.103e+08, tolerance: 3.667e+06\n",
      "  model = cd_fast.enet_coordinate_descent(\n",
      "C:\\Users\\hyoan\\anaconda3\\lib\\site-packages\\sklearn\\linear_model\\_coordinate_descent.py:647: ConvergenceWarning: Objective did not converge. You might want to increase the number of iterations, check the scale of the features or consider increasing regularisation. Duality gap: 1.992e+08, tolerance: 3.889e+06\n",
      "  model = cd_fast.enet_coordinate_descent(\n",
      "C:\\Users\\hyoan\\anaconda3\\lib\\site-packages\\sklearn\\linear_model\\_coordinate_descent.py:647: ConvergenceWarning: Objective did not converge. You might want to increase the number of iterations, check the scale of the features or consider increasing regularisation. Duality gap: 1.512e+08, tolerance: 3.656e+06\n",
      "  model = cd_fast.enet_coordinate_descent(\n",
      "C:\\Users\\hyoan\\anaconda3\\lib\\site-packages\\sklearn\\linear_model\\_coordinate_descent.py:647: ConvergenceWarning: Objective did not converge. You might want to increase the number of iterations, check the scale of the features or consider increasing regularisation. Duality gap: 4.997e+08, tolerance: 3.510e+06\n",
      "  model = cd_fast.enet_coordinate_descent(\n"
     ]
    },
    {
     "name": "stdout",
     "output_type": "stream",
     "text": [
      "4\n"
     ]
    },
    {
     "name": "stderr",
     "output_type": "stream",
     "text": [
      "C:\\Users\\hyoan\\anaconda3\\lib\\site-packages\\sklearn\\linear_model\\_coordinate_descent.py:647: ConvergenceWarning: Objective did not converge. You might want to increase the number of iterations, check the scale of the features or consider increasing regularisation. Duality gap: 1.428e+09, tolerance: 3.994e+06\n",
      "  model = cd_fast.enet_coordinate_descent(\n",
      "C:\\Users\\hyoan\\anaconda3\\lib\\site-packages\\sklearn\\linear_model\\_coordinate_descent.py:647: ConvergenceWarning: Objective did not converge. You might want to increase the number of iterations, check the scale of the features or consider increasing regularisation. Duality gap: 1.217e+09, tolerance: 3.667e+06\n",
      "  model = cd_fast.enet_coordinate_descent(\n",
      "C:\\Users\\hyoan\\anaconda3\\lib\\site-packages\\sklearn\\linear_model\\_coordinate_descent.py:647: ConvergenceWarning: Objective did not converge. You might want to increase the number of iterations, check the scale of the features or consider increasing regularisation. Duality gap: 1.562e+09, tolerance: 3.889e+06\n",
      "  model = cd_fast.enet_coordinate_descent(\n",
      "C:\\Users\\hyoan\\anaconda3\\lib\\site-packages\\sklearn\\linear_model\\_coordinate_descent.py:647: ConvergenceWarning: Objective did not converge. You might want to increase the number of iterations, check the scale of the features or consider increasing regularisation. Duality gap: 1.204e+09, tolerance: 3.656e+06\n",
      "  model = cd_fast.enet_coordinate_descent(\n",
      "C:\\Users\\hyoan\\anaconda3\\lib\\site-packages\\sklearn\\linear_model\\_coordinate_descent.py:647: ConvergenceWarning: Objective did not converge. You might want to increase the number of iterations, check the scale of the features or consider increasing regularisation. Duality gap: 1.153e+09, tolerance: 3.510e+06\n",
      "  model = cd_fast.enet_coordinate_descent(\n"
     ]
    },
    {
     "name": "stdout",
     "output_type": "stream",
     "text": [
      "8.286427728546842\n",
      "1\n",
      "2\n",
      "3\n"
     ]
    },
    {
     "name": "stderr",
     "output_type": "stream",
     "text": [
      "C:\\Users\\hyoan\\anaconda3\\lib\\site-packages\\sklearn\\linear_model\\_coordinate_descent.py:647: ConvergenceWarning: Objective did not converge. You might want to increase the number of iterations, check the scale of the features or consider increasing regularisation. Duality gap: 1.514e+08, tolerance: 3.994e+06\n",
      "  model = cd_fast.enet_coordinate_descent(\n",
      "C:\\Users\\hyoan\\anaconda3\\lib\\site-packages\\sklearn\\linear_model\\_coordinate_descent.py:647: ConvergenceWarning: Objective did not converge. You might want to increase the number of iterations, check the scale of the features or consider increasing regularisation. Duality gap: 5.358e+07, tolerance: 3.667e+06\n",
      "  model = cd_fast.enet_coordinate_descent(\n",
      "C:\\Users\\hyoan\\anaconda3\\lib\\site-packages\\sklearn\\linear_model\\_coordinate_descent.py:647: ConvergenceWarning: Objective did not converge. You might want to increase the number of iterations, check the scale of the features or consider increasing regularisation. Duality gap: 2.652e+07, tolerance: 3.889e+06\n",
      "  model = cd_fast.enet_coordinate_descent(\n",
      "C:\\Users\\hyoan\\anaconda3\\lib\\site-packages\\sklearn\\linear_model\\_coordinate_descent.py:647: ConvergenceWarning: Objective did not converge. You might want to increase the number of iterations, check the scale of the features or consider increasing regularisation. Duality gap: 5.369e+07, tolerance: 3.656e+06\n",
      "  model = cd_fast.enet_coordinate_descent(\n",
      "C:\\Users\\hyoan\\anaconda3\\lib\\site-packages\\sklearn\\linear_model\\_coordinate_descent.py:647: ConvergenceWarning: Objective did not converge. You might want to increase the number of iterations, check the scale of the features or consider increasing regularisation. Duality gap: 1.931e+08, tolerance: 3.510e+06\n",
      "  model = cd_fast.enet_coordinate_descent(\n"
     ]
    },
    {
     "name": "stdout",
     "output_type": "stream",
     "text": [
      "4\n"
     ]
    },
    {
     "name": "stderr",
     "output_type": "stream",
     "text": [
      "C:\\Users\\hyoan\\anaconda3\\lib\\site-packages\\sklearn\\linear_model\\_coordinate_descent.py:647: ConvergenceWarning: Objective did not converge. You might want to increase the number of iterations, check the scale of the features or consider increasing regularisation. Duality gap: 1.397e+09, tolerance: 3.994e+06\n",
      "  model = cd_fast.enet_coordinate_descent(\n",
      "C:\\Users\\hyoan\\anaconda3\\lib\\site-packages\\sklearn\\linear_model\\_coordinate_descent.py:647: ConvergenceWarning: Objective did not converge. You might want to increase the number of iterations, check the scale of the features or consider increasing regularisation. Duality gap: 1.242e+09, tolerance: 3.667e+06\n",
      "  model = cd_fast.enet_coordinate_descent(\n",
      "C:\\Users\\hyoan\\anaconda3\\lib\\site-packages\\sklearn\\linear_model\\_coordinate_descent.py:647: ConvergenceWarning: Objective did not converge. You might want to increase the number of iterations, check the scale of the features or consider increasing regularisation. Duality gap: 1.379e+09, tolerance: 3.889e+06\n",
      "  model = cd_fast.enet_coordinate_descent(\n",
      "C:\\Users\\hyoan\\anaconda3\\lib\\site-packages\\sklearn\\linear_model\\_coordinate_descent.py:647: ConvergenceWarning: Objective did not converge. You might want to increase the number of iterations, check the scale of the features or consider increasing regularisation. Duality gap: 1.109e+09, tolerance: 3.656e+06\n",
      "  model = cd_fast.enet_coordinate_descent(\n",
      "C:\\Users\\hyoan\\anaconda3\\lib\\site-packages\\sklearn\\linear_model\\_coordinate_descent.py:647: ConvergenceWarning: Objective did not converge. You might want to increase the number of iterations, check the scale of the features or consider increasing regularisation. Duality gap: 1.270e+09, tolerance: 3.510e+06\n",
      "  model = cd_fast.enet_coordinate_descent(\n"
     ]
    },
    {
     "name": "stdout",
     "output_type": "stream",
     "text": [
      "9.102981779915218\n",
      "1\n",
      "2\n",
      "3\n"
     ]
    },
    {
     "name": "stderr",
     "output_type": "stream",
     "text": [
      "C:\\Users\\hyoan\\anaconda3\\lib\\site-packages\\sklearn\\linear_model\\_coordinate_descent.py:647: ConvergenceWarning: Objective did not converge. You might want to increase the number of iterations, check the scale of the features or consider increasing regularisation. Duality gap: 1.120e+08, tolerance: 3.994e+06\n",
      "  model = cd_fast.enet_coordinate_descent(\n",
      "C:\\Users\\hyoan\\anaconda3\\lib\\site-packages\\sklearn\\linear_model\\_coordinate_descent.py:647: ConvergenceWarning: Objective did not converge. You might want to increase the number of iterations, check the scale of the features or consider increasing regularisation. Duality gap: 4.278e+07, tolerance: 3.667e+06\n",
      "  model = cd_fast.enet_coordinate_descent(\n",
      "C:\\Users\\hyoan\\anaconda3\\lib\\site-packages\\sklearn\\linear_model\\_coordinate_descent.py:647: ConvergenceWarning: Objective did not converge. You might want to increase the number of iterations, check the scale of the features or consider increasing regularisation. Duality gap: 1.423e+07, tolerance: 3.889e+06\n",
      "  model = cd_fast.enet_coordinate_descent(\n",
      "C:\\Users\\hyoan\\anaconda3\\lib\\site-packages\\sklearn\\linear_model\\_coordinate_descent.py:647: ConvergenceWarning: Objective did not converge. You might want to increase the number of iterations, check the scale of the features or consider increasing regularisation. Duality gap: 1.032e+08, tolerance: 3.656e+06\n",
      "  model = cd_fast.enet_coordinate_descent(\n",
      "C:\\Users\\hyoan\\anaconda3\\lib\\site-packages\\sklearn\\linear_model\\_coordinate_descent.py:647: ConvergenceWarning: Objective did not converge. You might want to increase the number of iterations, check the scale of the features or consider increasing regularisation. Duality gap: 1.150e+08, tolerance: 3.510e+06\n",
      "  model = cd_fast.enet_coordinate_descent(\n"
     ]
    },
    {
     "name": "stdout",
     "output_type": "stream",
     "text": [
      "4\n"
     ]
    },
    {
     "name": "stderr",
     "output_type": "stream",
     "text": [
      "C:\\Users\\hyoan\\anaconda3\\lib\\site-packages\\sklearn\\linear_model\\_coordinate_descent.py:647: ConvergenceWarning: Objective did not converge. You might want to increase the number of iterations, check the scale of the features or consider increasing regularisation. Duality gap: 1.197e+09, tolerance: 3.994e+06\n",
      "  model = cd_fast.enet_coordinate_descent(\n",
      "C:\\Users\\hyoan\\anaconda3\\lib\\site-packages\\sklearn\\linear_model\\_coordinate_descent.py:647: ConvergenceWarning: Objective did not converge. You might want to increase the number of iterations, check the scale of the features or consider increasing regularisation. Duality gap: 1.253e+09, tolerance: 3.667e+06\n",
      "  model = cd_fast.enet_coordinate_descent(\n",
      "C:\\Users\\hyoan\\anaconda3\\lib\\site-packages\\sklearn\\linear_model\\_coordinate_descent.py:647: ConvergenceWarning: Objective did not converge. You might want to increase the number of iterations, check the scale of the features or consider increasing regularisation. Duality gap: 1.154e+09, tolerance: 3.889e+06\n",
      "  model = cd_fast.enet_coordinate_descent(\n",
      "C:\\Users\\hyoan\\anaconda3\\lib\\site-packages\\sklearn\\linear_model\\_coordinate_descent.py:647: ConvergenceWarning: Objective did not converge. You might want to increase the number of iterations, check the scale of the features or consider increasing regularisation. Duality gap: 1.021e+09, tolerance: 3.656e+06\n",
      "  model = cd_fast.enet_coordinate_descent(\n",
      "C:\\Users\\hyoan\\anaconda3\\lib\\site-packages\\sklearn\\linear_model\\_coordinate_descent.py:647: ConvergenceWarning: Objective did not converge. You might want to increase the number of iterations, check the scale of the features or consider increasing regularisation. Duality gap: 1.322e+09, tolerance: 3.510e+06\n",
      "  model = cd_fast.enet_coordinate_descent(\n"
     ]
    },
    {
     "name": "stdout",
     "output_type": "stream",
     "text": [
      "10.0\n",
      "1\n",
      "2\n",
      "3\n"
     ]
    },
    {
     "name": "stderr",
     "output_type": "stream",
     "text": [
      "C:\\Users\\hyoan\\anaconda3\\lib\\site-packages\\sklearn\\linear_model\\_coordinate_descent.py:647: ConvergenceWarning: Objective did not converge. You might want to increase the number of iterations, check the scale of the features or consider increasing regularisation. Duality gap: 4.087e+07, tolerance: 3.994e+06\n",
      "  model = cd_fast.enet_coordinate_descent(\n",
      "C:\\Users\\hyoan\\anaconda3\\lib\\site-packages\\sklearn\\linear_model\\_coordinate_descent.py:647: ConvergenceWarning: Objective did not converge. You might want to increase the number of iterations, check the scale of the features or consider increasing regularisation. Duality gap: 4.284e+07, tolerance: 3.667e+06\n",
      "  model = cd_fast.enet_coordinate_descent(\n",
      "C:\\Users\\hyoan\\anaconda3\\lib\\site-packages\\sklearn\\linear_model\\_coordinate_descent.py:647: ConvergenceWarning: Objective did not converge. You might want to increase the number of iterations, check the scale of the features or consider increasing regularisation. Duality gap: 1.621e+07, tolerance: 3.889e+06\n",
      "  model = cd_fast.enet_coordinate_descent(\n",
      "C:\\Users\\hyoan\\anaconda3\\lib\\site-packages\\sklearn\\linear_model\\_coordinate_descent.py:647: ConvergenceWarning: Objective did not converge. You might want to increase the number of iterations, check the scale of the features or consider increasing regularisation. Duality gap: 3.508e+07, tolerance: 3.656e+06\n",
      "  model = cd_fast.enet_coordinate_descent(\n",
      "C:\\Users\\hyoan\\anaconda3\\lib\\site-packages\\sklearn\\linear_model\\_coordinate_descent.py:647: ConvergenceWarning: Objective did not converge. You might want to increase the number of iterations, check the scale of the features or consider increasing regularisation. Duality gap: 9.486e+07, tolerance: 3.510e+06\n",
      "  model = cd_fast.enet_coordinate_descent(\n"
     ]
    },
    {
     "name": "stdout",
     "output_type": "stream",
     "text": [
      "4\n"
     ]
    },
    {
     "name": "stderr",
     "output_type": "stream",
     "text": [
      "C:\\Users\\hyoan\\anaconda3\\lib\\site-packages\\sklearn\\linear_model\\_coordinate_descent.py:647: ConvergenceWarning: Objective did not converge. You might want to increase the number of iterations, check the scale of the features or consider increasing regularisation. Duality gap: 9.382e+08, tolerance: 3.994e+06\n",
      "  model = cd_fast.enet_coordinate_descent(\n",
      "C:\\Users\\hyoan\\anaconda3\\lib\\site-packages\\sklearn\\linear_model\\_coordinate_descent.py:647: ConvergenceWarning: Objective did not converge. You might want to increase the number of iterations, check the scale of the features or consider increasing regularisation. Duality gap: 1.059e+09, tolerance: 3.667e+06\n",
      "  model = cd_fast.enet_coordinate_descent(\n",
      "C:\\Users\\hyoan\\anaconda3\\lib\\site-packages\\sklearn\\linear_model\\_coordinate_descent.py:647: ConvergenceWarning: Objective did not converge. You might want to increase the number of iterations, check the scale of the features or consider increasing regularisation. Duality gap: 1.083e+09, tolerance: 3.889e+06\n",
      "  model = cd_fast.enet_coordinate_descent(\n",
      "C:\\Users\\hyoan\\anaconda3\\lib\\site-packages\\sklearn\\linear_model\\_coordinate_descent.py:647: ConvergenceWarning: Objective did not converge. You might want to increase the number of iterations, check the scale of the features or consider increasing regularisation. Duality gap: 1.066e+09, tolerance: 3.656e+06\n",
      "  model = cd_fast.enet_coordinate_descent(\n"
     ]
    },
    {
     "name": "stdout",
     "output_type": "stream",
     "text": [
      "Best score on validation set: 0.7552897\n",
      "Best hyperparameters: {'alpha': 10.0, 'degree': 4}\n"
     ]
    },
    {
     "name": "stderr",
     "output_type": "stream",
     "text": [
      "C:\\Users\\hyoan\\anaconda3\\lib\\site-packages\\sklearn\\linear_model\\_coordinate_descent.py:647: ConvergenceWarning: Objective did not converge. You might want to increase the number of iterations, check the scale of the features or consider increasing regularisation. Duality gap: 1.172e+09, tolerance: 3.510e+06\n",
      "  model = cd_fast.enet_coordinate_descent(\n"
     ]
    }
   ],
   "source": [
    "kfold = KFold(n_splits=5, shuffle=True, random_state=0)\n",
    "\n",
    "scaler = StandardScaler()\n",
    "\n",
    "\n",
    "best_r2=0\n",
    "\n",
    "for alpha in np.logspace(-1, 1, 50): # candidates for alpha\n",
    "    \n",
    "    print(alpha)\n",
    "    \n",
    "    r2_val = []\n",
    "    maxdegree=5\n",
    "    \n",
    "    for d in range(1,maxdegree):\n",
    "        \n",
    "        print(d)\n",
    "        \n",
    "        alpha_settings.append(alpha)\n",
    "        d_settings.append(d)\n",
    "            \n",
    "        poly = PolynomialFeatures(degree=d,include_bias=False)\n",
    "            \n",
    "        for train_idx, val_idx in kfold.split(x_trainval, y_trainval):\n",
    "            \n",
    "            x_train = x_trainval.iloc[train_idx]\n",
    "            y_train = y_trainval.iloc[train_idx]\n",
    "            x_val = x_trainval.iloc[val_idx]\n",
    "            y_val = y_trainval.iloc[val_idx]\n",
    "\n",
    "            x_train_cat = x_train[['계절']]\n",
    "            x_train_num = x_train[['평균기온(℃)', '최저기온(℃)', '최고기온(℃)', '강수량(mm)', '생산면적 (ha)', '생산량 (톤)', '소비자물가지수', '수출액($1000)', '수출량(kg)', '수입액($1000)', '수입량(kg)']]\n",
    "\n",
    "            x_val_cat = x_val[['계절']]\n",
    "            x_val_num = x_val[['평균기온(℃)', '최저기온(℃)', '최고기온(℃)', '강수량(mm)', '생산면적 (ha)', '생산량 (톤)', '소비자물가지수', '수출액($1000)', '수출량(kg)', '수입액($1000)', '수입량(kg)']]\n",
    "\n",
    "\n",
    "            # For x_train_cat and x_val_cat, apply onehotencoding\n",
    "            ohe = OneHotEncoder(sparse=False)\n",
    "            ohe.fit(x_train_cat)\n",
    "\n",
    "            x_train_cat_ohe = ohe.transform(x_train_cat)\n",
    "            x_val_cat_ohe = ohe.transform(x_val_cat)\n",
    "\n",
    "\n",
    "            # For x_train_num and x_val_num, apply standardscaler\n",
    "            scaler = StandardScaler()\n",
    "            scaler.fit(x_train_num)\n",
    "\n",
    "            x_train_num_scaled = scaler.transform(x_train_num)\n",
    "            x_val_num_scaled = scaler.transform(x_val_num)\n",
    "\n",
    "            poly.fit(x_train_num_scaled)\n",
    "            x_train_poly = poly.transform(x_train_num_scaled)\n",
    "            x_val_poly = poly.transform(x_val_num_scaled)\n",
    "        \n",
    "        \n",
    "            # concatenate them agin into x_train and X_val. \n",
    "            x_train_trans = np.concatenate([x_train_cat_ohe, x_train_poly], axis=1)\n",
    "            x_val_trans = np.concatenate([x_val_cat_ohe, x_val_poly], axis=1)\n",
    "\n",
    "\n",
    "            # training is performed with the Lasso set to the current alpha.\n",
    "            lasso = Lasso(alpha = alpha, random_state=0, max_iter=10000)\n",
    "            lasso.fit(x_train_trans, y_train)\n",
    "\n",
    "            # get y_valid_hat with the trained model & store r2 score in scores_val\n",
    "            y_val_hat= lasso.predict(x_val_trans)\n",
    "\n",
    "            # store r2 score,mse\n",
    "            r2_val.append(r2_score(y_val, y_val_hat))\n",
    "        \n",
    "        mean_r2 = np.mean(r2_val) # get the cross-validation score\n",
    "    \n",
    "        # When the mean_score is higher than current best score,best_score is updated and the hyperparameter at that time is saved\n",
    "        if mean_r2 > best_r2:        \n",
    "            best_r2 = mean_r2\n",
    "            best_parameters = {'alpha': alpha,'degree': d}\n",
    "\n",
    "print(\"Best score on validation set: {:.7f}\".format(best_r2))\n",
    "print(\"Best hyperparameters: {}\".format(best_parameters))"
   ]
  },
  {
   "cell_type": "code",
   "execution_count": 19,
   "id": "2be59bf8",
   "metadata": {},
   "outputs": [],
   "source": [
    "x_trainval_cat = x_trainval[['계절']]\n",
    "x_trainval_num = x_trainval[['평균기온(℃)', '최저기온(℃)', '최고기온(℃)', '강수량(mm)', '생산면적 (ha)', '생산량 (톤)', '소비자물가지수', '수출액($1000)', '수출량(kg)', '수입액($1000)', '수입량(kg)']]\n",
    "        \n",
    "x_test_cat = x_test[['계절']]\n",
    "x_test_num = x_test[['평균기온(℃)', '최저기온(℃)', '최고기온(℃)', '강수량(mm)', '생산면적 (ha)', '생산량 (톤)', '소비자물가지수', '수출액($1000)', '수출량(kg)', '수입액($1000)', '수입량(kg)']]"
   ]
  },
  {
   "cell_type": "code",
   "execution_count": 20,
   "id": "94ef9c0a",
   "metadata": {},
   "outputs": [],
   "source": [
    "ohe = OneHotEncoder(sparse=False)\n",
    "ohe.fit(x_trainval_cat)\n",
    "\n",
    "x_trainval_cat_ohe = ohe.transform(x_trainval_cat)\n",
    "x_test_cat_ohe = ohe.transform(x_test_cat)"
   ]
  },
  {
   "cell_type": "code",
   "execution_count": 21,
   "id": "c31cced0",
   "metadata": {},
   "outputs": [],
   "source": [
    "scaler = StandardScaler()\n",
    "\n",
    "scaler.fit(x_trainval_num)\n",
    "\n",
    "x_trainval_num_scaled = scaler.transform(x_trainval_num)\n",
    "x_test_num_scaled = scaler.transform(x_test_num)\n",
    "\n",
    "poly = PolynomialFeatures(degree=4,include_bias=False)\n",
    "\n",
    "poly.fit(x_trainval_num_scaled)\n",
    "\n",
    "x_trainval_poly = poly.transform(x_trainval_num_scaled)\n",
    "x_test_poly = poly.transform(x_test_num_scaled)"
   ]
  },
  {
   "cell_type": "code",
   "execution_count": 22,
   "id": "11d630f1",
   "metadata": {},
   "outputs": [],
   "source": [
    "x_trainval_trans = np.concatenate([x_trainval_cat_ohe, x_trainval_poly], axis=1)\n",
    "x_test_trans = np.concatenate([x_test_cat_ohe, x_test_poly], axis=1)"
   ]
  },
  {
   "cell_type": "code",
   "execution_count": 24,
   "id": "077649f1",
   "metadata": {},
   "outputs": [
    {
     "name": "stdout",
     "output_type": "stream",
     "text": [
      "Test-set score: 0.8709727352447184\n"
     ]
    },
    {
     "name": "stderr",
     "output_type": "stream",
     "text": [
      "C:\\Users\\hyoan\\anaconda3\\lib\\site-packages\\sklearn\\linear_model\\_coordinate_descent.py:647: ConvergenceWarning: Objective did not converge. You might want to increase the number of iterations, check the scale of the features or consider increasing regularisation. Duality gap: 1.166e+09, tolerance: 4.680e+06\n",
      "  model = cd_fast.enet_coordinate_descent(\n"
     ]
    }
   ],
   "source": [
    "lasso = Lasso(alpha = 10, random_state=0, max_iter=10000)\n",
    "lasso.fit(x_trainval_trans, y_trainval)\n",
    "\n",
    "y_test_hat = lasso.predict(x_test_trans)\n",
    "\n",
    "test_score = r2_score(y_test, y_test_hat)\n",
    "\n",
    "print(\"Test-set score:\", test_score)"
   ]
  }
 ],
 "metadata": {
  "kernelspec": {
   "display_name": "Python 3 (ipykernel)",
   "language": "python",
   "name": "python3"
  },
  "language_info": {
   "codemirror_mode": {
    "name": "ipython",
    "version": 3
   },
   "file_extension": ".py",
   "mimetype": "text/x-python",
   "name": "python",
   "nbconvert_exporter": "python",
   "pygments_lexer": "ipython3",
   "version": "3.8.12"
  }
 },
 "nbformat": 4,
 "nbformat_minor": 5
}
